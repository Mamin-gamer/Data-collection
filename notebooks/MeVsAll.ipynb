{
 "cells": [
  {
   "cell_type": "code",
   "execution_count": 12,
   "metadata": {},
   "outputs": [],
   "source": [
    "import pandas as pd\n",
    "import numpy as np\n",
    "import matplotlib.pyplot as plt\n",
    "import seaborn as sns\n",
    "from dotenv import load_dotenv, find_dotenv\n",
    "import os\n",
    "from datetime import date, timedelta\n",
    "import plotly.express as px\n",
    "\n",
    "pd.set_option(\"display.max_columns\", None)\n"
   ]
  },
  {
   "cell_type": "code",
   "execution_count": 3,
   "metadata": {},
   "outputs": [],
   "source": [
    "dotenv_path = find_dotenv()\n",
    "load_dotenv(dotenv_path)\n",
    "FACEIT_PLAYERID = os.environ.get(\"FACEIT_PLAYERID\")\n"
   ]
  },
  {
   "cell_type": "code",
   "execution_count": 4,
   "metadata": {},
   "outputs": [],
   "source": [
    "DF_all = pd.read_pickle(\"./AllDatabz2.pkl\", compression=\"bz2\")\n"
   ]
  },
  {
   "cell_type": "code",
   "execution_count": 5,
   "metadata": {},
   "outputs": [],
   "source": [
    "Map_names = ['de_cache', 'de_cbble', 'de_dust2', 'de_inferno', 'de_mirage','de_nuke', 'de_overpass', 'de_train']"
   ]
  },
  {
   "cell_type": "code",
   "execution_count": 6,
   "metadata": {},
   "outputs": [],
   "source": [
    "DF_all = DF_all[DF_all['Map'].isin(Map_names)]\n",
    "DF_all[\"K/D\"] = DF_all[\"Kills\"] / DF_all[\"Deaths\"]\n",
    "DF_all[\"K/A\"] = DF_all[\"Kills\"] / DF_all[\"Assists\"]\n",
    "DF_all = DF_all.query(\"Rounds > 16\")\n",
    "DF_all = DF_all[~DF_all[\"K/D\"].isin([np.inf, -np.inf, np.nan])]\n",
    "DF_all = DF_all[~DF_all[\"K/A\"].isin([np.inf, -np.inf, np.nan])]\n",
    "\n"
   ]
  },
  {
   "cell_type": "code",
   "execution_count": 21,
   "metadata": {},
   "outputs": [],
   "source": [
    "def count_wins(x):\n",
    "    wins = x.value_counts().get(\"Win\")\n",
    "    if wins:\n",
    "        return wins\n",
    "    else:\n",
    "        return 0"
   ]
  },
  {
   "cell_type": "code",
   "execution_count": 22,
   "metadata": {},
   "outputs": [],
   "source": [
    "q_low = DF_all[\"Kills\"].quantile(0.01)\n",
    "q_hi = DF_all[\"Kills\"].quantile(0.99)\n",
    "\n",
    "DF_all = DF_all[(DF_all[\"Kills\"] < q_hi) & (DF_all[\"Kills\"] > q_low)]"
   ]
  },
  {
   "cell_type": "code",
   "execution_count": 23,
   "metadata": {},
   "outputs": [],
   "source": [
    "DF_me = DF_all.query(\"PlayerId == @FACEIT_PLAYERID\")\n",
    "DF_others:pd.DataFrame = DF_all.query(\"PlayerId != @FACEIT_PLAYERID\")"
   ]
  },
  {
   "cell_type": "code",
   "execution_count": 25,
   "metadata": {},
   "outputs": [],
   "source": [
    "Maps = (\n",
    "    DF_others.groupby(by=[\"Map\"])\n",
    "    .aggregate(\n",
    "        {\n",
    "            \"Kills\": \"sum\",\n",
    "            \"Deaths\": \"sum\",\n",
    "            \"Mvps\": \"sum\",\n",
    "            \"Map\": \"count\",\n",
    "            \"Headshots%\": \"mean\",\n",
    "            \"Result\": lambda x: count_wins(x), \n",
    "        }\n",
    "    )\n",
    "    .rename({\"Map\": \"TimesPlayed\"}, axis=1)\n",
    ")\n"
   ]
  },
  {
   "cell_type": "code",
   "execution_count": null,
   "metadata": {},
   "outputs": [],
   "source": [
    "fig = px.bar(Maps, y=\"TimesPlayed\", x=Maps.index,\n",
    "            text_auto = \".2s\",\n",
    "\n",
    "             \n",
    "            title=\"Most played maps for other players from Faceit\"\n",
    "            )\n",
    "fig.update_layout(xaxis_tickangle=-30)\n",
    "\n",
    "fig.show()"
   ]
  },
  {
   "cell_type": "code",
   "execution_count": null,
   "metadata": {},
   "outputs": [],
   "source": []
  },
  {
   "cell_type": "code",
   "execution_count": null,
   "metadata": {},
   "outputs": [],
   "source": []
  }
 ],
 "metadata": {
  "kernelspec": {
   "display_name": "Python 3",
   "language": "python",
   "name": "python3"
  },
  "language_info": {
   "codemirror_mode": {
    "name": "ipython",
    "version": 3
   },
   "file_extension": ".py",
   "mimetype": "text/x-python",
   "name": "python",
   "nbconvert_exporter": "python",
   "pygments_lexer": "ipython3",
   "version": "3.9.2"
  }
 },
 "nbformat": 4,
 "nbformat_minor": 2
}
