{
 "cells": [
  {
   "cell_type": "code",
   "execution_count": 1,
   "metadata": {},
   "outputs": [],
   "source": [
    "import pandas as pd\n",
    "import numpy as np\n",
    "import matplotlib.pyplot as plt\n",
    "import seaborn as sns\n",
    "from dotenv import load_dotenv, find_dotenv\n",
    "import os\n",
    "from datetime import date, timedelta\n",
    "import plotly.express as px\n",
    "\n",
    "pd.set_option(\"display.max_columns\", None)\n"
   ]
  },
  {
   "cell_type": "code",
   "execution_count": 2,
   "metadata": {},
   "outputs": [],
   "source": [
    "dotenv_path = find_dotenv()\n",
    "load_dotenv(dotenv_path)\n",
    "FACEIT_PLAYERID = os.environ.get(\"FACEIT_PLAYERID\")\n"
   ]
  },
  {
   "cell_type": "code",
   "execution_count": 3,
   "metadata": {},
   "outputs": [],
   "source": [
    "DF_all = pd.read_pickle(\"./AllDatabz2.pkl\", compression=\"bz2\")\n"
   ]
  },
  {
   "cell_type": "code",
   "execution_count": 4,
   "metadata": {},
   "outputs": [],
   "source": [
    "Map_names = ['de_cache', 'de_cbble', 'de_dust2', 'de_inferno', 'de_mirage','de_nuke', 'de_overpass', 'de_train']"
   ]
  },
  {
   "cell_type": "code",
   "execution_count": 5,
   "metadata": {},
   "outputs": [],
   "source": [
    "DF_all = DF_all[DF_all['Map'].isin(Map_names)]\n",
    "DF_all[\"K/D\"] = DF_all[\"Kills\"] / DF_all[\"Deaths\"]\n",
    "DF_all[\"K/A\"] = DF_all[\"Kills\"] / DF_all[\"Assists\"]\n",
    "DF_all = DF_all.query(\"Rounds > 16\")\n",
    "DF_all = DF_all[~DF_all[\"K/D\"].isin([np.inf, -np.inf, np.nan])]\n",
    "DF_all = DF_all[~DF_all[\"K/A\"].isin([np.inf, -np.inf, np.nan])]\n",
    "\n"
   ]
  },
  {
   "cell_type": "code",
   "execution_count": 6,
   "metadata": {},
   "outputs": [],
   "source": [
    "def count_wins(x):\n",
    "    wins = x.value_counts().get(\"Win\")\n",
    "    if wins:\n",
    "        return wins\n",
    "    else:\n",
    "        return 0"
   ]
  },
  {
   "cell_type": "code",
   "execution_count": 7,
   "metadata": {},
   "outputs": [],
   "source": [
    "q_low = DF_all[\"Kills\"].quantile(0.01)\n",
    "q_hi = DF_all[\"Kills\"].quantile(0.99)\n",
    "\n",
    "DF_all = DF_all[(DF_all[\"Kills\"] < q_hi) & (DF_all[\"Kills\"] > q_low)]"
   ]
  },
  {
   "cell_type": "code",
   "execution_count": 8,
   "metadata": {},
   "outputs": [],
   "source": [
    "DF_me = DF_all.query(\"PlayerId == @FACEIT_PLAYERID\")\n",
    "DF_others:pd.DataFrame = DF_all.query(\"PlayerId != @FACEIT_PLAYERID\")"
   ]
  },
  {
   "cell_type": "code",
   "execution_count": 9,
   "metadata": {},
   "outputs": [
    {
     "name": "stderr",
     "output_type": "stream",
     "text": [
      "C:\\Users\\dima1\\AppData\\Local\\Temp\\ipykernel_33552\\2280133688.py:1: SettingWithCopyWarning: \n",
      "A value is trying to be set on a copy of a slice from a DataFrame.\n",
      "Try using .loc[row_indexer,col_indexer] = value instead\n",
      "\n",
      "See the caveats in the documentation: https://pandas.pydata.org/pandas-docs/stable/user_guide/indexing.html#returning-a-view-versus-a-copy\n",
      "  DF_me[\"index\"] = np.arange(len(DF_me))\n"
     ]
    }
   ],
   "source": [
    "DF_me[\"index\"] = np.arange(len(DF_me))"
   ]
  },
  {
   "cell_type": "code",
   "execution_count": 10,
   "metadata": {},
   "outputs": [],
   "source": [
    "Maps_others = (\n",
    "    DF_others.groupby(by=\"Map\")\n",
    "    .aggregate(\n",
    "        {\n",
    "            \"Kills\": \"sum\",\n",
    "            \"Deaths\": \"sum\",\n",
    "            \"Mvps\": \"sum\",\n",
    "            \"Map\": \"count\",\n",
    "            \"Headshots%\": \"mean\",\n",
    "            \"Result\": lambda x: count_wins(x), \n",
    "        }\n",
    "    )\n",
    "    .rename({\"Map\": \"TimesPlayed\"}, axis=1)\n",
    ")\n",
    "\n",
    "Maps_me = (\n",
    "    DF_me.groupby(by=\"Map\")\n",
    "    .aggregate(\n",
    "        {\n",
    "            \"Kills\": \"sum\",\n",
    "            \"Deaths\": \"sum\",\n",
    "            \"Mvps\": \"sum\",\n",
    "            \"Map\": \"count\",\n",
    "            \"Headshots%\": \"mean\",\n",
    "            \"Result\": lambda x: count_wins(x), \n",
    "        }\n",
    "    )\n",
    "    .rename({\"Map\": \"TimesPlayed\"}, axis=1)\n",
    ")\n"
   ]
  },
  {
   "cell_type": "code",
   "execution_count": 11,
   "metadata": {},
   "outputs": [
    {
     "data": {
      "application/vnd.plotly.v1+json": {
       "config": {
        "plotlyServerURL": "https://plot.ly"
       },
       "data": [
        {
         "alignmentgroup": "True",
         "hovertemplate": "Map=%{x}<br>TimesPlayed=%{y}<extra></extra>",
         "legendgroup": "",
         "marker": {
          "color": "#636efa",
          "pattern": {
           "shape": ""
          }
         },
         "name": "",
         "offsetgroup": "",
         "orientation": "v",
         "showlegend": false,
         "textposition": "auto",
         "texttemplate": "%{y:.2s}",
         "type": "bar",
         "x": [
          "de_cbble",
          "de_nuke",
          "de_train",
          "de_overpass",
          "de_cache",
          "de_dust2",
          "de_inferno",
          "de_mirage"
         ],
         "xaxis": "x",
         "y": [
          4867,
          13417,
          20937,
          34168,
          37537,
          44239,
          61019,
          119011
         ],
         "yaxis": "y"
        }
       ],
       "layout": {
        "barmode": "relative",
        "legend": {
         "tracegroupgap": 0
        },
        "template": {
         "data": {
          "bar": [
           {
            "error_x": {
             "color": "#2a3f5f"
            },
            "error_y": {
             "color": "#2a3f5f"
            },
            "marker": {
             "line": {
              "color": "#E5ECF6",
              "width": 0.5
             },
             "pattern": {
              "fillmode": "overlay",
              "size": 10,
              "solidity": 0.2
             }
            },
            "type": "bar"
           }
          ],
          "barpolar": [
           {
            "marker": {
             "line": {
              "color": "#E5ECF6",
              "width": 0.5
             },
             "pattern": {
              "fillmode": "overlay",
              "size": 10,
              "solidity": 0.2
             }
            },
            "type": "barpolar"
           }
          ],
          "carpet": [
           {
            "aaxis": {
             "endlinecolor": "#2a3f5f",
             "gridcolor": "white",
             "linecolor": "white",
             "minorgridcolor": "white",
             "startlinecolor": "#2a3f5f"
            },
            "baxis": {
             "endlinecolor": "#2a3f5f",
             "gridcolor": "white",
             "linecolor": "white",
             "minorgridcolor": "white",
             "startlinecolor": "#2a3f5f"
            },
            "type": "carpet"
           }
          ],
          "choropleth": [
           {
            "colorbar": {
             "outlinewidth": 0,
             "ticks": ""
            },
            "type": "choropleth"
           }
          ],
          "contour": [
           {
            "colorbar": {
             "outlinewidth": 0,
             "ticks": ""
            },
            "colorscale": [
             [
              0,
              "#0d0887"
             ],
             [
              0.1111111111111111,
              "#46039f"
             ],
             [
              0.2222222222222222,
              "#7201a8"
             ],
             [
              0.3333333333333333,
              "#9c179e"
             ],
             [
              0.4444444444444444,
              "#bd3786"
             ],
             [
              0.5555555555555556,
              "#d8576b"
             ],
             [
              0.6666666666666666,
              "#ed7953"
             ],
             [
              0.7777777777777778,
              "#fb9f3a"
             ],
             [
              0.8888888888888888,
              "#fdca26"
             ],
             [
              1,
              "#f0f921"
             ]
            ],
            "type": "contour"
           }
          ],
          "contourcarpet": [
           {
            "colorbar": {
             "outlinewidth": 0,
             "ticks": ""
            },
            "type": "contourcarpet"
           }
          ],
          "heatmap": [
           {
            "colorbar": {
             "outlinewidth": 0,
             "ticks": ""
            },
            "colorscale": [
             [
              0,
              "#0d0887"
             ],
             [
              0.1111111111111111,
              "#46039f"
             ],
             [
              0.2222222222222222,
              "#7201a8"
             ],
             [
              0.3333333333333333,
              "#9c179e"
             ],
             [
              0.4444444444444444,
              "#bd3786"
             ],
             [
              0.5555555555555556,
              "#d8576b"
             ],
             [
              0.6666666666666666,
              "#ed7953"
             ],
             [
              0.7777777777777778,
              "#fb9f3a"
             ],
             [
              0.8888888888888888,
              "#fdca26"
             ],
             [
              1,
              "#f0f921"
             ]
            ],
            "type": "heatmap"
           }
          ],
          "heatmapgl": [
           {
            "colorbar": {
             "outlinewidth": 0,
             "ticks": ""
            },
            "colorscale": [
             [
              0,
              "#0d0887"
             ],
             [
              0.1111111111111111,
              "#46039f"
             ],
             [
              0.2222222222222222,
              "#7201a8"
             ],
             [
              0.3333333333333333,
              "#9c179e"
             ],
             [
              0.4444444444444444,
              "#bd3786"
             ],
             [
              0.5555555555555556,
              "#d8576b"
             ],
             [
              0.6666666666666666,
              "#ed7953"
             ],
             [
              0.7777777777777778,
              "#fb9f3a"
             ],
             [
              0.8888888888888888,
              "#fdca26"
             ],
             [
              1,
              "#f0f921"
             ]
            ],
            "type": "heatmapgl"
           }
          ],
          "histogram": [
           {
            "marker": {
             "pattern": {
              "fillmode": "overlay",
              "size": 10,
              "solidity": 0.2
             }
            },
            "type": "histogram"
           }
          ],
          "histogram2d": [
           {
            "colorbar": {
             "outlinewidth": 0,
             "ticks": ""
            },
            "colorscale": [
             [
              0,
              "#0d0887"
             ],
             [
              0.1111111111111111,
              "#46039f"
             ],
             [
              0.2222222222222222,
              "#7201a8"
             ],
             [
              0.3333333333333333,
              "#9c179e"
             ],
             [
              0.4444444444444444,
              "#bd3786"
             ],
             [
              0.5555555555555556,
              "#d8576b"
             ],
             [
              0.6666666666666666,
              "#ed7953"
             ],
             [
              0.7777777777777778,
              "#fb9f3a"
             ],
             [
              0.8888888888888888,
              "#fdca26"
             ],
             [
              1,
              "#f0f921"
             ]
            ],
            "type": "histogram2d"
           }
          ],
          "histogram2dcontour": [
           {
            "colorbar": {
             "outlinewidth": 0,
             "ticks": ""
            },
            "colorscale": [
             [
              0,
              "#0d0887"
             ],
             [
              0.1111111111111111,
              "#46039f"
             ],
             [
              0.2222222222222222,
              "#7201a8"
             ],
             [
              0.3333333333333333,
              "#9c179e"
             ],
             [
              0.4444444444444444,
              "#bd3786"
             ],
             [
              0.5555555555555556,
              "#d8576b"
             ],
             [
              0.6666666666666666,
              "#ed7953"
             ],
             [
              0.7777777777777778,
              "#fb9f3a"
             ],
             [
              0.8888888888888888,
              "#fdca26"
             ],
             [
              1,
              "#f0f921"
             ]
            ],
            "type": "histogram2dcontour"
           }
          ],
          "mesh3d": [
           {
            "colorbar": {
             "outlinewidth": 0,
             "ticks": ""
            },
            "type": "mesh3d"
           }
          ],
          "parcoords": [
           {
            "line": {
             "colorbar": {
              "outlinewidth": 0,
              "ticks": ""
             }
            },
            "type": "parcoords"
           }
          ],
          "pie": [
           {
            "automargin": true,
            "type": "pie"
           }
          ],
          "scatter": [
           {
            "fillpattern": {
             "fillmode": "overlay",
             "size": 10,
             "solidity": 0.2
            },
            "type": "scatter"
           }
          ],
          "scatter3d": [
           {
            "line": {
             "colorbar": {
              "outlinewidth": 0,
              "ticks": ""
             }
            },
            "marker": {
             "colorbar": {
              "outlinewidth": 0,
              "ticks": ""
             }
            },
            "type": "scatter3d"
           }
          ],
          "scattercarpet": [
           {
            "marker": {
             "colorbar": {
              "outlinewidth": 0,
              "ticks": ""
             }
            },
            "type": "scattercarpet"
           }
          ],
          "scattergeo": [
           {
            "marker": {
             "colorbar": {
              "outlinewidth": 0,
              "ticks": ""
             }
            },
            "type": "scattergeo"
           }
          ],
          "scattergl": [
           {
            "marker": {
             "colorbar": {
              "outlinewidth": 0,
              "ticks": ""
             }
            },
            "type": "scattergl"
           }
          ],
          "scattermapbox": [
           {
            "marker": {
             "colorbar": {
              "outlinewidth": 0,
              "ticks": ""
             }
            },
            "type": "scattermapbox"
           }
          ],
          "scatterpolar": [
           {
            "marker": {
             "colorbar": {
              "outlinewidth": 0,
              "ticks": ""
             }
            },
            "type": "scatterpolar"
           }
          ],
          "scatterpolargl": [
           {
            "marker": {
             "colorbar": {
              "outlinewidth": 0,
              "ticks": ""
             }
            },
            "type": "scatterpolargl"
           }
          ],
          "scatterternary": [
           {
            "marker": {
             "colorbar": {
              "outlinewidth": 0,
              "ticks": ""
             }
            },
            "type": "scatterternary"
           }
          ],
          "surface": [
           {
            "colorbar": {
             "outlinewidth": 0,
             "ticks": ""
            },
            "colorscale": [
             [
              0,
              "#0d0887"
             ],
             [
              0.1111111111111111,
              "#46039f"
             ],
             [
              0.2222222222222222,
              "#7201a8"
             ],
             [
              0.3333333333333333,
              "#9c179e"
             ],
             [
              0.4444444444444444,
              "#bd3786"
             ],
             [
              0.5555555555555556,
              "#d8576b"
             ],
             [
              0.6666666666666666,
              "#ed7953"
             ],
             [
              0.7777777777777778,
              "#fb9f3a"
             ],
             [
              0.8888888888888888,
              "#fdca26"
             ],
             [
              1,
              "#f0f921"
             ]
            ],
            "type": "surface"
           }
          ],
          "table": [
           {
            "cells": {
             "fill": {
              "color": "#EBF0F8"
             },
             "line": {
              "color": "white"
             }
            },
            "header": {
             "fill": {
              "color": "#C8D4E3"
             },
             "line": {
              "color": "white"
             }
            },
            "type": "table"
           }
          ]
         },
         "layout": {
          "annotationdefaults": {
           "arrowcolor": "#2a3f5f",
           "arrowhead": 0,
           "arrowwidth": 1
          },
          "autotypenumbers": "strict",
          "coloraxis": {
           "colorbar": {
            "outlinewidth": 0,
            "ticks": ""
           }
          },
          "colorscale": {
           "diverging": [
            [
             0,
             "#8e0152"
            ],
            [
             0.1,
             "#c51b7d"
            ],
            [
             0.2,
             "#de77ae"
            ],
            [
             0.3,
             "#f1b6da"
            ],
            [
             0.4,
             "#fde0ef"
            ],
            [
             0.5,
             "#f7f7f7"
            ],
            [
             0.6,
             "#e6f5d0"
            ],
            [
             0.7,
             "#b8e186"
            ],
            [
             0.8,
             "#7fbc41"
            ],
            [
             0.9,
             "#4d9221"
            ],
            [
             1,
             "#276419"
            ]
           ],
           "sequential": [
            [
             0,
             "#0d0887"
            ],
            [
             0.1111111111111111,
             "#46039f"
            ],
            [
             0.2222222222222222,
             "#7201a8"
            ],
            [
             0.3333333333333333,
             "#9c179e"
            ],
            [
             0.4444444444444444,
             "#bd3786"
            ],
            [
             0.5555555555555556,
             "#d8576b"
            ],
            [
             0.6666666666666666,
             "#ed7953"
            ],
            [
             0.7777777777777778,
             "#fb9f3a"
            ],
            [
             0.8888888888888888,
             "#fdca26"
            ],
            [
             1,
             "#f0f921"
            ]
           ],
           "sequentialminus": [
            [
             0,
             "#0d0887"
            ],
            [
             0.1111111111111111,
             "#46039f"
            ],
            [
             0.2222222222222222,
             "#7201a8"
            ],
            [
             0.3333333333333333,
             "#9c179e"
            ],
            [
             0.4444444444444444,
             "#bd3786"
            ],
            [
             0.5555555555555556,
             "#d8576b"
            ],
            [
             0.6666666666666666,
             "#ed7953"
            ],
            [
             0.7777777777777778,
             "#fb9f3a"
            ],
            [
             0.8888888888888888,
             "#fdca26"
            ],
            [
             1,
             "#f0f921"
            ]
           ]
          },
          "colorway": [
           "#636efa",
           "#EF553B",
           "#00cc96",
           "#ab63fa",
           "#FFA15A",
           "#19d3f3",
           "#FF6692",
           "#B6E880",
           "#FF97FF",
           "#FECB52"
          ],
          "font": {
           "color": "#2a3f5f"
          },
          "geo": {
           "bgcolor": "white",
           "lakecolor": "white",
           "landcolor": "#E5ECF6",
           "showlakes": true,
           "showland": true,
           "subunitcolor": "white"
          },
          "hoverlabel": {
           "align": "left"
          },
          "hovermode": "closest",
          "mapbox": {
           "style": "light"
          },
          "paper_bgcolor": "white",
          "plot_bgcolor": "#E5ECF6",
          "polar": {
           "angularaxis": {
            "gridcolor": "white",
            "linecolor": "white",
            "ticks": ""
           },
           "bgcolor": "#E5ECF6",
           "radialaxis": {
            "gridcolor": "white",
            "linecolor": "white",
            "ticks": ""
           }
          },
          "scene": {
           "xaxis": {
            "backgroundcolor": "#E5ECF6",
            "gridcolor": "white",
            "gridwidth": 2,
            "linecolor": "white",
            "showbackground": true,
            "ticks": "",
            "zerolinecolor": "white"
           },
           "yaxis": {
            "backgroundcolor": "#E5ECF6",
            "gridcolor": "white",
            "gridwidth": 2,
            "linecolor": "white",
            "showbackground": true,
            "ticks": "",
            "zerolinecolor": "white"
           },
           "zaxis": {
            "backgroundcolor": "#E5ECF6",
            "gridcolor": "white",
            "gridwidth": 2,
            "linecolor": "white",
            "showbackground": true,
            "ticks": "",
            "zerolinecolor": "white"
           }
          },
          "shapedefaults": {
           "line": {
            "color": "#2a3f5f"
           }
          },
          "ternary": {
           "aaxis": {
            "gridcolor": "white",
            "linecolor": "white",
            "ticks": ""
           },
           "baxis": {
            "gridcolor": "white",
            "linecolor": "white",
            "ticks": ""
           },
           "bgcolor": "#E5ECF6",
           "caxis": {
            "gridcolor": "white",
            "linecolor": "white",
            "ticks": ""
           }
          },
          "title": {
           "x": 0.05
          },
          "xaxis": {
           "automargin": true,
           "gridcolor": "white",
           "linecolor": "white",
           "ticks": "",
           "title": {
            "standoff": 15
           },
           "zerolinecolor": "white",
           "zerolinewidth": 2
          },
          "yaxis": {
           "automargin": true,
           "gridcolor": "white",
           "linecolor": "white",
           "ticks": "",
           "title": {
            "standoff": 15
           },
           "zerolinecolor": "white",
           "zerolinewidth": 2
          }
         }
        },
        "title": {
         "text": "Most played maps for other players from Faceit"
        },
        "xaxis": {
         "anchor": "y",
         "domain": [
          0,
          1
         ],
         "tickangle": -30,
         "title": {
          "text": "Map"
         }
        },
        "yaxis": {
         "anchor": "x",
         "domain": [
          0,
          1
         ],
         "title": {
          "text": "TimesPlayed"
         }
        }
       }
      }
     },
     "metadata": {},
     "output_type": "display_data"
    }
   ],
   "source": [
    "data = Maps_others.sort_values(by = \"TimesPlayed\")\n",
    "\n",
    "fig = px.bar(data, y=\"TimesPlayed\", x=data.index,\n",
    "            text_auto = \".2s\",\n",
    "            title=\"Most played maps for other players from Faceit\"\n",
    "            )\n",
    "fig.update_layout(xaxis_tickangle=-30)\n",
    "\n",
    "fig.show()"
   ]
  },
  {
   "cell_type": "code",
   "execution_count": 12,
   "metadata": {},
   "outputs": [
    {
     "data": {
      "application/vnd.plotly.v1+json": {
       "config": {
        "plotlyServerURL": "https://plot.ly"
       },
       "data": [
        {
         "alignmentgroup": "True",
         "hovertemplate": "Map=%{x}<br>TimesPlayed=%{y}<extra></extra>",
         "legendgroup": "",
         "marker": {
          "color": "#636efa",
          "pattern": {
           "shape": ""
          }
         },
         "name": "",
         "offsetgroup": "",
         "orientation": "v",
         "showlegend": false,
         "textposition": "auto",
         "texttemplate": "%{y:.2s}",
         "type": "bar",
         "x": [
          "de_nuke",
          "de_train",
          "de_cbble",
          "de_inferno",
          "de_overpass",
          "de_dust2",
          "de_cache",
          "de_mirage"
         ],
         "xaxis": "x",
         "y": [
          3,
          8,
          10,
          30,
          48,
          50,
          115,
          560
         ],
         "yaxis": "y"
        }
       ],
       "layout": {
        "barmode": "relative",
        "legend": {
         "tracegroupgap": 0
        },
        "template": {
         "data": {
          "bar": [
           {
            "error_x": {
             "color": "#2a3f5f"
            },
            "error_y": {
             "color": "#2a3f5f"
            },
            "marker": {
             "line": {
              "color": "#E5ECF6",
              "width": 0.5
             },
             "pattern": {
              "fillmode": "overlay",
              "size": 10,
              "solidity": 0.2
             }
            },
            "type": "bar"
           }
          ],
          "barpolar": [
           {
            "marker": {
             "line": {
              "color": "#E5ECF6",
              "width": 0.5
             },
             "pattern": {
              "fillmode": "overlay",
              "size": 10,
              "solidity": 0.2
             }
            },
            "type": "barpolar"
           }
          ],
          "carpet": [
           {
            "aaxis": {
             "endlinecolor": "#2a3f5f",
             "gridcolor": "white",
             "linecolor": "white",
             "minorgridcolor": "white",
             "startlinecolor": "#2a3f5f"
            },
            "baxis": {
             "endlinecolor": "#2a3f5f",
             "gridcolor": "white",
             "linecolor": "white",
             "minorgridcolor": "white",
             "startlinecolor": "#2a3f5f"
            },
            "type": "carpet"
           }
          ],
          "choropleth": [
           {
            "colorbar": {
             "outlinewidth": 0,
             "ticks": ""
            },
            "type": "choropleth"
           }
          ],
          "contour": [
           {
            "colorbar": {
             "outlinewidth": 0,
             "ticks": ""
            },
            "colorscale": [
             [
              0,
              "#0d0887"
             ],
             [
              0.1111111111111111,
              "#46039f"
             ],
             [
              0.2222222222222222,
              "#7201a8"
             ],
             [
              0.3333333333333333,
              "#9c179e"
             ],
             [
              0.4444444444444444,
              "#bd3786"
             ],
             [
              0.5555555555555556,
              "#d8576b"
             ],
             [
              0.6666666666666666,
              "#ed7953"
             ],
             [
              0.7777777777777778,
              "#fb9f3a"
             ],
             [
              0.8888888888888888,
              "#fdca26"
             ],
             [
              1,
              "#f0f921"
             ]
            ],
            "type": "contour"
           }
          ],
          "contourcarpet": [
           {
            "colorbar": {
             "outlinewidth": 0,
             "ticks": ""
            },
            "type": "contourcarpet"
           }
          ],
          "heatmap": [
           {
            "colorbar": {
             "outlinewidth": 0,
             "ticks": ""
            },
            "colorscale": [
             [
              0,
              "#0d0887"
             ],
             [
              0.1111111111111111,
              "#46039f"
             ],
             [
              0.2222222222222222,
              "#7201a8"
             ],
             [
              0.3333333333333333,
              "#9c179e"
             ],
             [
              0.4444444444444444,
              "#bd3786"
             ],
             [
              0.5555555555555556,
              "#d8576b"
             ],
             [
              0.6666666666666666,
              "#ed7953"
             ],
             [
              0.7777777777777778,
              "#fb9f3a"
             ],
             [
              0.8888888888888888,
              "#fdca26"
             ],
             [
              1,
              "#f0f921"
             ]
            ],
            "type": "heatmap"
           }
          ],
          "heatmapgl": [
           {
            "colorbar": {
             "outlinewidth": 0,
             "ticks": ""
            },
            "colorscale": [
             [
              0,
              "#0d0887"
             ],
             [
              0.1111111111111111,
              "#46039f"
             ],
             [
              0.2222222222222222,
              "#7201a8"
             ],
             [
              0.3333333333333333,
              "#9c179e"
             ],
             [
              0.4444444444444444,
              "#bd3786"
             ],
             [
              0.5555555555555556,
              "#d8576b"
             ],
             [
              0.6666666666666666,
              "#ed7953"
             ],
             [
              0.7777777777777778,
              "#fb9f3a"
             ],
             [
              0.8888888888888888,
              "#fdca26"
             ],
             [
              1,
              "#f0f921"
             ]
            ],
            "type": "heatmapgl"
           }
          ],
          "histogram": [
           {
            "marker": {
             "pattern": {
              "fillmode": "overlay",
              "size": 10,
              "solidity": 0.2
             }
            },
            "type": "histogram"
           }
          ],
          "histogram2d": [
           {
            "colorbar": {
             "outlinewidth": 0,
             "ticks": ""
            },
            "colorscale": [
             [
              0,
              "#0d0887"
             ],
             [
              0.1111111111111111,
              "#46039f"
             ],
             [
              0.2222222222222222,
              "#7201a8"
             ],
             [
              0.3333333333333333,
              "#9c179e"
             ],
             [
              0.4444444444444444,
              "#bd3786"
             ],
             [
              0.5555555555555556,
              "#d8576b"
             ],
             [
              0.6666666666666666,
              "#ed7953"
             ],
             [
              0.7777777777777778,
              "#fb9f3a"
             ],
             [
              0.8888888888888888,
              "#fdca26"
             ],
             [
              1,
              "#f0f921"
             ]
            ],
            "type": "histogram2d"
           }
          ],
          "histogram2dcontour": [
           {
            "colorbar": {
             "outlinewidth": 0,
             "ticks": ""
            },
            "colorscale": [
             [
              0,
              "#0d0887"
             ],
             [
              0.1111111111111111,
              "#46039f"
             ],
             [
              0.2222222222222222,
              "#7201a8"
             ],
             [
              0.3333333333333333,
              "#9c179e"
             ],
             [
              0.4444444444444444,
              "#bd3786"
             ],
             [
              0.5555555555555556,
              "#d8576b"
             ],
             [
              0.6666666666666666,
              "#ed7953"
             ],
             [
              0.7777777777777778,
              "#fb9f3a"
             ],
             [
              0.8888888888888888,
              "#fdca26"
             ],
             [
              1,
              "#f0f921"
             ]
            ],
            "type": "histogram2dcontour"
           }
          ],
          "mesh3d": [
           {
            "colorbar": {
             "outlinewidth": 0,
             "ticks": ""
            },
            "type": "mesh3d"
           }
          ],
          "parcoords": [
           {
            "line": {
             "colorbar": {
              "outlinewidth": 0,
              "ticks": ""
             }
            },
            "type": "parcoords"
           }
          ],
          "pie": [
           {
            "automargin": true,
            "type": "pie"
           }
          ],
          "scatter": [
           {
            "fillpattern": {
             "fillmode": "overlay",
             "size": 10,
             "solidity": 0.2
            },
            "type": "scatter"
           }
          ],
          "scatter3d": [
           {
            "line": {
             "colorbar": {
              "outlinewidth": 0,
              "ticks": ""
             }
            },
            "marker": {
             "colorbar": {
              "outlinewidth": 0,
              "ticks": ""
             }
            },
            "type": "scatter3d"
           }
          ],
          "scattercarpet": [
           {
            "marker": {
             "colorbar": {
              "outlinewidth": 0,
              "ticks": ""
             }
            },
            "type": "scattercarpet"
           }
          ],
          "scattergeo": [
           {
            "marker": {
             "colorbar": {
              "outlinewidth": 0,
              "ticks": ""
             }
            },
            "type": "scattergeo"
           }
          ],
          "scattergl": [
           {
            "marker": {
             "colorbar": {
              "outlinewidth": 0,
              "ticks": ""
             }
            },
            "type": "scattergl"
           }
          ],
          "scattermapbox": [
           {
            "marker": {
             "colorbar": {
              "outlinewidth": 0,
              "ticks": ""
             }
            },
            "type": "scattermapbox"
           }
          ],
          "scatterpolar": [
           {
            "marker": {
             "colorbar": {
              "outlinewidth": 0,
              "ticks": ""
             }
            },
            "type": "scatterpolar"
           }
          ],
          "scatterpolargl": [
           {
            "marker": {
             "colorbar": {
              "outlinewidth": 0,
              "ticks": ""
             }
            },
            "type": "scatterpolargl"
           }
          ],
          "scatterternary": [
           {
            "marker": {
             "colorbar": {
              "outlinewidth": 0,
              "ticks": ""
             }
            },
            "type": "scatterternary"
           }
          ],
          "surface": [
           {
            "colorbar": {
             "outlinewidth": 0,
             "ticks": ""
            },
            "colorscale": [
             [
              0,
              "#0d0887"
             ],
             [
              0.1111111111111111,
              "#46039f"
             ],
             [
              0.2222222222222222,
              "#7201a8"
             ],
             [
              0.3333333333333333,
              "#9c179e"
             ],
             [
              0.4444444444444444,
              "#bd3786"
             ],
             [
              0.5555555555555556,
              "#d8576b"
             ],
             [
              0.6666666666666666,
              "#ed7953"
             ],
             [
              0.7777777777777778,
              "#fb9f3a"
             ],
             [
              0.8888888888888888,
              "#fdca26"
             ],
             [
              1,
              "#f0f921"
             ]
            ],
            "type": "surface"
           }
          ],
          "table": [
           {
            "cells": {
             "fill": {
              "color": "#EBF0F8"
             },
             "line": {
              "color": "white"
             }
            },
            "header": {
             "fill": {
              "color": "#C8D4E3"
             },
             "line": {
              "color": "white"
             }
            },
            "type": "table"
           }
          ]
         },
         "layout": {
          "annotationdefaults": {
           "arrowcolor": "#2a3f5f",
           "arrowhead": 0,
           "arrowwidth": 1
          },
          "autotypenumbers": "strict",
          "coloraxis": {
           "colorbar": {
            "outlinewidth": 0,
            "ticks": ""
           }
          },
          "colorscale": {
           "diverging": [
            [
             0,
             "#8e0152"
            ],
            [
             0.1,
             "#c51b7d"
            ],
            [
             0.2,
             "#de77ae"
            ],
            [
             0.3,
             "#f1b6da"
            ],
            [
             0.4,
             "#fde0ef"
            ],
            [
             0.5,
             "#f7f7f7"
            ],
            [
             0.6,
             "#e6f5d0"
            ],
            [
             0.7,
             "#b8e186"
            ],
            [
             0.8,
             "#7fbc41"
            ],
            [
             0.9,
             "#4d9221"
            ],
            [
             1,
             "#276419"
            ]
           ],
           "sequential": [
            [
             0,
             "#0d0887"
            ],
            [
             0.1111111111111111,
             "#46039f"
            ],
            [
             0.2222222222222222,
             "#7201a8"
            ],
            [
             0.3333333333333333,
             "#9c179e"
            ],
            [
             0.4444444444444444,
             "#bd3786"
            ],
            [
             0.5555555555555556,
             "#d8576b"
            ],
            [
             0.6666666666666666,
             "#ed7953"
            ],
            [
             0.7777777777777778,
             "#fb9f3a"
            ],
            [
             0.8888888888888888,
             "#fdca26"
            ],
            [
             1,
             "#f0f921"
            ]
           ],
           "sequentialminus": [
            [
             0,
             "#0d0887"
            ],
            [
             0.1111111111111111,
             "#46039f"
            ],
            [
             0.2222222222222222,
             "#7201a8"
            ],
            [
             0.3333333333333333,
             "#9c179e"
            ],
            [
             0.4444444444444444,
             "#bd3786"
            ],
            [
             0.5555555555555556,
             "#d8576b"
            ],
            [
             0.6666666666666666,
             "#ed7953"
            ],
            [
             0.7777777777777778,
             "#fb9f3a"
            ],
            [
             0.8888888888888888,
             "#fdca26"
            ],
            [
             1,
             "#f0f921"
            ]
           ]
          },
          "colorway": [
           "#636efa",
           "#EF553B",
           "#00cc96",
           "#ab63fa",
           "#FFA15A",
           "#19d3f3",
           "#FF6692",
           "#B6E880",
           "#FF97FF",
           "#FECB52"
          ],
          "font": {
           "color": "#2a3f5f"
          },
          "geo": {
           "bgcolor": "white",
           "lakecolor": "white",
           "landcolor": "#E5ECF6",
           "showlakes": true,
           "showland": true,
           "subunitcolor": "white"
          },
          "hoverlabel": {
           "align": "left"
          },
          "hovermode": "closest",
          "mapbox": {
           "style": "light"
          },
          "paper_bgcolor": "white",
          "plot_bgcolor": "#E5ECF6",
          "polar": {
           "angularaxis": {
            "gridcolor": "white",
            "linecolor": "white",
            "ticks": ""
           },
           "bgcolor": "#E5ECF6",
           "radialaxis": {
            "gridcolor": "white",
            "linecolor": "white",
            "ticks": ""
           }
          },
          "scene": {
           "xaxis": {
            "backgroundcolor": "#E5ECF6",
            "gridcolor": "white",
            "gridwidth": 2,
            "linecolor": "white",
            "showbackground": true,
            "ticks": "",
            "zerolinecolor": "white"
           },
           "yaxis": {
            "backgroundcolor": "#E5ECF6",
            "gridcolor": "white",
            "gridwidth": 2,
            "linecolor": "white",
            "showbackground": true,
            "ticks": "",
            "zerolinecolor": "white"
           },
           "zaxis": {
            "backgroundcolor": "#E5ECF6",
            "gridcolor": "white",
            "gridwidth": 2,
            "linecolor": "white",
            "showbackground": true,
            "ticks": "",
            "zerolinecolor": "white"
           }
          },
          "shapedefaults": {
           "line": {
            "color": "#2a3f5f"
           }
          },
          "ternary": {
           "aaxis": {
            "gridcolor": "white",
            "linecolor": "white",
            "ticks": ""
           },
           "baxis": {
            "gridcolor": "white",
            "linecolor": "white",
            "ticks": ""
           },
           "bgcolor": "#E5ECF6",
           "caxis": {
            "gridcolor": "white",
            "linecolor": "white",
            "ticks": ""
           }
          },
          "title": {
           "x": 0.05
          },
          "xaxis": {
           "automargin": true,
           "gridcolor": "white",
           "linecolor": "white",
           "ticks": "",
           "title": {
            "standoff": 15
           },
           "zerolinecolor": "white",
           "zerolinewidth": 2
          },
          "yaxis": {
           "automargin": true,
           "gridcolor": "white",
           "linecolor": "white",
           "ticks": "",
           "title": {
            "standoff": 15
           },
           "zerolinecolor": "white",
           "zerolinewidth": 2
          }
         }
        },
        "title": {
         "text": "My most played maps"
        },
        "xaxis": {
         "anchor": "y",
         "domain": [
          0,
          1
         ],
         "tickangle": -30,
         "title": {
          "text": "Map"
         }
        },
        "yaxis": {
         "anchor": "x",
         "domain": [
          0,
          1
         ],
         "title": {
          "text": "TimesPlayed"
         }
        }
       }
      }
     },
     "metadata": {},
     "output_type": "display_data"
    }
   ],
   "source": [
    "data = Maps_me.sort_values(by = \"TimesPlayed\")\n",
    "\n",
    "fig = px.bar(data, y=\"TimesPlayed\", x=data.index,\n",
    "            text_auto = \".2s\",\n",
    "            title=\"My most played maps\"\n",
    "            )\n",
    "fig.update_layout(xaxis_tickangle=-30)\n",
    "\n",
    "fig.show()"
   ]
  },
  {
   "cell_type": "code",
   "execution_count": 13,
   "metadata": {},
   "outputs": [],
   "source": [
    "Maps_others[\"WinRate%\"] = (Maps_others[\"Result\"] / Maps_others[\"TimesPlayed\"] * 100).astype(int)\n",
    "Maps_others[\"K/D\"] = round(Maps_others[\"Kills\"] / Maps_others[\"Deaths\"], 2)\n",
    "Maps_others.sort_values(by=\"TimesPlayed\", inplace=True, ascending=False)\n",
    "Maps_others[\"WinRateDiff\"] = Maps_others[\"WinRate%\"] - 50 \n",
    "\n",
    "\n",
    "Maps_me[\"WinRate%\"] = (Maps_me[\"Result\"] / Maps_me[\"TimesPlayed\"] * 100).astype(int)\n",
    "Maps_me[\"K/D\"] = round(Maps_me[\"Kills\"] / Maps_me[\"Deaths\"], 2)\n",
    "Maps_me.sort_values(by=\"TimesPlayed\", inplace=True, ascending=False)\n",
    "Maps_me[\"WinRateDiff\"] = Maps_me[\"WinRate%\"] - 50 \n",
    "\n"
   ]
  },
  {
   "cell_type": "code",
   "execution_count": 14,
   "metadata": {},
   "outputs": [],
   "source": [
    "def human_format(num):\n",
    "    num = float('{:.3g}'.format(num))\n",
    "    magnitude = 0\n",
    "    while abs(num) >= 1000:\n",
    "        magnitude += 1\n",
    "        num /= 1000.0\n",
    "    return '{}{}'.format('{:f}'.format(num).rstrip('0').rstrip('.'), ['', 'K', 'M', 'B', 'T'][magnitude])"
   ]
  },
  {
   "cell_type": "code",
   "execution_count": 15,
   "metadata": {},
   "outputs": [
    {
     "data": {
      "application/vnd.plotly.v1+json": {
       "config": {
        "plotlyServerURL": "https://plot.ly"
       },
       "data": [
        {
         "alignmentgroup": "True",
         "hovertemplate": "Map=%{x}<br>WinRate%=%{y}<br>text=%{text}<extra></extra>",
         "legendgroup": "",
         "marker": {
          "color": "#636efa",
          "pattern": {
           "shape": ""
          }
         },
         "name": "",
         "offsetgroup": "",
         "orientation": "v",
         "showlegend": false,
         "text": [
          "4.87K",
          "61K",
          "44.2K",
          "37.5K",
          "34.2K",
          "13.4K",
          "119K",
          "20.9K"
         ],
         "textposition": "auto",
         "type": "bar",
         "x": [
          "de_cbble",
          "de_inferno",
          "de_dust2",
          "de_cache",
          "de_overpass",
          "de_nuke",
          "de_mirage",
          "de_train"
         ],
         "xaxis": "x",
         "y": [
          49,
          51,
          51,
          51,
          51,
          51,
          52,
          52
         ],
         "yaxis": "y"
        }
       ],
       "layout": {
        "barmode": "relative",
        "legend": {
         "tracegroupgap": 0
        },
        "template": {
         "data": {
          "bar": [
           {
            "error_x": {
             "color": "#2a3f5f"
            },
            "error_y": {
             "color": "#2a3f5f"
            },
            "marker": {
             "line": {
              "color": "#E5ECF6",
              "width": 0.5
             },
             "pattern": {
              "fillmode": "overlay",
              "size": 10,
              "solidity": 0.2
             }
            },
            "type": "bar"
           }
          ],
          "barpolar": [
           {
            "marker": {
             "line": {
              "color": "#E5ECF6",
              "width": 0.5
             },
             "pattern": {
              "fillmode": "overlay",
              "size": 10,
              "solidity": 0.2
             }
            },
            "type": "barpolar"
           }
          ],
          "carpet": [
           {
            "aaxis": {
             "endlinecolor": "#2a3f5f",
             "gridcolor": "white",
             "linecolor": "white",
             "minorgridcolor": "white",
             "startlinecolor": "#2a3f5f"
            },
            "baxis": {
             "endlinecolor": "#2a3f5f",
             "gridcolor": "white",
             "linecolor": "white",
             "minorgridcolor": "white",
             "startlinecolor": "#2a3f5f"
            },
            "type": "carpet"
           }
          ],
          "choropleth": [
           {
            "colorbar": {
             "outlinewidth": 0,
             "ticks": ""
            },
            "type": "choropleth"
           }
          ],
          "contour": [
           {
            "colorbar": {
             "outlinewidth": 0,
             "ticks": ""
            },
            "colorscale": [
             [
              0,
              "#0d0887"
             ],
             [
              0.1111111111111111,
              "#46039f"
             ],
             [
              0.2222222222222222,
              "#7201a8"
             ],
             [
              0.3333333333333333,
              "#9c179e"
             ],
             [
              0.4444444444444444,
              "#bd3786"
             ],
             [
              0.5555555555555556,
              "#d8576b"
             ],
             [
              0.6666666666666666,
              "#ed7953"
             ],
             [
              0.7777777777777778,
              "#fb9f3a"
             ],
             [
              0.8888888888888888,
              "#fdca26"
             ],
             [
              1,
              "#f0f921"
             ]
            ],
            "type": "contour"
           }
          ],
          "contourcarpet": [
           {
            "colorbar": {
             "outlinewidth": 0,
             "ticks": ""
            },
            "type": "contourcarpet"
           }
          ],
          "heatmap": [
           {
            "colorbar": {
             "outlinewidth": 0,
             "ticks": ""
            },
            "colorscale": [
             [
              0,
              "#0d0887"
             ],
             [
              0.1111111111111111,
              "#46039f"
             ],
             [
              0.2222222222222222,
              "#7201a8"
             ],
             [
              0.3333333333333333,
              "#9c179e"
             ],
             [
              0.4444444444444444,
              "#bd3786"
             ],
             [
              0.5555555555555556,
              "#d8576b"
             ],
             [
              0.6666666666666666,
              "#ed7953"
             ],
             [
              0.7777777777777778,
              "#fb9f3a"
             ],
             [
              0.8888888888888888,
              "#fdca26"
             ],
             [
              1,
              "#f0f921"
             ]
            ],
            "type": "heatmap"
           }
          ],
          "heatmapgl": [
           {
            "colorbar": {
             "outlinewidth": 0,
             "ticks": ""
            },
            "colorscale": [
             [
              0,
              "#0d0887"
             ],
             [
              0.1111111111111111,
              "#46039f"
             ],
             [
              0.2222222222222222,
              "#7201a8"
             ],
             [
              0.3333333333333333,
              "#9c179e"
             ],
             [
              0.4444444444444444,
              "#bd3786"
             ],
             [
              0.5555555555555556,
              "#d8576b"
             ],
             [
              0.6666666666666666,
              "#ed7953"
             ],
             [
              0.7777777777777778,
              "#fb9f3a"
             ],
             [
              0.8888888888888888,
              "#fdca26"
             ],
             [
              1,
              "#f0f921"
             ]
            ],
            "type": "heatmapgl"
           }
          ],
          "histogram": [
           {
            "marker": {
             "pattern": {
              "fillmode": "overlay",
              "size": 10,
              "solidity": 0.2
             }
            },
            "type": "histogram"
           }
          ],
          "histogram2d": [
           {
            "colorbar": {
             "outlinewidth": 0,
             "ticks": ""
            },
            "colorscale": [
             [
              0,
              "#0d0887"
             ],
             [
              0.1111111111111111,
              "#46039f"
             ],
             [
              0.2222222222222222,
              "#7201a8"
             ],
             [
              0.3333333333333333,
              "#9c179e"
             ],
             [
              0.4444444444444444,
              "#bd3786"
             ],
             [
              0.5555555555555556,
              "#d8576b"
             ],
             [
              0.6666666666666666,
              "#ed7953"
             ],
             [
              0.7777777777777778,
              "#fb9f3a"
             ],
             [
              0.8888888888888888,
              "#fdca26"
             ],
             [
              1,
              "#f0f921"
             ]
            ],
            "type": "histogram2d"
           }
          ],
          "histogram2dcontour": [
           {
            "colorbar": {
             "outlinewidth": 0,
             "ticks": ""
            },
            "colorscale": [
             [
              0,
              "#0d0887"
             ],
             [
              0.1111111111111111,
              "#46039f"
             ],
             [
              0.2222222222222222,
              "#7201a8"
             ],
             [
              0.3333333333333333,
              "#9c179e"
             ],
             [
              0.4444444444444444,
              "#bd3786"
             ],
             [
              0.5555555555555556,
              "#d8576b"
             ],
             [
              0.6666666666666666,
              "#ed7953"
             ],
             [
              0.7777777777777778,
              "#fb9f3a"
             ],
             [
              0.8888888888888888,
              "#fdca26"
             ],
             [
              1,
              "#f0f921"
             ]
            ],
            "type": "histogram2dcontour"
           }
          ],
          "mesh3d": [
           {
            "colorbar": {
             "outlinewidth": 0,
             "ticks": ""
            },
            "type": "mesh3d"
           }
          ],
          "parcoords": [
           {
            "line": {
             "colorbar": {
              "outlinewidth": 0,
              "ticks": ""
             }
            },
            "type": "parcoords"
           }
          ],
          "pie": [
           {
            "automargin": true,
            "type": "pie"
           }
          ],
          "scatter": [
           {
            "fillpattern": {
             "fillmode": "overlay",
             "size": 10,
             "solidity": 0.2
            },
            "type": "scatter"
           }
          ],
          "scatter3d": [
           {
            "line": {
             "colorbar": {
              "outlinewidth": 0,
              "ticks": ""
             }
            },
            "marker": {
             "colorbar": {
              "outlinewidth": 0,
              "ticks": ""
             }
            },
            "type": "scatter3d"
           }
          ],
          "scattercarpet": [
           {
            "marker": {
             "colorbar": {
              "outlinewidth": 0,
              "ticks": ""
             }
            },
            "type": "scattercarpet"
           }
          ],
          "scattergeo": [
           {
            "marker": {
             "colorbar": {
              "outlinewidth": 0,
              "ticks": ""
             }
            },
            "type": "scattergeo"
           }
          ],
          "scattergl": [
           {
            "marker": {
             "colorbar": {
              "outlinewidth": 0,
              "ticks": ""
             }
            },
            "type": "scattergl"
           }
          ],
          "scattermapbox": [
           {
            "marker": {
             "colorbar": {
              "outlinewidth": 0,
              "ticks": ""
             }
            },
            "type": "scattermapbox"
           }
          ],
          "scatterpolar": [
           {
            "marker": {
             "colorbar": {
              "outlinewidth": 0,
              "ticks": ""
             }
            },
            "type": "scatterpolar"
           }
          ],
          "scatterpolargl": [
           {
            "marker": {
             "colorbar": {
              "outlinewidth": 0,
              "ticks": ""
             }
            },
            "type": "scatterpolargl"
           }
          ],
          "scatterternary": [
           {
            "marker": {
             "colorbar": {
              "outlinewidth": 0,
              "ticks": ""
             }
            },
            "type": "scatterternary"
           }
          ],
          "surface": [
           {
            "colorbar": {
             "outlinewidth": 0,
             "ticks": ""
            },
            "colorscale": [
             [
              0,
              "#0d0887"
             ],
             [
              0.1111111111111111,
              "#46039f"
             ],
             [
              0.2222222222222222,
              "#7201a8"
             ],
             [
              0.3333333333333333,
              "#9c179e"
             ],
             [
              0.4444444444444444,
              "#bd3786"
             ],
             [
              0.5555555555555556,
              "#d8576b"
             ],
             [
              0.6666666666666666,
              "#ed7953"
             ],
             [
              0.7777777777777778,
              "#fb9f3a"
             ],
             [
              0.8888888888888888,
              "#fdca26"
             ],
             [
              1,
              "#f0f921"
             ]
            ],
            "type": "surface"
           }
          ],
          "table": [
           {
            "cells": {
             "fill": {
              "color": "#EBF0F8"
             },
             "line": {
              "color": "white"
             }
            },
            "header": {
             "fill": {
              "color": "#C8D4E3"
             },
             "line": {
              "color": "white"
             }
            },
            "type": "table"
           }
          ]
         },
         "layout": {
          "annotationdefaults": {
           "arrowcolor": "#2a3f5f",
           "arrowhead": 0,
           "arrowwidth": 1
          },
          "autotypenumbers": "strict",
          "coloraxis": {
           "colorbar": {
            "outlinewidth": 0,
            "ticks": ""
           }
          },
          "colorscale": {
           "diverging": [
            [
             0,
             "#8e0152"
            ],
            [
             0.1,
             "#c51b7d"
            ],
            [
             0.2,
             "#de77ae"
            ],
            [
             0.3,
             "#f1b6da"
            ],
            [
             0.4,
             "#fde0ef"
            ],
            [
             0.5,
             "#f7f7f7"
            ],
            [
             0.6,
             "#e6f5d0"
            ],
            [
             0.7,
             "#b8e186"
            ],
            [
             0.8,
             "#7fbc41"
            ],
            [
             0.9,
             "#4d9221"
            ],
            [
             1,
             "#276419"
            ]
           ],
           "sequential": [
            [
             0,
             "#0d0887"
            ],
            [
             0.1111111111111111,
             "#46039f"
            ],
            [
             0.2222222222222222,
             "#7201a8"
            ],
            [
             0.3333333333333333,
             "#9c179e"
            ],
            [
             0.4444444444444444,
             "#bd3786"
            ],
            [
             0.5555555555555556,
             "#d8576b"
            ],
            [
             0.6666666666666666,
             "#ed7953"
            ],
            [
             0.7777777777777778,
             "#fb9f3a"
            ],
            [
             0.8888888888888888,
             "#fdca26"
            ],
            [
             1,
             "#f0f921"
            ]
           ],
           "sequentialminus": [
            [
             0,
             "#0d0887"
            ],
            [
             0.1111111111111111,
             "#46039f"
            ],
            [
             0.2222222222222222,
             "#7201a8"
            ],
            [
             0.3333333333333333,
             "#9c179e"
            ],
            [
             0.4444444444444444,
             "#bd3786"
            ],
            [
             0.5555555555555556,
             "#d8576b"
            ],
            [
             0.6666666666666666,
             "#ed7953"
            ],
            [
             0.7777777777777778,
             "#fb9f3a"
            ],
            [
             0.8888888888888888,
             "#fdca26"
            ],
            [
             1,
             "#f0f921"
            ]
           ]
          },
          "colorway": [
           "#636efa",
           "#EF553B",
           "#00cc96",
           "#ab63fa",
           "#FFA15A",
           "#19d3f3",
           "#FF6692",
           "#B6E880",
           "#FF97FF",
           "#FECB52"
          ],
          "font": {
           "color": "#2a3f5f"
          },
          "geo": {
           "bgcolor": "white",
           "lakecolor": "white",
           "landcolor": "#E5ECF6",
           "showlakes": true,
           "showland": true,
           "subunitcolor": "white"
          },
          "hoverlabel": {
           "align": "left"
          },
          "hovermode": "closest",
          "mapbox": {
           "style": "light"
          },
          "paper_bgcolor": "white",
          "plot_bgcolor": "#E5ECF6",
          "polar": {
           "angularaxis": {
            "gridcolor": "white",
            "linecolor": "white",
            "ticks": ""
           },
           "bgcolor": "#E5ECF6",
           "radialaxis": {
            "gridcolor": "white",
            "linecolor": "white",
            "ticks": ""
           }
          },
          "scene": {
           "xaxis": {
            "backgroundcolor": "#E5ECF6",
            "gridcolor": "white",
            "gridwidth": 2,
            "linecolor": "white",
            "showbackground": true,
            "ticks": "",
            "zerolinecolor": "white"
           },
           "yaxis": {
            "backgroundcolor": "#E5ECF6",
            "gridcolor": "white",
            "gridwidth": 2,
            "linecolor": "white",
            "showbackground": true,
            "ticks": "",
            "zerolinecolor": "white"
           },
           "zaxis": {
            "backgroundcolor": "#E5ECF6",
            "gridcolor": "white",
            "gridwidth": 2,
            "linecolor": "white",
            "showbackground": true,
            "ticks": "",
            "zerolinecolor": "white"
           }
          },
          "shapedefaults": {
           "line": {
            "color": "#2a3f5f"
           }
          },
          "ternary": {
           "aaxis": {
            "gridcolor": "white",
            "linecolor": "white",
            "ticks": ""
           },
           "baxis": {
            "gridcolor": "white",
            "linecolor": "white",
            "ticks": ""
           },
           "bgcolor": "#E5ECF6",
           "caxis": {
            "gridcolor": "white",
            "linecolor": "white",
            "ticks": ""
           }
          },
          "title": {
           "x": 0.05
          },
          "xaxis": {
           "automargin": true,
           "gridcolor": "white",
           "linecolor": "white",
           "ticks": "",
           "title": {
            "standoff": 15
           },
           "zerolinecolor": "white",
           "zerolinewidth": 2
          },
          "yaxis": {
           "automargin": true,
           "gridcolor": "white",
           "linecolor": "white",
           "ticks": "",
           "title": {
            "standoff": 15
           },
           "zerolinecolor": "white",
           "zerolinewidth": 2
          }
         }
        },
        "title": {
         "text": "Maps by win rate - others"
        },
        "xaxis": {
         "anchor": "y",
         "domain": [
          0,
          1
         ],
         "tickangle": -30,
         "title": {
          "text": "Map"
         }
        },
        "yaxis": {
         "anchor": "x",
         "domain": [
          0,
          1
         ],
         "title": {
          "text": "WinRate%"
         }
        }
       }
      }
     },
     "metadata": {},
     "output_type": "display_data"
    }
   ],
   "source": [
    "data = Maps_others.sort_values(by = \"WinRate%\")\n",
    "\n",
    "fig = px.bar(data, y=\"WinRate%\", x=data.index,\n",
    "            text=data[\"TimesPlayed\"].apply(human_format),\n",
    "            # text_auto = \".2f\",\n",
    "            title=\"Maps by win rate - others\"\n",
    "            )\n",
    "fig.update_layout(xaxis_tickangle=-30)\n",
    "\n",
    "fig.show()"
   ]
  },
  {
   "cell_type": "code",
   "execution_count": 16,
   "metadata": {},
   "outputs": [
    {
     "data": {
      "application/vnd.plotly.v1+json": {
       "config": {
        "plotlyServerURL": "https://plot.ly"
       },
       "data": [
        {
         "alignmentgroup": "True",
         "hovertemplate": "Map=%{x}<br>WinRate%=%{y}<br>text=%{text}<extra></extra>",
         "legendgroup": "",
         "marker": {
          "color": "#636efa",
          "pattern": {
           "shape": ""
          }
         },
         "name": "",
         "offsetgroup": "",
         "orientation": "v",
         "showlegend": false,
         "text": [
          "8",
          "48",
          "10",
          "115",
          "50",
          "560",
          "30",
          "3"
         ],
         "textposition": "auto",
         "type": "bar",
         "x": [
          "de_train",
          "de_overpass",
          "de_cbble",
          "de_cache",
          "de_dust2",
          "de_mirage",
          "de_inferno",
          "de_nuke"
         ],
         "xaxis": "x",
         "y": [
          0,
          39,
          40,
          46,
          48,
          50,
          56,
          66
         ],
         "yaxis": "y"
        }
       ],
       "layout": {
        "barmode": "relative",
        "legend": {
         "tracegroupgap": 0
        },
        "template": {
         "data": {
          "bar": [
           {
            "error_x": {
             "color": "#2a3f5f"
            },
            "error_y": {
             "color": "#2a3f5f"
            },
            "marker": {
             "line": {
              "color": "#E5ECF6",
              "width": 0.5
             },
             "pattern": {
              "fillmode": "overlay",
              "size": 10,
              "solidity": 0.2
             }
            },
            "type": "bar"
           }
          ],
          "barpolar": [
           {
            "marker": {
             "line": {
              "color": "#E5ECF6",
              "width": 0.5
             },
             "pattern": {
              "fillmode": "overlay",
              "size": 10,
              "solidity": 0.2
             }
            },
            "type": "barpolar"
           }
          ],
          "carpet": [
           {
            "aaxis": {
             "endlinecolor": "#2a3f5f",
             "gridcolor": "white",
             "linecolor": "white",
             "minorgridcolor": "white",
             "startlinecolor": "#2a3f5f"
            },
            "baxis": {
             "endlinecolor": "#2a3f5f",
             "gridcolor": "white",
             "linecolor": "white",
             "minorgridcolor": "white",
             "startlinecolor": "#2a3f5f"
            },
            "type": "carpet"
           }
          ],
          "choropleth": [
           {
            "colorbar": {
             "outlinewidth": 0,
             "ticks": ""
            },
            "type": "choropleth"
           }
          ],
          "contour": [
           {
            "colorbar": {
             "outlinewidth": 0,
             "ticks": ""
            },
            "colorscale": [
             [
              0,
              "#0d0887"
             ],
             [
              0.1111111111111111,
              "#46039f"
             ],
             [
              0.2222222222222222,
              "#7201a8"
             ],
             [
              0.3333333333333333,
              "#9c179e"
             ],
             [
              0.4444444444444444,
              "#bd3786"
             ],
             [
              0.5555555555555556,
              "#d8576b"
             ],
             [
              0.6666666666666666,
              "#ed7953"
             ],
             [
              0.7777777777777778,
              "#fb9f3a"
             ],
             [
              0.8888888888888888,
              "#fdca26"
             ],
             [
              1,
              "#f0f921"
             ]
            ],
            "type": "contour"
           }
          ],
          "contourcarpet": [
           {
            "colorbar": {
             "outlinewidth": 0,
             "ticks": ""
            },
            "type": "contourcarpet"
           }
          ],
          "heatmap": [
           {
            "colorbar": {
             "outlinewidth": 0,
             "ticks": ""
            },
            "colorscale": [
             [
              0,
              "#0d0887"
             ],
             [
              0.1111111111111111,
              "#46039f"
             ],
             [
              0.2222222222222222,
              "#7201a8"
             ],
             [
              0.3333333333333333,
              "#9c179e"
             ],
             [
              0.4444444444444444,
              "#bd3786"
             ],
             [
              0.5555555555555556,
              "#d8576b"
             ],
             [
              0.6666666666666666,
              "#ed7953"
             ],
             [
              0.7777777777777778,
              "#fb9f3a"
             ],
             [
              0.8888888888888888,
              "#fdca26"
             ],
             [
              1,
              "#f0f921"
             ]
            ],
            "type": "heatmap"
           }
          ],
          "heatmapgl": [
           {
            "colorbar": {
             "outlinewidth": 0,
             "ticks": ""
            },
            "colorscale": [
             [
              0,
              "#0d0887"
             ],
             [
              0.1111111111111111,
              "#46039f"
             ],
             [
              0.2222222222222222,
              "#7201a8"
             ],
             [
              0.3333333333333333,
              "#9c179e"
             ],
             [
              0.4444444444444444,
              "#bd3786"
             ],
             [
              0.5555555555555556,
              "#d8576b"
             ],
             [
              0.6666666666666666,
              "#ed7953"
             ],
             [
              0.7777777777777778,
              "#fb9f3a"
             ],
             [
              0.8888888888888888,
              "#fdca26"
             ],
             [
              1,
              "#f0f921"
             ]
            ],
            "type": "heatmapgl"
           }
          ],
          "histogram": [
           {
            "marker": {
             "pattern": {
              "fillmode": "overlay",
              "size": 10,
              "solidity": 0.2
             }
            },
            "type": "histogram"
           }
          ],
          "histogram2d": [
           {
            "colorbar": {
             "outlinewidth": 0,
             "ticks": ""
            },
            "colorscale": [
             [
              0,
              "#0d0887"
             ],
             [
              0.1111111111111111,
              "#46039f"
             ],
             [
              0.2222222222222222,
              "#7201a8"
             ],
             [
              0.3333333333333333,
              "#9c179e"
             ],
             [
              0.4444444444444444,
              "#bd3786"
             ],
             [
              0.5555555555555556,
              "#d8576b"
             ],
             [
              0.6666666666666666,
              "#ed7953"
             ],
             [
              0.7777777777777778,
              "#fb9f3a"
             ],
             [
              0.8888888888888888,
              "#fdca26"
             ],
             [
              1,
              "#f0f921"
             ]
            ],
            "type": "histogram2d"
           }
          ],
          "histogram2dcontour": [
           {
            "colorbar": {
             "outlinewidth": 0,
             "ticks": ""
            },
            "colorscale": [
             [
              0,
              "#0d0887"
             ],
             [
              0.1111111111111111,
              "#46039f"
             ],
             [
              0.2222222222222222,
              "#7201a8"
             ],
             [
              0.3333333333333333,
              "#9c179e"
             ],
             [
              0.4444444444444444,
              "#bd3786"
             ],
             [
              0.5555555555555556,
              "#d8576b"
             ],
             [
              0.6666666666666666,
              "#ed7953"
             ],
             [
              0.7777777777777778,
              "#fb9f3a"
             ],
             [
              0.8888888888888888,
              "#fdca26"
             ],
             [
              1,
              "#f0f921"
             ]
            ],
            "type": "histogram2dcontour"
           }
          ],
          "mesh3d": [
           {
            "colorbar": {
             "outlinewidth": 0,
             "ticks": ""
            },
            "type": "mesh3d"
           }
          ],
          "parcoords": [
           {
            "line": {
             "colorbar": {
              "outlinewidth": 0,
              "ticks": ""
             }
            },
            "type": "parcoords"
           }
          ],
          "pie": [
           {
            "automargin": true,
            "type": "pie"
           }
          ],
          "scatter": [
           {
            "fillpattern": {
             "fillmode": "overlay",
             "size": 10,
             "solidity": 0.2
            },
            "type": "scatter"
           }
          ],
          "scatter3d": [
           {
            "line": {
             "colorbar": {
              "outlinewidth": 0,
              "ticks": ""
             }
            },
            "marker": {
             "colorbar": {
              "outlinewidth": 0,
              "ticks": ""
             }
            },
            "type": "scatter3d"
           }
          ],
          "scattercarpet": [
           {
            "marker": {
             "colorbar": {
              "outlinewidth": 0,
              "ticks": ""
             }
            },
            "type": "scattercarpet"
           }
          ],
          "scattergeo": [
           {
            "marker": {
             "colorbar": {
              "outlinewidth": 0,
              "ticks": ""
             }
            },
            "type": "scattergeo"
           }
          ],
          "scattergl": [
           {
            "marker": {
             "colorbar": {
              "outlinewidth": 0,
              "ticks": ""
             }
            },
            "type": "scattergl"
           }
          ],
          "scattermapbox": [
           {
            "marker": {
             "colorbar": {
              "outlinewidth": 0,
              "ticks": ""
             }
            },
            "type": "scattermapbox"
           }
          ],
          "scatterpolar": [
           {
            "marker": {
             "colorbar": {
              "outlinewidth": 0,
              "ticks": ""
             }
            },
            "type": "scatterpolar"
           }
          ],
          "scatterpolargl": [
           {
            "marker": {
             "colorbar": {
              "outlinewidth": 0,
              "ticks": ""
             }
            },
            "type": "scatterpolargl"
           }
          ],
          "scatterternary": [
           {
            "marker": {
             "colorbar": {
              "outlinewidth": 0,
              "ticks": ""
             }
            },
            "type": "scatterternary"
           }
          ],
          "surface": [
           {
            "colorbar": {
             "outlinewidth": 0,
             "ticks": ""
            },
            "colorscale": [
             [
              0,
              "#0d0887"
             ],
             [
              0.1111111111111111,
              "#46039f"
             ],
             [
              0.2222222222222222,
              "#7201a8"
             ],
             [
              0.3333333333333333,
              "#9c179e"
             ],
             [
              0.4444444444444444,
              "#bd3786"
             ],
             [
              0.5555555555555556,
              "#d8576b"
             ],
             [
              0.6666666666666666,
              "#ed7953"
             ],
             [
              0.7777777777777778,
              "#fb9f3a"
             ],
             [
              0.8888888888888888,
              "#fdca26"
             ],
             [
              1,
              "#f0f921"
             ]
            ],
            "type": "surface"
           }
          ],
          "table": [
           {
            "cells": {
             "fill": {
              "color": "#EBF0F8"
             },
             "line": {
              "color": "white"
             }
            },
            "header": {
             "fill": {
              "color": "#C8D4E3"
             },
             "line": {
              "color": "white"
             }
            },
            "type": "table"
           }
          ]
         },
         "layout": {
          "annotationdefaults": {
           "arrowcolor": "#2a3f5f",
           "arrowhead": 0,
           "arrowwidth": 1
          },
          "autotypenumbers": "strict",
          "coloraxis": {
           "colorbar": {
            "outlinewidth": 0,
            "ticks": ""
           }
          },
          "colorscale": {
           "diverging": [
            [
             0,
             "#8e0152"
            ],
            [
             0.1,
             "#c51b7d"
            ],
            [
             0.2,
             "#de77ae"
            ],
            [
             0.3,
             "#f1b6da"
            ],
            [
             0.4,
             "#fde0ef"
            ],
            [
             0.5,
             "#f7f7f7"
            ],
            [
             0.6,
             "#e6f5d0"
            ],
            [
             0.7,
             "#b8e186"
            ],
            [
             0.8,
             "#7fbc41"
            ],
            [
             0.9,
             "#4d9221"
            ],
            [
             1,
             "#276419"
            ]
           ],
           "sequential": [
            [
             0,
             "#0d0887"
            ],
            [
             0.1111111111111111,
             "#46039f"
            ],
            [
             0.2222222222222222,
             "#7201a8"
            ],
            [
             0.3333333333333333,
             "#9c179e"
            ],
            [
             0.4444444444444444,
             "#bd3786"
            ],
            [
             0.5555555555555556,
             "#d8576b"
            ],
            [
             0.6666666666666666,
             "#ed7953"
            ],
            [
             0.7777777777777778,
             "#fb9f3a"
            ],
            [
             0.8888888888888888,
             "#fdca26"
            ],
            [
             1,
             "#f0f921"
            ]
           ],
           "sequentialminus": [
            [
             0,
             "#0d0887"
            ],
            [
             0.1111111111111111,
             "#46039f"
            ],
            [
             0.2222222222222222,
             "#7201a8"
            ],
            [
             0.3333333333333333,
             "#9c179e"
            ],
            [
             0.4444444444444444,
             "#bd3786"
            ],
            [
             0.5555555555555556,
             "#d8576b"
            ],
            [
             0.6666666666666666,
             "#ed7953"
            ],
            [
             0.7777777777777778,
             "#fb9f3a"
            ],
            [
             0.8888888888888888,
             "#fdca26"
            ],
            [
             1,
             "#f0f921"
            ]
           ]
          },
          "colorway": [
           "#636efa",
           "#EF553B",
           "#00cc96",
           "#ab63fa",
           "#FFA15A",
           "#19d3f3",
           "#FF6692",
           "#B6E880",
           "#FF97FF",
           "#FECB52"
          ],
          "font": {
           "color": "#2a3f5f"
          },
          "geo": {
           "bgcolor": "white",
           "lakecolor": "white",
           "landcolor": "#E5ECF6",
           "showlakes": true,
           "showland": true,
           "subunitcolor": "white"
          },
          "hoverlabel": {
           "align": "left"
          },
          "hovermode": "closest",
          "mapbox": {
           "style": "light"
          },
          "paper_bgcolor": "white",
          "plot_bgcolor": "#E5ECF6",
          "polar": {
           "angularaxis": {
            "gridcolor": "white",
            "linecolor": "white",
            "ticks": ""
           },
           "bgcolor": "#E5ECF6",
           "radialaxis": {
            "gridcolor": "white",
            "linecolor": "white",
            "ticks": ""
           }
          },
          "scene": {
           "xaxis": {
            "backgroundcolor": "#E5ECF6",
            "gridcolor": "white",
            "gridwidth": 2,
            "linecolor": "white",
            "showbackground": true,
            "ticks": "",
            "zerolinecolor": "white"
           },
           "yaxis": {
            "backgroundcolor": "#E5ECF6",
            "gridcolor": "white",
            "gridwidth": 2,
            "linecolor": "white",
            "showbackground": true,
            "ticks": "",
            "zerolinecolor": "white"
           },
           "zaxis": {
            "backgroundcolor": "#E5ECF6",
            "gridcolor": "white",
            "gridwidth": 2,
            "linecolor": "white",
            "showbackground": true,
            "ticks": "",
            "zerolinecolor": "white"
           }
          },
          "shapedefaults": {
           "line": {
            "color": "#2a3f5f"
           }
          },
          "ternary": {
           "aaxis": {
            "gridcolor": "white",
            "linecolor": "white",
            "ticks": ""
           },
           "baxis": {
            "gridcolor": "white",
            "linecolor": "white",
            "ticks": ""
           },
           "bgcolor": "#E5ECF6",
           "caxis": {
            "gridcolor": "white",
            "linecolor": "white",
            "ticks": ""
           }
          },
          "title": {
           "x": 0.05
          },
          "xaxis": {
           "automargin": true,
           "gridcolor": "white",
           "linecolor": "white",
           "ticks": "",
           "title": {
            "standoff": 15
           },
           "zerolinecolor": "white",
           "zerolinewidth": 2
          },
          "yaxis": {
           "automargin": true,
           "gridcolor": "white",
           "linecolor": "white",
           "ticks": "",
           "title": {
            "standoff": 15
           },
           "zerolinecolor": "white",
           "zerolinewidth": 2
          }
         }
        },
        "title": {
         "text": "Maps by win rate - me"
        },
        "xaxis": {
         "anchor": "y",
         "domain": [
          0,
          1
         ],
         "tickangle": -30,
         "title": {
          "text": "Map"
         }
        },
        "yaxis": {
         "anchor": "x",
         "domain": [
          0,
          1
         ],
         "title": {
          "text": "WinRate%"
         }
        }
       }
      }
     },
     "metadata": {},
     "output_type": "display_data"
    }
   ],
   "source": [
    "data = Maps_me.sort_values(by = \"WinRate%\")\n",
    "\n",
    "fig = px.bar(data, y=\"WinRate%\", x=data.index,\n",
    "            text=data[\"TimesPlayed\"].apply(human_format),\n",
    "            # text_auto = \".2f\",\n",
    "            title=\"Maps by win rate - me\",\n",
    "            \n",
    "            \n",
    "            \n",
    "            )\n",
    "fig.update_layout(xaxis_tickangle=-30)\n",
    "\n",
    "fig.show()"
   ]
  },
  {
   "cell_type": "code",
   "execution_count": 17,
   "metadata": {},
   "outputs": [],
   "source": [
    "def heatmap(data, title=\"\"):\n",
    "    corr = data.corr()\n",
    "    fig = plt.figure()\n",
    "    ax = fig.add_subplot(111)\n",
    "    cax = ax.matshow(corr, cmap=\"coolwarm\", vmin=-1, vmax=1)\n",
    "    fig.colorbar(cax)\n",
    "    ticks = np.arange(0, len(corr.columns), 1)\n",
    "    ax.set_xticks(ticks)\n",
    "    plt.xticks(rotation=45)\n",
    "    ax.set_yticks(ticks)\n",
    "    ax.set_xticklabels(corr.columns)\n",
    "    ax.set_yticklabels(corr.columns)\n",
    "\n",
    "    matrix = pd.DataFrame(data.corr(method=\"pearson\")).round(2)\n",
    "    for i in range(len(matrix)):\n",
    "        for j in range(len(matrix.iloc[0])):\n",
    "            text = ax.text(j, i, matrix.iloc[i, j], ha=\"center\", va=\"center\", color=\"w\")\n",
    "    ax.set_title(title, pad=20)\n"
   ]
  },
  {
   "cell_type": "code",
   "execution_count": 18,
   "metadata": {},
   "outputs": [
    {
     "data": {
      "image/png": "[encoded data removed]",
      "text/plain": [
       "<Figure size 640x480 with 2 Axes>"
      ]
     },
     "metadata": {},
     "output_type": "display_data"
    }
   ],
   "source": [
    "heatmap(\n",
    "    DF_me.select_dtypes(\"number\").drop(columns = [\"Year\", \"Month\", \"Day\", \"DateOrdinal\"]),\n",
    "    title=\"Correlation Between all variables\",\n",
    ")\n",
    "# there is a correlation between installs and rating count -> more people installs leads to more people commenting\n",
    "# next to no correlaiton between everything\n"
   ]
  },
  {
   "cell_type": "code",
   "execution_count": 19,
   "metadata": {},
   "outputs": [],
   "source": [
    "Maps_all = DF_all.groupby(by=[\"PlayerId\", \"Map\"]).aggregate(\n",
    "    {\n",
    "        \"Kills\": \"mean\",\n",
    "        \"Assists\": \"mean\",\n",
    "        \"Deaths\": \"mean\",\n",
    "        \"Mvps\": \"mean\",\n",
    "        \"Headshots%\": \"mean\",\n",
    "        \"Map\": \"count\",\n",
    "        \"Result\": lambda x: count_wins(x),\n",
    "    }\n",
    ").rename({\"Map\": \"TimesPlayed\", \"Result\": \"TimesWon\"}, axis=1)#.reset_index()\n"
   ]
  },
  {
   "cell_type": "code",
   "execution_count": null,
   "metadata": {},
   "outputs": [],
   "source": []
  },
  {
   "cell_type": "code",
   "execution_count": 20,
   "metadata": {},
   "outputs": [
    {
     "data": {
      "text/html": [
       "<div>\n",
       "<style scoped>\n",
       "    .dataframe tbody tr th:only-of-type {\n",
       "        vertical-align: middle;\n",
       "    }\n",
       "\n",
       "    .dataframe tbody tr th {\n",
       "        vertical-align: top;\n",
       "    }\n",
       "\n",
       "    .dataframe thead th {\n",
       "        text-align: right;\n",
       "    }\n",
       "</style>\n",
       "<table border=\"1\" class=\"dataframe\">\n",
       "  <thead>\n",
       "    <tr style=\"text-align: right;\">\n",
       "      <th></th>\n",
       "      <th></th>\n",
       "      <th>Kills</th>\n",
       "      <th>Assists</th>\n",
       "      <th>Deaths</th>\n",
       "      <th>Mvps</th>\n",
       "      <th>Headshots%</th>\n",
       "      <th>TimesPlayed</th>\n",
       "      <th>TimesWon</th>\n",
       "    </tr>\n",
       "    <tr>\n",
       "      <th>PlayerId</th>\n",
       "      <th>Map</th>\n",
       "      <th></th>\n",
       "      <th></th>\n",
       "      <th></th>\n",
       "      <th></th>\n",
       "      <th></th>\n",
       "      <th></th>\n",
       "      <th></th>\n",
       "    </tr>\n",
       "  </thead>\n",
       "  <tbody>\n",
       "    <tr>\n",
       "      <th rowspan=\"5\" valign=\"top\">003185fd-320b-4563-b428-9adb0b2d4762</th>\n",
       "      <th>de_cache</th>\n",
       "      <td>20.545455</td>\n",
       "      <td>3.181818</td>\n",
       "      <td>19.363636</td>\n",
       "      <td>3.181818</td>\n",
       "      <td>45.000000</td>\n",
       "      <td>11</td>\n",
       "      <td>5</td>\n",
       "    </tr>\n",
       "    <tr>\n",
       "      <th>de_cbble</th>\n",
       "      <td>27.500000</td>\n",
       "      <td>3.500000</td>\n",
       "      <td>17.000000</td>\n",
       "      <td>3.500000</td>\n",
       "      <td>32.000000</td>\n",
       "      <td>2</td>\n",
       "      <td>1</td>\n",
       "    </tr>\n",
       "    <tr>\n",
       "      <th>de_dust2</th>\n",
       "      <td>18.750000</td>\n",
       "      <td>3.750000</td>\n",
       "      <td>16.625000</td>\n",
       "      <td>3.000000</td>\n",
       "      <td>34.625000</td>\n",
       "      <td>8</td>\n",
       "      <td>3</td>\n",
       "    </tr>\n",
       "    <tr>\n",
       "      <th>de_inferno</th>\n",
       "      <td>20.294118</td>\n",
       "      <td>4.764706</td>\n",
       "      <td>18.588235</td>\n",
       "      <td>2.764706</td>\n",
       "      <td>50.764706</td>\n",
       "      <td>17</td>\n",
       "      <td>11</td>\n",
       "    </tr>\n",
       "    <tr>\n",
       "      <th>de_mirage</th>\n",
       "      <td>19.947368</td>\n",
       "      <td>3.736842</td>\n",
       "      <td>20.894737</td>\n",
       "      <td>2.526316</td>\n",
       "      <td>50.736842</td>\n",
       "      <td>19</td>\n",
       "      <td>5</td>\n",
       "    </tr>\n",
       "  </tbody>\n",
       "</table>\n",
       "</div>"
      ],
      "text/plain": [
       "                                                     Kills   Assists  \\\n",
       "PlayerId                             Map                               \n",
       "003185fd-320b-4563-b428-9adb0b2d4762 de_cache    20.545455  3.181818   \n",
       "                                     de_cbble    27.500000  3.500000   \n",
       "                                     de_dust2    18.750000  3.750000   \n",
       "                                     de_inferno  20.294118  4.764706   \n",
       "                                     de_mirage   19.947368  3.736842   \n",
       "\n",
       "                                                    Deaths      Mvps  \\\n",
       "PlayerId                             Map                               \n",
       "003185fd-320b-4563-b428-9adb0b2d4762 de_cache    19.363636  3.181818   \n",
       "                                     de_cbble    17.000000  3.500000   \n",
       "                                     de_dust2    16.625000  3.000000   \n",
       "                                     de_inferno  18.588235  2.764706   \n",
       "                                     de_mirage   20.894737  2.526316   \n",
       "\n",
       "                                                 Headshots%  TimesPlayed  \\\n",
       "PlayerId                             Map                                   \n",
       "003185fd-320b-4563-b428-9adb0b2d4762 de_cache     45.000000           11   \n",
       "                                     de_cbble     32.000000            2   \n",
       "                                     de_dust2     34.625000            8   \n",
       "                                     de_inferno   50.764706           17   \n",
       "                                     de_mirage    50.736842           19   \n",
       "\n",
       "                                                 TimesWon  \n",
       "PlayerId                             Map                   \n",
       "003185fd-320b-4563-b428-9adb0b2d4762 de_cache           5  \n",
       "                                     de_cbble           1  \n",
       "                                     de_dust2           3  \n",
       "                                     de_inferno        11  \n",
       "                                     de_mirage          5  "
      ]
     },
     "execution_count": 20,
     "metadata": {},
     "output_type": "execute_result"
    }
   ],
   "source": [
    "Maps_all.head()"
   ]
  },
  {
   "cell_type": "code",
   "execution_count": 21,
   "metadata": {},
   "outputs": [],
   "source": [
    "Maps_all = Maps_all.query(\"TimesWon > 10\")#.reset_index()"
   ]
  },
  {
   "cell_type": "code",
   "execution_count": 22,
   "metadata": {},
   "outputs": [
    {
     "data": {
      "text/plain": [
       "<seaborn.axisgrid.FacetGrid at 0x224e94f3dc0>"
      ]
     },
     "execution_count": 22,
     "metadata": {},
     "output_type": "execute_result"
    },
    {
     "data": {
      "image/png": "[encoded data removed]",
      "text/plain": [
       "<Figure size 500x500 with 1 Axes>"
      ]
     },
     "metadata": {},
     "output_type": "display_data"
    }
   ],
   "source": [
    "sns.displot(data = Maps_all, x = \"Headshots%\", kde = True)"
   ]
  },
  {
   "cell_type": "code",
   "execution_count": 23,
   "metadata": {},
   "outputs": [
    {
     "data": {
      "image/png": "[encoded data removed]",
      "text/plain": [
       "<Figure size 640x480 with 1 Axes>"
      ]
     },
     "metadata": {},
     "output_type": "display_data"
    }
   ],
   "source": [
    "avg = DF_all[\"Headshots%\"].mean()\n",
    "g = sns.boxplot(\n",
    "    data=DF_all,\n",
    "    x=\"Headshots%\",\n",
    "    y=\"Map\",\n",
    "    showmeans = True,\n",
    "    meanprops={\"marker\": \"+\", \"markeredgecolor\": \"black\", \"markersize\": \"7\"},\n",
    ")\n",
    "# for ax in g.axes.flat:\n",
    "g.axvline(x=avg, color=\"red\", alpha = .8, dashes=(5, 2))\n",
    "plt.title(\"Average Headshot percentage per map - other players\")\n",
    "plt.show()"
   ]
  },
  {
   "cell_type": "code",
   "execution_count": 24,
   "metadata": {},
   "outputs": [
    {
     "data": {
      "text/plain": [
       "Text(0.5, 1.0, 'Average Headshot percentage per map - me')"
      ]
     },
     "execution_count": 24,
     "metadata": {},
     "output_type": "execute_result"
    },
    {
     "data": {
      "image/png": "[encoded data removed]",
      "text/plain": [
       "<Figure size 640x480 with 1 Axes>"
      ]
     },
     "metadata": {},
     "output_type": "display_data"
    }
   ],
   "source": [
    "avg = DF_me[\"Headshots%\"].mean()\n",
    "g = sns.boxplot(\n",
    "    data=DF_me,\n",
    "    x=\"Headshots%\",\n",
    "    y=\"Map\",\n",
    "    showmeans = True,\n",
    "    meanprops={\"marker\": \"+\", \"markeredgecolor\": \"black\", \"markersize\": \"7\"},\n",
    ")\n",
    "# for ax in g.axes.flat:\n",
    "g.axvline(x=avg, color=\"red\", alpha = .8, dashes=(5, 2))\n",
    "plt.title(\"Average Headshot percentage per map - me\")"
   ]
  },
  {
   "cell_type": "code",
   "execution_count": 65,
   "metadata": {},
   "outputs": [],
   "source": [
    "All_players = DF_all.groupby(by=[\"PlayerId\"]).aggregate(\n",
    "    {\n",
    "        \"Kills\": \"sum\",\n",
    "        \"Assists\": \"sum\",\n",
    "        \"Deaths\": \"sum\",\n",
    "        \"Mvps\": \"sum\",\n",
    "        \"Headshots%\": \"mean\",\n",
    "        \"Map\": \"count\",\n",
    "        \"Rounds\": \"sum\",\n",
    "        \"Result\": lambda x: count_wins(x),\n",
    "    }\n",
    ").rename({\"Map\": \"TimesPlayed\", \"Result\": \"TimesWon\"}, axis=1)#.reset_index()\n",
    "\n",
    "All_players[\"K/D\"] = All_players[\"Kills\"] / All_players[\"Deaths\"]\n",
    "All_players[\"K/A\"] = All_players[\"Kills\"] / All_players[\"Assists\"]\n",
    "\n",
    "All_players[\"K/R\"] = All_players[\"Kills\"] / All_players[\"Rounds\"]\n",
    "All_players[\"A/R\"] = All_players[\"Assists\"] / All_players[\"Rounds\"]\n",
    "All_players[\"D/R\"] = All_players[\"Deaths\"] / All_players[\"Rounds\"]\n",
    "\n",
    "All_players[\"K/G\"] = All_players[\"Kills\"] / All_players[\"TimesPlayed\"]\n",
    "All_players[\"D/G\"] = All_players[\"Deaths\"] / All_players[\"TimesPlayed\"]\n",
    "All_players[\"A/G\"] = All_players[\"Assists\"] / All_players[\"TimesPlayed\"]\n"
   ]
  },
  {
   "cell_type": "code",
   "execution_count": 28,
   "metadata": {},
   "outputs": [],
   "source": [
    "# All_players = pd.concat([All_players, Me_overall])"
   ]
  },
  {
   "cell_type": "code",
   "execution_count": 68,
   "metadata": {},
   "outputs": [],
   "source": [
    "All_players[\"Me\"] = All_players.index == FACEIT_PLAYERID"
   ]
  },
  {
   "cell_type": "code",
   "execution_count": 61,
   "metadata": {},
   "outputs": [
    {
     "data": {
      "text/html": [
       "<div>\n",
       "<style scoped>\n",
       "    .dataframe tbody tr th:only-of-type {\n",
       "        vertical-align: middle;\n",
       "    }\n",
       "\n",
       "    .dataframe tbody tr th {\n",
       "        vertical-align: top;\n",
       "    }\n",
       "\n",
       "    .dataframe thead th {\n",
       "        text-align: right;\n",
       "    }\n",
       "</style>\n",
       "<table border=\"1\" class=\"dataframe\">\n",
       "  <thead>\n",
       "    <tr style=\"text-align: right;\">\n",
       "      <th></th>\n",
       "      <th>Kills</th>\n",
       "      <th>Assists</th>\n",
       "      <th>Deaths</th>\n",
       "      <th>Mvps</th>\n",
       "      <th>Headshots%</th>\n",
       "      <th>TimesPlayed</th>\n",
       "      <th>Rounds</th>\n",
       "      <th>TimesWon</th>\n",
       "      <th>K/D</th>\n",
       "      <th>K/A</th>\n",
       "      <th>K/R</th>\n",
       "      <th>A/R</th>\n",
       "      <th>D/R</th>\n",
       "      <th>K/G</th>\n",
       "      <th>D/G</th>\n",
       "      <th>A/G</th>\n",
       "      <th>Me</th>\n",
       "    </tr>\n",
       "    <tr>\n",
       "      <th>PlayerId</th>\n",
       "      <th></th>\n",
       "      <th></th>\n",
       "      <th></th>\n",
       "      <th></th>\n",
       "      <th></th>\n",
       "      <th></th>\n",
       "      <th></th>\n",
       "      <th></th>\n",
       "      <th></th>\n",
       "      <th></th>\n",
       "      <th></th>\n",
       "      <th></th>\n",
       "      <th></th>\n",
       "      <th></th>\n",
       "      <th></th>\n",
       "      <th></th>\n",
       "      <th></th>\n",
       "    </tr>\n",
       "  </thead>\n",
       "  <tbody>\n",
       "    <tr>\n",
       "      <th>003185fd-320b-4563-b428-9adb0b2d4762</th>\n",
       "      <td>1501</td>\n",
       "      <td>284</td>\n",
       "      <td>1359</td>\n",
       "      <td>215</td>\n",
       "      <td>45.465753</td>\n",
       "      <td>73</td>\n",
       "      <td>1867</td>\n",
       "      <td>37</td>\n",
       "      <td>1.104489</td>\n",
       "      <td>5.285211</td>\n",
       "      <td>0.803964</td>\n",
       "      <td>0.152116</td>\n",
       "      <td>0.727906</td>\n",
       "      <td>18.616438</td>\n",
       "      <td>18.616438</td>\n",
       "      <td>18.616438</td>\n",
       "      <td>False</td>\n",
       "    </tr>\n",
       "    <tr>\n",
       "      <th>00390c8f-4529-43f0-9299-82d2d83e5cef</th>\n",
       "      <td>32161</td>\n",
       "      <td>6405</td>\n",
       "      <td>36037</td>\n",
       "      <td>4285</td>\n",
       "      <td>51.670000</td>\n",
       "      <td>1800</td>\n",
       "      <td>49196</td>\n",
       "      <td>930</td>\n",
       "      <td>0.892444</td>\n",
       "      <td>5.021233</td>\n",
       "      <td>0.653732</td>\n",
       "      <td>0.130194</td>\n",
       "      <td>0.732519</td>\n",
       "      <td>20.020556</td>\n",
       "      <td>20.020556</td>\n",
       "      <td>20.020556</td>\n",
       "      <td>False</td>\n",
       "    </tr>\n",
       "    <tr>\n",
       "      <th>0056abd1-95e2-472d-8894-0be2e302e1e5</th>\n",
       "      <td>65799</td>\n",
       "      <td>13060</td>\n",
       "      <td>66374</td>\n",
       "      <td>9713</td>\n",
       "      <td>45.962489</td>\n",
       "      <td>3439</td>\n",
       "      <td>91445</td>\n",
       "      <td>1748</td>\n",
       "      <td>0.991337</td>\n",
       "      <td>5.038208</td>\n",
       "      <td>0.719547</td>\n",
       "      <td>0.142818</td>\n",
       "      <td>0.725835</td>\n",
       "      <td>19.300378</td>\n",
       "      <td>19.300378</td>\n",
       "      <td>19.300378</td>\n",
       "      <td>False</td>\n",
       "    </tr>\n",
       "    <tr>\n",
       "      <th>00766b63-e51e-4410-8dde-43978d086c28</th>\n",
       "      <td>3435</td>\n",
       "      <td>835</td>\n",
       "      <td>3185</td>\n",
       "      <td>525</td>\n",
       "      <td>35.578125</td>\n",
       "      <td>192</td>\n",
       "      <td>4586</td>\n",
       "      <td>89</td>\n",
       "      <td>1.078493</td>\n",
       "      <td>4.113772</td>\n",
       "      <td>0.749019</td>\n",
       "      <td>0.182076</td>\n",
       "      <td>0.694505</td>\n",
       "      <td>16.588542</td>\n",
       "      <td>16.588542</td>\n",
       "      <td>16.588542</td>\n",
       "      <td>False</td>\n",
       "    </tr>\n",
       "    <tr>\n",
       "      <th>007b4abc-c18b-47e2-86ad-443c5844b6f1</th>\n",
       "      <td>850</td>\n",
       "      <td>153</td>\n",
       "      <td>715</td>\n",
       "      <td>131</td>\n",
       "      <td>32.300000</td>\n",
       "      <td>40</td>\n",
       "      <td>1112</td>\n",
       "      <td>21</td>\n",
       "      <td>1.188811</td>\n",
       "      <td>5.555556</td>\n",
       "      <td>0.764388</td>\n",
       "      <td>0.137590</td>\n",
       "      <td>0.642986</td>\n",
       "      <td>17.875000</td>\n",
       "      <td>17.875000</td>\n",
       "      <td>17.875000</td>\n",
       "      <td>False</td>\n",
       "    </tr>\n",
       "    <tr>\n",
       "      <th>...</th>\n",
       "      <td>...</td>\n",
       "      <td>...</td>\n",
       "      <td>...</td>\n",
       "      <td>...</td>\n",
       "      <td>...</td>\n",
       "      <td>...</td>\n",
       "      <td>...</td>\n",
       "      <td>...</td>\n",
       "      <td>...</td>\n",
       "      <td>...</td>\n",
       "      <td>...</td>\n",
       "      <td>...</td>\n",
       "      <td>...</td>\n",
       "      <td>...</td>\n",
       "      <td>...</td>\n",
       "      <td>...</td>\n",
       "      <td>...</td>\n",
       "    </tr>\n",
       "    <tr>\n",
       "      <th>fef7e5de-d8c5-4383-8246-6e39e89e0dc3</th>\n",
       "      <td>419</td>\n",
       "      <td>108</td>\n",
       "      <td>638</td>\n",
       "      <td>51</td>\n",
       "      <td>34.516129</td>\n",
       "      <td>31</td>\n",
       "      <td>839</td>\n",
       "      <td>14</td>\n",
       "      <td>0.656740</td>\n",
       "      <td>3.879630</td>\n",
       "      <td>0.499404</td>\n",
       "      <td>0.128725</td>\n",
       "      <td>0.760429</td>\n",
       "      <td>20.580645</td>\n",
       "      <td>20.580645</td>\n",
       "      <td>20.580645</td>\n",
       "      <td>False</td>\n",
       "    </tr>\n",
       "    <tr>\n",
       "      <th>ff33d143-524a-4d3b-af1a-f96c6c6073cb</th>\n",
       "      <td>15925</td>\n",
       "      <td>3259</td>\n",
       "      <td>15755</td>\n",
       "      <td>2130</td>\n",
       "      <td>40.514828</td>\n",
       "      <td>843</td>\n",
       "      <td>22025</td>\n",
       "      <td>453</td>\n",
       "      <td>1.010790</td>\n",
       "      <td>4.886468</td>\n",
       "      <td>0.723042</td>\n",
       "      <td>0.147968</td>\n",
       "      <td>0.715323</td>\n",
       "      <td>18.689205</td>\n",
       "      <td>18.689205</td>\n",
       "      <td>18.689205</td>\n",
       "      <td>False</td>\n",
       "    </tr>\n",
       "    <tr>\n",
       "      <th>ff6d37a3-b8c3-44c5-a3a8-cf4b25f3c870</th>\n",
       "      <td>2215</td>\n",
       "      <td>527</td>\n",
       "      <td>2450</td>\n",
       "      <td>283</td>\n",
       "      <td>40.911765</td>\n",
       "      <td>136</td>\n",
       "      <td>3521</td>\n",
       "      <td>68</td>\n",
       "      <td>0.904082</td>\n",
       "      <td>4.203036</td>\n",
       "      <td>0.629083</td>\n",
       "      <td>0.149673</td>\n",
       "      <td>0.695825</td>\n",
       "      <td>18.014706</td>\n",
       "      <td>18.014706</td>\n",
       "      <td>18.014706</td>\n",
       "      <td>False</td>\n",
       "    </tr>\n",
       "    <tr>\n",
       "      <th>ffdfd2db-bf39-4d07-8939-8aa250865535</th>\n",
       "      <td>316</td>\n",
       "      <td>89</td>\n",
       "      <td>357</td>\n",
       "      <td>49</td>\n",
       "      <td>33.631579</td>\n",
       "      <td>19</td>\n",
       "      <td>501</td>\n",
       "      <td>9</td>\n",
       "      <td>0.885154</td>\n",
       "      <td>3.550562</td>\n",
       "      <td>0.630739</td>\n",
       "      <td>0.177645</td>\n",
       "      <td>0.712575</td>\n",
       "      <td>18.789474</td>\n",
       "      <td>18.789474</td>\n",
       "      <td>18.789474</td>\n",
       "      <td>False</td>\n",
       "    </tr>\n",
       "    <tr>\n",
       "      <th>fff0e5d4-e56f-4058-923a-1aede4301022</th>\n",
       "      <td>2184</td>\n",
       "      <td>497</td>\n",
       "      <td>2010</td>\n",
       "      <td>334</td>\n",
       "      <td>42.530435</td>\n",
       "      <td>115</td>\n",
       "      <td>2946</td>\n",
       "      <td>60</td>\n",
       "      <td>1.086567</td>\n",
       "      <td>4.394366</td>\n",
       "      <td>0.741344</td>\n",
       "      <td>0.168703</td>\n",
       "      <td>0.682281</td>\n",
       "      <td>17.478261</td>\n",
       "      <td>17.478261</td>\n",
       "      <td>17.478261</td>\n",
       "      <td>False</td>\n",
       "    </tr>\n",
       "  </tbody>\n",
       "</table>\n",
       "<p>864 rows × 17 columns</p>\n",
       "</div>"
      ],
      "text/plain": [
       "                                      Kills  Assists  Deaths  Mvps  \\\n",
       "PlayerId                                                             \n",
       "003185fd-320b-4563-b428-9adb0b2d4762   1501      284    1359   215   \n",
       "00390c8f-4529-43f0-9299-82d2d83e5cef  32161     6405   36037  4285   \n",
       "0056abd1-95e2-472d-8894-0be2e302e1e5  65799    13060   66374  9713   \n",
       "00766b63-e51e-4410-8dde-43978d086c28   3435      835    3185   525   \n",
       "007b4abc-c18b-47e2-86ad-443c5844b6f1    850      153     715   131   \n",
       "...                                     ...      ...     ...   ...   \n",
       "fef7e5de-d8c5-4383-8246-6e39e89e0dc3    419      108     638    51   \n",
       "ff33d143-524a-4d3b-af1a-f96c6c6073cb  15925     3259   15755  2130   \n",
       "ff6d37a3-b8c3-44c5-a3a8-cf4b25f3c870   2215      527    2450   283   \n",
       "ffdfd2db-bf39-4d07-8939-8aa250865535    316       89     357    49   \n",
       "fff0e5d4-e56f-4058-923a-1aede4301022   2184      497    2010   334   \n",
       "\n",
       "                                      Headshots%  TimesPlayed  Rounds  \\\n",
       "PlayerId                                                                \n",
       "003185fd-320b-4563-b428-9adb0b2d4762   45.465753           73    1867   \n",
       "00390c8f-4529-43f0-9299-82d2d83e5cef   51.670000         1800   49196   \n",
       "0056abd1-95e2-472d-8894-0be2e302e1e5   45.962489         3439   91445   \n",
       "00766b63-e51e-4410-8dde-43978d086c28   35.578125          192    4586   \n",
       "007b4abc-c18b-47e2-86ad-443c5844b6f1   32.300000           40    1112   \n",
       "...                                          ...          ...     ...   \n",
       "fef7e5de-d8c5-4383-8246-6e39e89e0dc3   34.516129           31     839   \n",
       "ff33d143-524a-4d3b-af1a-f96c6c6073cb   40.514828          843   22025   \n",
       "ff6d37a3-b8c3-44c5-a3a8-cf4b25f3c870   40.911765          136    3521   \n",
       "ffdfd2db-bf39-4d07-8939-8aa250865535   33.631579           19     501   \n",
       "fff0e5d4-e56f-4058-923a-1aede4301022   42.530435          115    2946   \n",
       "\n",
       "                                      TimesWon       K/D       K/A       K/R  \\\n",
       "PlayerId                                                                       \n",
       "003185fd-320b-4563-b428-9adb0b2d4762        37  1.104489  5.285211  0.803964   \n",
       "00390c8f-4529-43f0-9299-82d2d83e5cef       930  0.892444  5.021233  0.653732   \n",
       "0056abd1-95e2-472d-8894-0be2e302e1e5      1748  0.991337  5.038208  0.719547   \n",
       "00766b63-e51e-4410-8dde-43978d086c28        89  1.078493  4.113772  0.749019   \n",
       "007b4abc-c18b-47e2-86ad-443c5844b6f1        21  1.188811  5.555556  0.764388   \n",
       "...                                        ...       ...       ...       ...   \n",
       "fef7e5de-d8c5-4383-8246-6e39e89e0dc3        14  0.656740  3.879630  0.499404   \n",
       "ff33d143-524a-4d3b-af1a-f96c6c6073cb       453  1.010790  4.886468  0.723042   \n",
       "ff6d37a3-b8c3-44c5-a3a8-cf4b25f3c870        68  0.904082  4.203036  0.629083   \n",
       "ffdfd2db-bf39-4d07-8939-8aa250865535         9  0.885154  3.550562  0.630739   \n",
       "fff0e5d4-e56f-4058-923a-1aede4301022        60  1.086567  4.394366  0.741344   \n",
       "\n",
       "                                           A/R       D/R        K/G  \\\n",
       "PlayerId                                                              \n",
       "003185fd-320b-4563-b428-9adb0b2d4762  0.152116  0.727906  18.616438   \n",
       "00390c8f-4529-43f0-9299-82d2d83e5cef  0.130194  0.732519  20.020556   \n",
       "0056abd1-95e2-472d-8894-0be2e302e1e5  0.142818  0.725835  19.300378   \n",
       "00766b63-e51e-4410-8dde-43978d086c28  0.182076  0.694505  16.588542   \n",
       "007b4abc-c18b-47e2-86ad-443c5844b6f1  0.137590  0.642986  17.875000   \n",
       "...                                        ...       ...        ...   \n",
       "fef7e5de-d8c5-4383-8246-6e39e89e0dc3  0.128725  0.760429  20.580645   \n",
       "ff33d143-524a-4d3b-af1a-f96c6c6073cb  0.147968  0.715323  18.689205   \n",
       "ff6d37a3-b8c3-44c5-a3a8-cf4b25f3c870  0.149673  0.695825  18.014706   \n",
       "ffdfd2db-bf39-4d07-8939-8aa250865535  0.177645  0.712575  18.789474   \n",
       "fff0e5d4-e56f-4058-923a-1aede4301022  0.168703  0.682281  17.478261   \n",
       "\n",
       "                                            D/G        A/G     Me  \n",
       "PlayerId                                                           \n",
       "003185fd-320b-4563-b428-9adb0b2d4762  18.616438  18.616438  False  \n",
       "00390c8f-4529-43f0-9299-82d2d83e5cef  20.020556  20.020556  False  \n",
       "0056abd1-95e2-472d-8894-0be2e302e1e5  19.300378  19.300378  False  \n",
       "00766b63-e51e-4410-8dde-43978d086c28  16.588542  16.588542  False  \n",
       "007b4abc-c18b-47e2-86ad-443c5844b6f1  17.875000  17.875000  False  \n",
       "...                                         ...        ...    ...  \n",
       "fef7e5de-d8c5-4383-8246-6e39e89e0dc3  20.580645  20.580645  False  \n",
       "ff33d143-524a-4d3b-af1a-f96c6c6073cb  18.689205  18.689205  False  \n",
       "ff6d37a3-b8c3-44c5-a3a8-cf4b25f3c870  18.014706  18.014706  False  \n",
       "ffdfd2db-bf39-4d07-8939-8aa250865535  18.789474  18.789474  False  \n",
       "fff0e5d4-e56f-4058-923a-1aede4301022  17.478261  17.478261  False  \n",
       "\n",
       "[864 rows x 17 columns]"
      ]
     },
     "execution_count": 61,
     "metadata": {},
     "output_type": "execute_result"
    }
   ],
   "source": [
    "All_players"
   ]
  },
  {
   "cell_type": "code",
   "execution_count": 30,
   "metadata": {},
   "outputs": [
    {
     "data": {
      "text/html": [
       "<div>\n",
       "<style scoped>\n",
       "    .dataframe tbody tr th:only-of-type {\n",
       "        vertical-align: middle;\n",
       "    }\n",
       "\n",
       "    .dataframe tbody tr th {\n",
       "        vertical-align: top;\n",
       "    }\n",
       "\n",
       "    .dataframe thead th {\n",
       "        text-align: right;\n",
       "    }\n",
       "</style>\n",
       "<table border=\"1\" class=\"dataframe\">\n",
       "  <thead>\n",
       "    <tr style=\"text-align: right;\">\n",
       "      <th></th>\n",
       "      <th>Kills</th>\n",
       "      <th>Assists</th>\n",
       "      <th>Deaths</th>\n",
       "      <th>Mvps</th>\n",
       "      <th>Headshots%</th>\n",
       "      <th>TimesPlayed</th>\n",
       "      <th>Rounds</th>\n",
       "      <th>TimesWon</th>\n",
       "      <th>K/D</th>\n",
       "      <th>K/A</th>\n",
       "      <th>K/R</th>\n",
       "      <th>A/R</th>\n",
       "      <th>D/R</th>\n",
       "      <th>K/G</th>\n",
       "      <th>D/G</th>\n",
       "      <th>A/G</th>\n",
       "      <th>Me</th>\n",
       "    </tr>\n",
       "    <tr>\n",
       "      <th>PlayerId</th>\n",
       "      <th></th>\n",
       "      <th></th>\n",
       "      <th></th>\n",
       "      <th></th>\n",
       "      <th></th>\n",
       "      <th></th>\n",
       "      <th></th>\n",
       "      <th></th>\n",
       "      <th></th>\n",
       "      <th></th>\n",
       "      <th></th>\n",
       "      <th></th>\n",
       "      <th></th>\n",
       "      <th></th>\n",
       "      <th></th>\n",
       "      <th></th>\n",
       "      <th></th>\n",
       "    </tr>\n",
       "  </thead>\n",
       "  <tbody>\n",
       "    <tr>\n",
       "      <th>2fb9fe10-5c7e-4f2f-860b-a9ee2f88801a</th>\n",
       "      <td>14956</td>\n",
       "      <td>3700</td>\n",
       "      <td>14196</td>\n",
       "      <td>2024</td>\n",
       "      <td>45.509709</td>\n",
       "      <td>824</td>\n",
       "      <td>20941</td>\n",
       "      <td>403</td>\n",
       "      <td>1.053536</td>\n",
       "      <td>4.042162</td>\n",
       "      <td>0.714197</td>\n",
       "      <td>0.176687</td>\n",
       "      <td>0.677905</td>\n",
       "      <td>17.228155</td>\n",
       "      <td>17.228155</td>\n",
       "      <td>17.228155</td>\n",
       "      <td>True</td>\n",
       "    </tr>\n",
       "  </tbody>\n",
       "</table>\n",
       "</div>"
      ],
      "text/plain": [
       "                                      Kills  Assists  Deaths  Mvps  \\\n",
       "PlayerId                                                             \n",
       "2fb9fe10-5c7e-4f2f-860b-a9ee2f88801a  14956     3700   14196  2024   \n",
       "\n",
       "                                      Headshots%  TimesPlayed  Rounds  \\\n",
       "PlayerId                                                                \n",
       "2fb9fe10-5c7e-4f2f-860b-a9ee2f88801a   45.509709          824   20941   \n",
       "\n",
       "                                      TimesWon       K/D       K/A       K/R  \\\n",
       "PlayerId                                                                       \n",
       "2fb9fe10-5c7e-4f2f-860b-a9ee2f88801a       403  1.053536  4.042162  0.714197   \n",
       "\n",
       "                                           A/R       D/R        K/G  \\\n",
       "PlayerId                                                              \n",
       "2fb9fe10-5c7e-4f2f-860b-a9ee2f88801a  0.176687  0.677905  17.228155   \n",
       "\n",
       "                                            D/G        A/G    Me  \n",
       "PlayerId                                                          \n",
       "2fb9fe10-5c7e-4f2f-860b-a9ee2f88801a  17.228155  17.228155  True  "
      ]
     },
     "execution_count": 30,
     "metadata": {},
     "output_type": "execute_result"
    }
   ],
   "source": [
    "All_players.query(\"Me == True\")"
   ]
  },
  {
   "cell_type": "code",
   "execution_count": 31,
   "metadata": {},
   "outputs": [],
   "source": [
    "def abline(slope, intercept):\n",
    "    axes = plt.gca()\n",
    "    x_vals = np.array(axes.get_xlim())\n",
    "    y_vals = intercept + slope * x_vals\n",
    "    plt.plot(x_vals, y_vals, '--')\n",
    "    \n",
    "#https://www.statology.org/matplotlib-abline/"
   ]
  },
  {
   "cell_type": "code",
   "execution_count": 63,
   "metadata": {},
   "outputs": [
    {
     "data": {
      "image/png": "[encoded data removed]",
      "text/plain": [
       "<Figure size 640x480 with 1 Axes>"
      ]
     },
     "metadata": {},
     "output_type": "display_data"
    }
   ],
   "source": [
    "fig, ax = plt.subplots()\n",
    "ax.scatter(All_players.query(\"Me != True\")[\"A/R\"], All_players.query(\"Me != True\")[\"K/R\"], alpha = 0.3, label = \"Other Players\")\n",
    "ax.scatter(All_players.query(\"Me == True\")[\"A/R\"], All_players.query(\"Me == True\")[\"K/R\"], marker = \"+\", s = 100, label = \"Me\", alpha = 1)\n",
    "ax.axline((All_players[\"A/R\"].mean(), All_players[\"K/R\"].mean()), slope = 1, color=\".3\", dashes=(2, 2), label = \"Line of separation\")\n",
    "plt.xlabel(\"Assits per round\")\n",
    "plt.ylabel(\"Kills per round\")\n",
    "plt.legend(bbox_to_anchor=(1, 1), loc='upper left')\n",
    "plt.suptitle(\"Assists and Kills per round\")\n",
    "plt.title(\"Me vs Other players\")\n",
    "plt.show()\n"
   ]
  },
  {
   "cell_type": "code",
   "execution_count": 121,
   "metadata": {},
   "outputs": [
    {
     "data": {
      "image/png": "[encoded data removed]",
      "text/plain": [
       "<Figure size 640x480 with 1 Axes>"
      ]
     },
     "metadata": {},
     "output_type": "display_data"
    }
   ],
   "source": [
    "fig, ax = plt.subplots()\n",
    "ax.scatter(All_players.query(\"Me != True\")[\"A/G\"], All_players.query(\"Me != True\")[\"K/G\"], alpha = 0.3, label = \"Other Players\")\n",
    "ax.scatter(All_players.query(\"Me == True\")[\"A/G\"], All_players.query(\"Me == True\")[\"K/G\"], marker = \"+\", s = 100, label = \"Me\", alpha = 1)\n",
    "ax.axline((All_players[\"A/G\"].mean(), All_players[\"K/G\"].mean()), slope = 1, color=\".3\", dashes=(2, 2), label = \"Line of separation\")\n",
    "plt.xlabel(\"Assits per game\")\n",
    "plt.ylabel(\"Kills per game\")\n",
    "plt.legend(bbox_to_anchor=(1, 1), loc='upper left')\n",
    "plt.suptitle(\"Kills vs Assists per game\")\n",
    "plt.title(\"Me vs Other players\")\n",
    "plt.show()\n"
   ]
  },
  {
   "cell_type": "code",
   "execution_count": 105,
   "metadata": {},
   "outputs": [
    {
     "data": {
      "text/html": [
       "<div>\n",
       "<style scoped>\n",
       "    .dataframe tbody tr th:only-of-type {\n",
       "        vertical-align: middle;\n",
       "    }\n",
       "\n",
       "    .dataframe tbody tr th {\n",
       "        vertical-align: top;\n",
       "    }\n",
       "\n",
       "    .dataframe thead th {\n",
       "        text-align: right;\n",
       "    }\n",
       "</style>\n",
       "<table border=\"1\" class=\"dataframe\">\n",
       "  <thead>\n",
       "    <tr style=\"text-align: right;\">\n",
       "      <th></th>\n",
       "      <th>Kills</th>\n",
       "      <th>Assists</th>\n",
       "      <th>Deaths</th>\n",
       "      <th>Mvps</th>\n",
       "      <th>Headshots%</th>\n",
       "      <th>TimesPlayed</th>\n",
       "      <th>Rounds</th>\n",
       "      <th>TimesWon</th>\n",
       "      <th>K/D</th>\n",
       "      <th>K/A</th>\n",
       "      <th>K/R</th>\n",
       "      <th>A/R</th>\n",
       "      <th>D/R</th>\n",
       "      <th>K/G</th>\n",
       "      <th>D/G</th>\n",
       "      <th>A/G</th>\n",
       "      <th>Me</th>\n",
       "    </tr>\n",
       "    <tr>\n",
       "      <th>PlayerId</th>\n",
       "      <th></th>\n",
       "      <th></th>\n",
       "      <th></th>\n",
       "      <th></th>\n",
       "      <th></th>\n",
       "      <th></th>\n",
       "      <th></th>\n",
       "      <th></th>\n",
       "      <th></th>\n",
       "      <th></th>\n",
       "      <th></th>\n",
       "      <th></th>\n",
       "      <th></th>\n",
       "      <th></th>\n",
       "      <th></th>\n",
       "      <th></th>\n",
       "      <th></th>\n",
       "    </tr>\n",
       "  </thead>\n",
       "  <tbody>\n",
       "    <tr>\n",
       "      <th>2fb9fe10-5c7e-4f2f-860b-a9ee2f88801a</th>\n",
       "      <td>14956</td>\n",
       "      <td>3700</td>\n",
       "      <td>14196</td>\n",
       "      <td>2024</td>\n",
       "      <td>45.509709</td>\n",
       "      <td>824</td>\n",
       "      <td>20941</td>\n",
       "      <td>403</td>\n",
       "      <td>1.053536</td>\n",
       "      <td>4.042162</td>\n",
       "      <td>0.714197</td>\n",
       "      <td>0.176687</td>\n",
       "      <td>0.677905</td>\n",
       "      <td>18.150485</td>\n",
       "      <td>17.228155</td>\n",
       "      <td>4.490291</td>\n",
       "      <td>True</td>\n",
       "    </tr>\n",
       "  </tbody>\n",
       "</table>\n",
       "</div>"
      ],
      "text/plain": [
       "                                      Kills  Assists  Deaths  Mvps  \\\n",
       "PlayerId                                                             \n",
       "2fb9fe10-5c7e-4f2f-860b-a9ee2f88801a  14956     3700   14196  2024   \n",
       "\n",
       "                                      Headshots%  TimesPlayed  Rounds  \\\n",
       "PlayerId                                                                \n",
       "2fb9fe10-5c7e-4f2f-860b-a9ee2f88801a   45.509709          824   20941   \n",
       "\n",
       "                                      TimesWon       K/D       K/A       K/R  \\\n",
       "PlayerId                                                                       \n",
       "2fb9fe10-5c7e-4f2f-860b-a9ee2f88801a       403  1.053536  4.042162  0.714197   \n",
       "\n",
       "                                           A/R       D/R        K/G  \\\n",
       "PlayerId                                                              \n",
       "2fb9fe10-5c7e-4f2f-860b-a9ee2f88801a  0.176687  0.677905  18.150485   \n",
       "\n",
       "                                            D/G       A/G    Me  \n",
       "PlayerId                                                         \n",
       "2fb9fe10-5c7e-4f2f-860b-a9ee2f88801a  17.228155  4.490291  True  "
      ]
     },
     "execution_count": 105,
     "metadata": {},
     "output_type": "execute_result"
    }
   ],
   "source": [
    "All_players.query(\"Me == True\")"
   ]
  },
  {
   "cell_type": "code",
   "execution_count": 116,
   "metadata": {},
   "outputs": [],
   "source": [
    "# All_players[\"Better\"]\n",
    "All_players[\"HaveBetterK/G\"] = All_players[\"K/G\"] > 18.150485\n",
    "All_players[\"HaveBetterA/G\"] = All_players[\"A/G\"] > 4.490291\n",
    "\n",
    "All_players[\"BetterGameRatio\"] = All_players[\"HaveBetterK/G\"] & All_players[\"HaveBetterA/G\"]\n",
    "\n",
    "# All_players[\"HaveBetterK/R\"] = All_players[All_players[\"K/G\"] > 18.150485]\n",
    "# All_players[\"HaveBetterA/R\"] = All_players[All_players[\"A/G\"] > 4.490291]\n",
    "\n",
    "\n",
    "# All_players[\"HaveBetterK/G\"] = All_players[All_players[\"K/G\"] > 18.150485]\n",
    "# All_players[\"HaveBetterA/G\"] = All_players[All_players[\"A/G\"] > 4.490291]\n",
    "\n",
    "# print(round(len(All_players[All_players[\"K/G\"] > 18.150485]) / 864 * 100, 2)) # above\n",
    "# print(round(len(All_players[All_players[\"K/G\"] < 18.150485]) / 864 * 100, 2)) # below"
   ]
  },
  {
   "cell_type": "code",
   "execution_count": 120,
   "metadata": {},
   "outputs": [
    {
     "data": {
      "text/plain": [
       "BetterGameRatio\n",
       "False    819\n",
       "True      45\n",
       "Name: count, dtype: int64"
      ]
     },
     "execution_count": 120,
     "metadata": {},
     "output_type": "execute_result"
    }
   ],
   "source": [
    "All_players[\"BetterGameRatio\"].value_counts() # check with gabe"
   ]
  },
  {
   "cell_type": "code",
   "execution_count": 122,
   "metadata": {},
   "outputs": [
    {
     "name": "stdout",
     "output_type": "stream",
     "text": [
      "43.75\n",
      "56.25\n"
     ]
    }
   ],
   "source": [
    "print(round(len(All_players[All_players[\"K/R\"] > 0.714197]) / 864 * 100, 2))# above\n",
    "print(round(len(All_players[All_players[\"K/R\"] < 0.714197]) / 864 * 100, 2)) # below"
   ]
  },
  {
   "cell_type": "code",
   "execution_count": 193,
   "metadata": {},
   "outputs": [
    {
     "data": {
      "image/png": "[encoded data removed]",
      "text/plain": [
       "<Figure size 640x480 with 1 Axes>"
      ]
     },
     "metadata": {},
     "output_type": "display_data"
    }
   ],
   "source": [
    "fig, ax = plt.subplots()\n",
    "ax.scatter(\n",
    "    All_players.query(\"Me != True\")[\"D/G\"],\n",
    "    All_players.query(\"Me != True\")[\"K/G\"],\n",
    "    alpha=0.3,\n",
    "    label=\"Other Players\",\n",
    ")\n",
    "ax.scatter(\n",
    "    All_players.query(\"Me == True\")[\"D/G\"],\n",
    "    All_players.query(\"Me == True\")[\"K/G\"],\n",
    "    marker=\"+\",\n",
    "    s=100,\n",
    "    label=\"Me\",\n",
    "    alpha=1,\n",
    ")\n",
    "\n",
    "\n",
    "ax.axline(\n",
    "    (All_players[\"D/G\"].mean(), All_players[\"K/G\"].mean()),\n",
    "    slope=1,\n",
    "    color=\".3\",\n",
    "    dashes=(2, 2),\n",
    "    label=\"Line of separation\",\n",
    ")\n",
    "\n",
    "ax.axvline(\n",
    "    All_players[\"D/G\"].mean(),\n",
    "    color=\".3\",\n",
    "    dashes=(2, 2),\n",
    ")\n",
    "\n",
    "x = All_players[All_players[\"D/G\"] < All_players[\"D/G\"].mean()][\"D/G\"].to_list()\n",
    "y1 = np.full(len(x), 30).tolist()\n",
    "y2 =  x - All_players[\"D/G\"].mean()+ All_players[\"K/G\"].mean()\n",
    "\n",
    "ax.fill_between(x, y1, y2, where = (y1  >= y2), interpolate=True, color = \"red\", alpha = 0.3)\n",
    "\n",
    "\n",
    "\n",
    "plt.xlabel(\"Deaths per game\")\n",
    "plt.ylabel(\"Kills per game\")\n",
    "plt.legend(bbox_to_anchor=(1, 1), loc=\"upper left\")\n",
    "plt.suptitle(\"Kills vs Assists per game\")\n",
    "plt.title(\"Me vs Other players\")\n",
    "plt.show()\n"
   ]
  },
  {
   "cell_type": "code",
   "execution_count": 250,
   "metadata": {},
   "outputs": [
    {
     "data": {
      "text/plain": [
       "count    401.000000\n",
       "mean      16.941446\n",
       "std        1.001964\n",
       "min       12.675000\n",
       "25%       16.437500\n",
       "50%       17.117647\n",
       "75%       17.686567\n",
       "max       18.151515\n",
       "Name: D/G, dtype: float64"
      ]
     },
     "execution_count": 250,
     "metadata": {},
     "output_type": "execute_result"
    }
   ],
   "source": [
    "x.describe()"
   ]
  },
  {
   "cell_type": "code",
   "execution_count": 269,
   "metadata": {},
   "outputs": [],
   "source": [
    "# All_players[All_players[\"D/G\"] < All_players[\"D/G\"].quantile(0.5)]\n"
   ]
  },
  {
   "cell_type": "code",
   "execution_count": 309,
   "metadata": {},
   "outputs": [],
   "source": [
    "x = All_players[All_players[\"D/G\"] <= All_players[\"D/G\"].mean()][\"D/G\"].sort_values()\n",
    "y1 = np.full(len(x), 30).tolist()\n",
    "y2 =  x - All_players[\"D/G\"].mean() + All_players[\"K/G\"].mean()"
   ]
  },
  {
   "cell_type": "code",
   "execution_count": 305,
   "metadata": {},
   "outputs": [],
   "source": [
    "# All_players[\"D/G\"]+ All_players[\"K/G\"]"
   ]
  },
  {
   "cell_type": "code",
   "execution_count": 310,
   "metadata": {},
   "outputs": [
    {
     "data": {
      "text/plain": [
       "PlayerId\n",
       "7d11b8fe-d84c-40c2-b405-3bfd2d4a5aa6    11.975191\n",
       "c745c457-e2f5-47c4-a1c8-d47729cb4ab2    12.209282\n",
       "bab81189-a751-4c73-928b-5a30eac3963e    12.377114\n",
       "277c05b2-6bdf-4fb7-bcad-ec6ac2239cf1    12.426334\n",
       "83323d68-4713-4e42-90e6-66dd329ccad6    12.607883\n",
       "                                          ...    \n",
       "0c105a1e-10b2-4ee8-80b6-f8d32caab751    17.437596\n",
       "38bcbf1f-2fb9-4eec-924f-ef322bbc8df1    17.438653\n",
       "9d661395-e375-4637-b6a3-22e06223bcaf    17.443048\n",
       "fbde9814-5bca-4fb7-9639-4254199ecfef    17.445803\n",
       "31d54b39-7210-4752-8e13-8dc06e032106    17.451706\n",
       "Name: D/G, Length: 401, dtype: float64"
      ]
     },
     "execution_count": 310,
     "metadata": {},
     "output_type": "execute_result"
    }
   ],
   "source": [
    "y2 #= np.linspace(y2.min(), y2.max(), len(x))"
   ]
  },
  {
   "cell_type": "code",
   "execution_count": 303,
   "metadata": {},
   "outputs": [
    {
     "data": {
      "text/plain": [
       "<matplotlib.legend.Legend at 0x2248417b880>"
      ]
     },
     "execution_count": 303,
     "metadata": {},
     "output_type": "execute_result"
    },
    {
     "data": {
      "image/png": "[encoded data removed]",
      "text/plain": [
       "<Figure size 640x480 with 1 Axes>"
      ]
     },
     "metadata": {},
     "output_type": "display_data"
    }
   ],
   "source": [
    "fig, ax = plt.subplots()\n",
    "# x = np.linspace(12, 18, len(x))\n",
    "# ax.plot(x, y1)\n",
    "ax.plot(x, y2, label = \"aqa\")\n",
    "# ax.fill_between(x, y1, y2, interpolate=True, alpha = .3)\n",
    "plt.legend()\n"
   ]
  },
  {
   "cell_type": "code",
   "execution_count": 171,
   "metadata": {},
   "outputs": [
    {
     "data": {
      "image/png": "[encoded data removed]",
      "text/plain": [
       "<Figure size 640x480 with 1 Axes>"
      ]
     },
     "metadata": {},
     "output_type": "display_data"
    }
   ],
   "source": [
    "x = np.array([0, 1, 2, 3]).tolist()\n",
    "y1 = np.array([0.8, 0.8, 0.2, 0.2]).tolist()\n",
    "y2 = np.array([0, 0, 1, 1])\n",
    "\n",
    "fig, ax1 = plt.subplots()\n",
    "\n",
    "ax1.set_title('interpolation=False')\n",
    "ax1.plot(x, y1, 'o--')\n",
    "ax1.plot(x, y2, 'o--')\n",
    "ax1.fill_between(x, y1, y2)\n",
    "# ax1.fill_between(x, y1, y2, where=(y1 < y2), color='C1', alpha=0.3)\n",
    "\n",
    "\n",
    "fig.tight_layout()\n"
   ]
  },
  {
   "cell_type": "code",
   "execution_count": 246,
   "metadata": {},
   "outputs": [
    {
     "data": {
      "text/plain": [
       "[<matplotlib.lines.Line2D at 0x22489891820>]"
      ]
     },
     "execution_count": 246,
     "metadata": {},
     "output_type": "execute_result"
    },
    {
     "data": {
      "image/png": "[encoded data removed]",
      "text/plain": [
       "<Figure size 640x480 with 1 Axes>"
      ]
     },
     "metadata": {},
     "output_type": "display_data"
    }
   ],
   "source": [
    "a_seq = [0.,0.5, 1.5 ,2.,  2.5, 3.,  3.5, 4.,  4.,  4. ]\n",
    "l1 = [0.0, 0.0, 1.0, 1.0, 1.0, 2.0, 3.0, 4.0, 4.0, 4.0]\n",
    "l2 = [0.0, 1.0, 2.0, 3.0, 4.0, 4.0, 4.0, 4.0, 4.0, 4.0]\n",
    "plt.plot(np.arange(0,len(a_seq)),a_seq, label = \"a_seq\")\n",
    "# plt.plot(l1)\n",
    "# plt.plot(l2)\n",
    "# plt.fill_between( np.arange(0,len(l1)), l2, l1, alpha=0.2)\n",
    "# plt.legend()\n",
    "# plt.show()"
   ]
  }
 ],
 "metadata": {
  "kernelspec": {
   "display_name": "Python 3",
   "language": "python",
   "name": "python3"
  },
  "language_info": {
   "codemirror_mode": {
    "name": "ipython",
    "version": 3
   },
   "file_extension": ".py",
   "mimetype": "text/x-python",
   "name": "python",
   "nbconvert_exporter": "python",
   "pygments_lexer": "ipython3",
   "version": "3.9.2"
  }
 },
 "nbformat": 4,
 "nbformat_minor": 2
}
