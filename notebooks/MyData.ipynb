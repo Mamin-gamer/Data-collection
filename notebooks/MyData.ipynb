{
 "cells": [
  {
   "cell_type": "code",
   "execution_count": 1,
   "metadata": {},
   "outputs": [],
   "source": [
    "import pandas as pd\n",
    "import numpy as np\n",
    "import matplotlib\n",
    "import matplotlib.pyplot as plt\n",
    "import seaborn as sns\n",
    "import json\n",
    "from dotenv import load_dotenv, find_dotenv\n",
    "import os\n",
    "import scipy\n",
    "from datetime import date, timedelta\n",
    "\n",
    "pd.set_option('display.max_columns', None)"
   ]
  },
  {
   "cell_type": "code",
   "execution_count": 2,
   "metadata": {},
   "outputs": [],
   "source": [
    "dotenv_path = find_dotenv()\n",
    "load_dotenv(dotenv_path)\n",
    "FACEIT_PLAYERID = os.environ.get(\"FACEIT_PLAYERID\")\n"
   ]
  },
  {
   "cell_type": "code",
   "execution_count": 3,
   "metadata": {},
   "outputs": [],
   "source": [
    "columns_to_keep_games_stats = [\"PlayerId\", \"CreatedAt\", \"UpdatedAt\", \"Map\",  \"Kills\", \"Deaths\", \"Assists\", \"Headshots\", \"FirstHalfScore\", \"SecondHalfScore\",'QuadroKills', 'TripleKills', 'PentaKills',\"Headshots\", \"Headshots%\",\"K/rRatio\", \"K/dRatio\", 'Mvps', \"OvertimeScore\", \"Rounds\", \"Score\", \"Result\"]\n"
   ]
  },
  {
   "cell_type": "code",
   "execution_count": 4,
   "metadata": {},
   "outputs": [],
   "source": [
    "def rename_cols(text: str):\n",
    "    text = text.split(\".\")[1]\n",
    "    text = text.split(\" \")\n",
    "    text = \"\".join(list(map(str.capitalize, text)))\n",
    "    return text\n",
    "\n",
    "\n",
    "\n",
    "def read_json():\n",
    "    with open(f\"../data/raw/Game Stats/{FACEIT_PLAYERID}_games_stats.json\", \"r\") as file:\n",
    "        obj = json.load(file)\n",
    "    df = pd.json_normalize(obj)\n",
    "    df = df.rename(columns=rename_cols)\n",
    "    return df"
   ]
  },
  {
   "cell_type": "code",
   "execution_count": 5,
   "metadata": {},
   "outputs": [],
   "source": [
    "df = read_json()[columns_to_keep_games_stats]"
   ]
  },
  {
   "cell_type": "code",
   "execution_count": 6,
   "metadata": {},
   "outputs": [],
   "source": [
    "df['DateOrdinal'] = pd.to_datetime(df['CreatedAt']).apply(lambda date: date.toordinal())\n"
   ]
  },
  {
   "cell_type": "code",
   "execution_count": 7,
   "metadata": {},
   "outputs": [],
   "source": [
    "type_casting = {\"PlayerId\": str, \"CreatedAt\": \"datetime64[ns]\", \"UpdatedAt\":  \"datetime64[ns]\", \"Kills\": int, \"Deaths\": int, \"Assists\": int, \"Headshots\": int, \"FirstHalfScore\":int, \"SecondHalfScore\": int, \"QuadroKills\": int,  \"TripleKills\": int, \"PentaKills\": int, \"Mvps\": int, \"OvertimeScore\": int, \"Rounds\": int, \"Result\": int}\n",
    "df = df.astype(type_casting, errors = \"ignore\")\n",
    "df.dropna(how = \"any\", inplace=True)\n",
    "df[\"Result\"] = df[\"Result\"].astype(int).astype(bool)"
   ]
  },
  {
   "cell_type": "code",
   "execution_count": null,
   "metadata": {},
   "outputs": [],
   "source": []
  },
  {
   "cell_type": "code",
   "execution_count": null,
   "metadata": {},
   "outputs": [],
   "source": []
  },
  {
   "cell_type": "code",
   "execution_count": 8,
   "metadata": {},
   "outputs": [],
   "source": [
    "def set_date_labels(ax):\n",
    "    new_labels = [date.fromordinal(int(item)).strftime(\"%m/%Y\") for item in ax.get_xticks()]\n",
    "    ax.set_xlabel(new_labels)\n",
    "    return ax"
   ]
  },
  {
   "cell_type": "code",
   "execution_count": 9,
   "metadata": {},
   "outputs": [],
   "source": [
    "deltas = df['CreatedAt'][::-1].diff()[1:]\n",
    "streaks = deltas[deltas < timedelta(days=1)]\n"
   ]
  },
  {
   "cell_type": "code",
   "execution_count": 32,
   "metadata": {},
   "outputs": [],
   "source": [
    "cols  = ['Kills', 'Deaths', 'Assists', 'Headshots', 'FirstHalfScore',\n",
    "       'SecondHalfScore', 'QuadroKills', 'TripleKills', 'PentaKills',\n",
    "       'Mvps', 'OvertimeScore', 'Rounds']\n",
    "\n",
    "overall_cols = ['Kills', 'Deaths', 'Assists', 'Headshots', 'Mvps']"
   ]
  },
  {
   "cell_type": "code",
   "execution_count": null,
   "metadata": {},
   "outputs": [],
   "source": []
  },
  {
   "cell_type": "code",
   "execution_count": 13,
   "metadata": {},
   "outputs": [],
   "source": [
    "df[\"Year\"] = df[\"CreatedAt\"].dt.year\n",
    "df[\"Month\"] = df[\"CreatedAt\"].dt.month\n",
    "df[\"Day\"] = df[\"CreatedAt\"].dt.day"
   ]
  },
  {
   "cell_type": "code",
   "execution_count": 14,
   "metadata": {},
   "outputs": [
    {
     "name": "stderr",
     "output_type": "stream",
     "text": [
      "C:\\Users\\local_ec22805\\Temp\\ipykernel_45348\\2676288042.py:5: UserWarning: FixedFormatter should only be used together with FixedLocator\n",
      "  ax.set_xticklabels(new_labels, rotation = 30)\n"
     ]
    },
    {
     "data": {
      "image/png": "[encoded data removed]",
      "text/plain": [
       "<Figure size 360x360 with 1 Axes>"
      ]
     },
     "metadata": {
      "needs_background": "light"
     },
     "output_type": "display_data"
    }
   ],
   "source": [
    "g = sns.lmplot(data= df, x = \"DateOrdinal\", y = \"Kills\", ci=None, line_kws={\"color\" : \"red\"}, facet_kws=dict(sharex=False, sharey=False))\n",
    "#plt.title(\"Kills over time\")\n",
    "for ax in g.axes.flat:\n",
    "    new_labels = [date.fromordinal(int(item)).strftime(\"%m/%Y\") for item in ax.get_xticks()]\n",
    "    ax.set_xticklabels(new_labels, rotation = 30)\n",
    "    ax.set_xlabel(\"Date\")\n",
    "    ax.set_title(\"Kills over time\")\n",
    "    \n",
    "plt.show()\n",
    "\n",
    "\n"
   ]
  },
  {
   "cell_type": "code",
   "execution_count": 25,
   "metadata": {},
   "outputs": [
    {
     "name": "stderr",
     "output_type": "stream",
     "text": [
      "C:\\Users\\local_ec22805\\Temp\\ipykernel_45348\\4185791470.py:12: UserWarning: FixedFormatter should only be used together with FixedLocator\n",
      "  ax.set_xticklabels(new_labels, rotation = 30, ha='center')\n",
      "C:\\Users\\local_ec22805\\Temp\\ipykernel_45348\\4185791470.py:12: UserWarning: FixedFormatter should only be used together with FixedLocator\n",
      "  ax.set_xticklabels(new_labels, rotation = 30, ha='center')\n",
      "C:\\Users\\local_ec22805\\Temp\\ipykernel_45348\\4185791470.py:12: UserWarning: FixedFormatter should only be used together with FixedLocator\n",
      "  ax.set_xticklabels(new_labels, rotation = 30, ha='center')\n",
      "C:\\Users\\local_ec22805\\Temp\\ipykernel_45348\\4185791470.py:12: UserWarning: FixedFormatter should only be used together with FixedLocator\n",
      "  ax.set_xticklabels(new_labels, rotation = 30, ha='center')\n"
     ]
    },
    {
     "data": {
      "image/png": "[encoded data removed]",
      "text/plain": [
       "<Figure size 1440x360 with 4 Axes>"
      ]
     },
     "metadata": {
      "needs_background": "light"
     },
     "output_type": "display_data"
    }
   ],
   "source": [
    "g = sns.lmplot(data= df, x = \"DateOrdinal\", y = \"Kills\", col = \"Year\", hue = \"Year\", x_jitter=False, ci=None, line_kws={\"color\" : \"red\"}, facet_kws=dict(sharex=False, sharey=False))\n",
    "g.set_titles(\"{col_name}\")\n",
    "for ax in g.axes.flat:\n",
    "    year = int(ax.get_title())\n",
    "    mini, maxi = df.query(\"Year == @year\")[\"DateOrdinal\"].agg([min, max]).values\n",
    "    ax.set_xlim(left=mini-10, right = maxi+10)\n",
    "    new_labels = []\n",
    "    for item in ax.get_xticks():\n",
    "        new_labels.append(date.fromordinal(int(item)).strftime(\"%m/%Y\") )\n",
    "    ax\n",
    "    ax.set_xticklabels(new_labels, rotation = 30, ha='center')\n",
    "    ax.set_xlabel(\"Date\")\n",
    "g.fig.subplots_adjust(top=0.8) # adjust the Figure in rp\n",
    "g.fig.suptitle(\"Kills over years\")\n",
    "g.set_titles(\"Year = {col_name}\")\n",
    "plt.show()\n",
    "\n",
    "\n"
   ]
  },
  {
   "cell_type": "markdown",
   "metadata": {},
   "source": [
    "As we can see, the last game was played there are 2 massive clusters of data with visible outliers. I want only \n",
    "\n",
    "1) Data is centred around 2 values -> the most active\n",
    "2) Outliers present, need to delete\n",
    "\n"
   ]
  },
  {
   "cell_type": "code",
   "execution_count": null,
   "metadata": {},
   "outputs": [],
   "source": []
  },
  {
   "cell_type": "code",
   "execution_count": 88,
   "metadata": {},
   "outputs": [
    {
     "data": {
      "text/html": [
       "<div>\n",
       "<style scoped>\n",
       "    .dataframe tbody tr th:only-of-type {\n",
       "        vertical-align: middle;\n",
       "    }\n",
       "\n",
       "    .dataframe tbody tr th {\n",
       "        vertical-align: top;\n",
       "    }\n",
       "\n",
       "    .dataframe thead th {\n",
       "        text-align: right;\n",
       "    }\n",
       "</style>\n",
       "<table border=\"1\" class=\"dataframe\">\n",
       "  <thead>\n",
       "    <tr style=\"text-align: right;\">\n",
       "      <th></th>\n",
       "      <th>PlayerId</th>\n",
       "      <th>CreatedAt</th>\n",
       "      <th>UpdatedAt</th>\n",
       "      <th>Map</th>\n",
       "      <th>Kills</th>\n",
       "      <th>Deaths</th>\n",
       "      <th>Assists</th>\n",
       "      <th>Headshots</th>\n",
       "      <th>FirstHalfScore</th>\n",
       "      <th>SecondHalfScore</th>\n",
       "      <th>QuadroKills</th>\n",
       "      <th>TripleKills</th>\n",
       "      <th>PentaKills</th>\n",
       "      <th>Headshots</th>\n",
       "      <th>Headshots%</th>\n",
       "      <th>K/rRatio</th>\n",
       "      <th>K/dRatio</th>\n",
       "      <th>Mvps</th>\n",
       "      <th>OvertimeScore</th>\n",
       "      <th>Rounds</th>\n",
       "      <th>Score</th>\n",
       "      <th>Result</th>\n",
       "      <th>DateOrdinal</th>\n",
       "    </tr>\n",
       "  </thead>\n",
       "  <tbody>\n",
       "    <tr>\n",
       "      <th>0</th>\n",
       "      <td>2fb9fe10-5c7e-4f2f-860b-a9ee2f88801a</td>\n",
       "      <td>2020-03-28 23:24:01.382</td>\n",
       "      <td>2020-03-28 23:25:40.927</td>\n",
       "      <td>de_dust2</td>\n",
       "      <td>17</td>\n",
       "      <td>16</td>\n",
       "      <td>3</td>\n",
       "      <td>8</td>\n",
       "      <td>6</td>\n",
       "      <td>3</td>\n",
       "      <td>0</td>\n",
       "      <td>1</td>\n",
       "      <td>0</td>\n",
       "      <td>8</td>\n",
       "      <td>47</td>\n",
       "      <td>0.68</td>\n",
       "      <td>1.06</td>\n",
       "      <td>2</td>\n",
       "      <td>0</td>\n",
       "      <td>25</td>\n",
       "      <td>16 / 9</td>\n",
       "      <td>False</td>\n",
       "      <td>737512</td>\n",
       "    </tr>\n",
       "    <tr>\n",
       "      <th>1</th>\n",
       "      <td>2fb9fe10-5c7e-4f2f-860b-a9ee2f88801a</td>\n",
       "      <td>2019-02-22 01:46:04.960</td>\n",
       "      <td>2019-02-22 01:47:34.311</td>\n",
       "      <td>de_train</td>\n",
       "      <td>9</td>\n",
       "      <td>21</td>\n",
       "      <td>0</td>\n",
       "      <td>7</td>\n",
       "      <td>3</td>\n",
       "      <td>5</td>\n",
       "      <td>0</td>\n",
       "      <td>0</td>\n",
       "      <td>0</td>\n",
       "      <td>7</td>\n",
       "      <td>78</td>\n",
       "      <td>0.38</td>\n",
       "      <td>0.43</td>\n",
       "      <td>0</td>\n",
       "      <td>0</td>\n",
       "      <td>24</td>\n",
       "      <td>16 / 8</td>\n",
       "      <td>False</td>\n",
       "      <td>737112</td>\n",
       "    </tr>\n",
       "    <tr>\n",
       "      <th>2</th>\n",
       "      <td>2fb9fe10-5c7e-4f2f-860b-a9ee2f88801a</td>\n",
       "      <td>2019-02-22 00:47:37.372</td>\n",
       "      <td>2019-02-22 00:49:08.208</td>\n",
       "      <td>de_mirage</td>\n",
       "      <td>15</td>\n",
       "      <td>18</td>\n",
       "      <td>0</td>\n",
       "      <td>8</td>\n",
       "      <td>4</td>\n",
       "      <td>3</td>\n",
       "      <td>1</td>\n",
       "      <td>0</td>\n",
       "      <td>0</td>\n",
       "      <td>8</td>\n",
       "      <td>53</td>\n",
       "      <td>0.65</td>\n",
       "      <td>0.83</td>\n",
       "      <td>1</td>\n",
       "      <td>0</td>\n",
       "      <td>23</td>\n",
       "      <td>16 / 7</td>\n",
       "      <td>False</td>\n",
       "      <td>737112</td>\n",
       "    </tr>\n",
       "    <tr>\n",
       "      <th>3</th>\n",
       "      <td>2fb9fe10-5c7e-4f2f-860b-a9ee2f88801a</td>\n",
       "      <td>2018-09-12 08:15:31.590</td>\n",
       "      <td>2018-09-12 08:16:57.279</td>\n",
       "      <td>de_cache</td>\n",
       "      <td>18</td>\n",
       "      <td>19</td>\n",
       "      <td>3</td>\n",
       "      <td>11</td>\n",
       "      <td>7</td>\n",
       "      <td>9</td>\n",
       "      <td>0</td>\n",
       "      <td>3</td>\n",
       "      <td>0</td>\n",
       "      <td>11</td>\n",
       "      <td>61</td>\n",
       "      <td>0.62</td>\n",
       "      <td>0.95</td>\n",
       "      <td>5</td>\n",
       "      <td>0</td>\n",
       "      <td>29</td>\n",
       "      <td>13 / 16</td>\n",
       "      <td>True</td>\n",
       "      <td>736949</td>\n",
       "    </tr>\n",
       "    <tr>\n",
       "      <th>4</th>\n",
       "      <td>2fb9fe10-5c7e-4f2f-860b-a9ee2f88801a</td>\n",
       "      <td>2018-09-12 07:14:34.446</td>\n",
       "      <td>2018-09-12 07:15:45.275</td>\n",
       "      <td>de_mirage</td>\n",
       "      <td>14</td>\n",
       "      <td>10</td>\n",
       "      <td>2</td>\n",
       "      <td>9</td>\n",
       "      <td>13</td>\n",
       "      <td>3</td>\n",
       "      <td>0</td>\n",
       "      <td>0</td>\n",
       "      <td>0</td>\n",
       "      <td>9</td>\n",
       "      <td>64</td>\n",
       "      <td>0.67</td>\n",
       "      <td>1.4</td>\n",
       "      <td>1</td>\n",
       "      <td>0</td>\n",
       "      <td>21</td>\n",
       "      <td>16 / 5</td>\n",
       "      <td>True</td>\n",
       "      <td>736949</td>\n",
       "    </tr>\n",
       "  </tbody>\n",
       "</table>\n",
       "</div>"
      ],
      "text/plain": [
       "                               PlayerId               CreatedAt  \\\n",
       "0  2fb9fe10-5c7e-4f2f-860b-a9ee2f88801a 2020-03-28 23:24:01.382   \n",
       "1  2fb9fe10-5c7e-4f2f-860b-a9ee2f88801a 2019-02-22 01:46:04.960   \n",
       "2  2fb9fe10-5c7e-4f2f-860b-a9ee2f88801a 2019-02-22 00:47:37.372   \n",
       "3  2fb9fe10-5c7e-4f2f-860b-a9ee2f88801a 2018-09-12 08:15:31.590   \n",
       "4  2fb9fe10-5c7e-4f2f-860b-a9ee2f88801a 2018-09-12 07:14:34.446   \n",
       "\n",
       "                UpdatedAt        Map  Kills  Deaths  Assists  Headshots  \\\n",
       "0 2020-03-28 23:25:40.927   de_dust2     17      16        3          8   \n",
       "1 2019-02-22 01:47:34.311   de_train      9      21        0          7   \n",
       "2 2019-02-22 00:49:08.208  de_mirage     15      18        0          8   \n",
       "3 2018-09-12 08:16:57.279   de_cache     18      19        3         11   \n",
       "4 2018-09-12 07:15:45.275  de_mirage     14      10        2          9   \n",
       "\n",
       "   FirstHalfScore  SecondHalfScore  QuadroKills  TripleKills  PentaKills  \\\n",
       "0               6                3            0            1           0   \n",
       "1               3                5            0            0           0   \n",
       "2               4                3            1            0           0   \n",
       "3               7                9            0            3           0   \n",
       "4              13                3            0            0           0   \n",
       "\n",
       "   Headshots Headshots% K/rRatio K/dRatio  Mvps  OvertimeScore  Rounds  \\\n",
       "0          8         47     0.68     1.06     2              0      25   \n",
       "1          7         78     0.38     0.43     0              0      24   \n",
       "2          8         53     0.65     0.83     1              0      23   \n",
       "3         11         61     0.62     0.95     5              0      29   \n",
       "4          9         64     0.67      1.4     1              0      21   \n",
       "\n",
       "     Score  Result  DateOrdinal  \n",
       "0   16 / 9   False       737512  \n",
       "1   16 / 8   False       737112  \n",
       "2   16 / 7   False       737112  \n",
       "3  13 / 16    True       736949  \n",
       "4   16 / 5    True       736949  "
      ]
     },
     "execution_count": 88,
     "metadata": {},
     "output_type": "execute_result"
    }
   ],
   "source": [
    "df.head()"
   ]
  },
  {
   "cell_type": "code",
   "execution_count": 93,
   "metadata": {},
   "outputs": [],
   "source": [
    "df.select_dtypes(include=np.number).columns.tolist()\n",
    "Maps = df.groupby(by = \"Map\").aggregate({'Kills': sum, 'Deaths': sum,  \"Map\": \"count\"}).rename({\"Map\": \"TimesPlayed\"}, axis = 1)\n"
   ]
  },
  {
   "cell_type": "code",
   "execution_count": 126,
   "metadata": {},
   "outputs": [
    {
     "data": {
      "text/html": [
       "<div>\n",
       "<style scoped>\n",
       "    .dataframe tbody tr th:only-of-type {\n",
       "        vertical-align: middle;\n",
       "    }\n",
       "\n",
       "    .dataframe tbody tr th {\n",
       "        vertical-align: top;\n",
       "    }\n",
       "\n",
       "    .dataframe thead th {\n",
       "        text-align: right;\n",
       "    }\n",
       "</style>\n",
       "<table border=\"1\" class=\"dataframe\">\n",
       "  <thead>\n",
       "    <tr style=\"text-align: right;\">\n",
       "      <th></th>\n",
       "      <th>Kills</th>\n",
       "      <th>Deaths</th>\n",
       "      <th>TimesPlayed</th>\n",
       "    </tr>\n",
       "    <tr>\n",
       "      <th>Map</th>\n",
       "      <th></th>\n",
       "      <th></th>\n",
       "      <th></th>\n",
       "    </tr>\n",
       "  </thead>\n",
       "  <tbody>\n",
       "    <tr>\n",
       "      <th>de_mirage</th>\n",
       "      <td>639</td>\n",
       "      <td>597</td>\n",
       "      <td>40</td>\n",
       "    </tr>\n",
       "    <tr>\n",
       "      <th>de_cache</th>\n",
       "      <td>266</td>\n",
       "      <td>320</td>\n",
       "      <td>17</td>\n",
       "    </tr>\n",
       "    <tr>\n",
       "      <th>de_overpass</th>\n",
       "      <td>178</td>\n",
       "      <td>226</td>\n",
       "      <td>13</td>\n",
       "    </tr>\n",
       "    <tr>\n",
       "      <th>de_inferno</th>\n",
       "      <td>178</td>\n",
       "      <td>171</td>\n",
       "      <td>12</td>\n",
       "    </tr>\n",
       "    <tr>\n",
       "      <th>de_dust2</th>\n",
       "      <td>102</td>\n",
       "      <td>151</td>\n",
       "      <td>8</td>\n",
       "    </tr>\n",
       "    <tr>\n",
       "      <th>de_train</th>\n",
       "      <td>40</td>\n",
       "      <td>81</td>\n",
       "      <td>5</td>\n",
       "    </tr>\n",
       "    <tr>\n",
       "      <th>de_cbble</th>\n",
       "      <td>65</td>\n",
       "      <td>60</td>\n",
       "      <td>4</td>\n",
       "    </tr>\n",
       "    <tr>\n",
       "      <th>de_nuke</th>\n",
       "      <td>64</td>\n",
       "      <td>66</td>\n",
       "      <td>3</td>\n",
       "    </tr>\n",
       "  </tbody>\n",
       "</table>\n",
       "</div>"
      ],
      "text/plain": [
       "             Kills  Deaths  TimesPlayed\n",
       "Map                                    \n",
       "de_mirage      639     597           40\n",
       "de_cache       266     320           17\n",
       "de_overpass    178     226           13\n",
       "de_inferno     178     171           12\n",
       "de_dust2       102     151            8\n",
       "de_train        40      81            5\n",
       "de_cbble        65      60            4\n",
       "de_nuke         64      66            3"
      ]
     },
     "execution_count": 126,
     "metadata": {},
     "output_type": "execute_result"
    }
   ],
   "source": [
    "Maps.sort_values(by = \"TimesPlayed\", inplace=True, ascending=False)\n",
    "Maps"
   ]
  },
  {
   "cell_type": "code",
   "execution_count": 129,
   "metadata": {},
   "outputs": [
    {
     "data": {
      "image/png": "[encoded data removed]",
      "text/plain": [
       "<Figure size 432x288 with 1 Axes>"
      ]
     },
     "metadata": {},
     "output_type": "display_data"
    }
   ],
   "source": [
    "fig, ax = plt.subplots()\n",
    "ax.pie(Maps[\"TimesPlayed\"], labels = Maps.index, autopct='%1.1f%%', radius = 2, )\n",
    "ax.xaxis.set_label_position('top')\n",
    "ax.set_title('Times the map was played', y=1.5)\n",
    "plt.legend(bbox_to_anchor=(1.6, 1.01))\n",
    "plt.show()"
   ]
  },
  {
   "cell_type": "code",
   "execution_count": null,
   "metadata": {},
   "outputs": [],
   "source": [
    "fig, ax = plt.subplots()\n",
    "ax.pie(Maps[\"TimesPlayed\"], labels = Maps.index, autopct='%1.1f%%', radius = 2, )\n",
    "ax.xaxis.set_label_position('top')\n",
    "ax.set_title('Times the map was played', y=1.5)\n",
    "plt.legend(bbox_to_anchor=(1.6, 1.01))\n",
    "plt.show()"
   ]
  }
 ],
 "metadata": {
  "kernelspec": {
   "display_name": "Python 3",
   "language": "python",
   "name": "python3"
  },
  "language_info": {
   "codemirror_mode": {
    "name": "ipython",
    "version": 3
   },
   "file_extension": ".py",
   "mimetype": "text/x-python",
   "name": "python",
   "nbconvert_exporter": "python",
   "pygments_lexer": "ipython3",
   "version": "3.9.12"
  }
 },
 "nbformat": 4,
 "nbformat_minor": 2
}
