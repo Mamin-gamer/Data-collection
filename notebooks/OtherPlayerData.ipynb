{
 "cells": [
  {
   "cell_type": "code",
   "execution_count": null,
   "metadata": {},
   "outputs": [],
   "source": [
    "import pandas as pd\n",
    "import numpy as np\n",
    "import matplotlib.pyplot as plt\n",
    "import seaborn as sns\n",
    "\n"
   ]
  },
  {
   "cell_type": "code",
   "execution_count": null,
   "metadata": {},
   "outputs": [],
   "source": [
    "columns_to_keep_games_stats = [\"PlayerId\", \"CreatedAt\", \"UpdatedAt\", \"Map\",  \"Kills\", \"Deaths\", \"Assists\", \"Headshots\", \"FirstHalfScore\", \"SecondHalfScore\",'QuadroKills', 'TripleKills', 'PentaKills',\"Headshots\", \"Headshots%\",\"K/rRatio\", \"K/dRatio\", 'Mvps', \"OvertimeScore\", \"Rounds\", \"Score\", \"Result\"]\n",
    "\n",
    "df = pd.read_pickle(\"./dataCompressed.pkl\", \"zip\")[columns_to_keep_games_stats]\n"
   ]
  },
  {
   "cell_type": "code",
   "execution_count": null,
   "metadata": {},
   "outputs": [],
   "source": [
    "type_casting = {\"PlayerId\": str, \"CreatedAt\": \"datetime64[ns]\", \"UpdatedAt\":  \"datetime64[ns]\", \"Kills\": int, \"Deaths\": int, \"Assists\": int, \"Headshots\": int, \"FirstHalfScore\":int, \"SecondHalfScore\": int, \"QuadroKills\": int,  \"TripleKills\": int, \"PentaKills\": int, \"Mvps\": int, \"OvertimeScore\": int, \"Rounds\": int, \"Result\": int}\n",
    "df = df.astype(type_casting, errors = \"ignore\")\n"
   ]
  },
  {
   "cell_type": "code",
   "execution_count": null,
   "metadata": {},
   "outputs": [],
   "source": [
    "df.dropna(how = \"any\", inplace=True)\n",
    "df[\"Result\"] = df[\"Result\"].astype(int).astype(bool)"
   ]
  },
  {
   "cell_type": "code",
   "execution_count": null,
   "metadata": {},
   "outputs": [],
   "source": []
  }
 ],
 "metadata": {
  "language_info": {
   "name": "python"
  }
 },
 "nbformat": 4,
 "nbformat_minor": 2
}
