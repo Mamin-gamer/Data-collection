{
 "cells": [
  {
   "cell_type": "code",
   "execution_count": 1,
   "metadata": {},
   "outputs": [
    {
     "name": "stdout",
     "output_type": "stream",
     "text": [
      "Collecting python-dotenv\n",
      "  Using cached python_dotenv-1.0.0-py3-none-any.whl (19 kB)\n",
      "Installing collected packages: python-dotenv\n"
     ]
    },
    {
     "name": "stderr",
     "output_type": "stream",
     "text": [
      "ERROR: Could not install packages due to an OSError: [WinError 5] Access is denied: 'C:\\\\tools\\\\Anaconda3\\\\Lib\\\\site-packages\\\\dotenv'\n",
      "Consider using the `--user` option or check the permissions.\n",
      "\n"
     ]
    }
   ],
   "source": [
    "!pip install python-dotenv"
   ]
  },
  {
   "cell_type": "code",
   "execution_count": 1,
   "metadata": {},
   "outputs": [],
   "source": [
    "import pandas as pd\n",
    "import numpy as np\n",
    "import matplotlib.pyplot as plt\n",
    "import seaborn as sns\n",
    "\n",
    "\n",
    "\n"
   ]
  },
  {
   "cell_type": "code",
   "execution_count": 2,
   "metadata": {},
   "outputs": [],
   "source": [
    "columns_to_keep_games_stats = [\"PlayerId\", \"CreatedAt\", \"UpdatedAt\", \"Map\",  \"Kills\", \"Deaths\", \"Assists\", \"Headshots\", \"FirstHalfScore\", \"SecondHalfScore\",'QuadroKills', 'TripleKills', 'PentaKills',\"Headshots\", \"Headshots%\",\"K/rRatio\", \"K/dRatio\", 'Mvps', \"OvertimeScore\", \"Rounds\", \"Score\", \"Result\"]\n",
    "\n",
    "df = pd.read_pickle(\"./dataCompressed.pkl\", \"zip\")[columns_to_keep_games_stats]\n"
   ]
  },
  {
   "cell_type": "code",
   "execution_count": 3,
   "metadata": {},
   "outputs": [],
   "source": [
    "type_casting = {\"PlayerId\": str, \"CreatedAt\": \"datetime64[ns]\", \"UpdatedAt\":  \"datetime64[ns]\", \"Kills\": int, \"Deaths\": int, \"Assists\": int, \"Headshots\": int, \"FirstHalfScore\":int, \"SecondHalfScore\": int, \"QuadroKills\": int,  \"TripleKills\": int, \"PentaKills\": int, \"Mvps\": int, \"OvertimeScore\": int, \"Rounds\": int, \"Result\": int}\n",
    "df = df.astype(type_casting, errors = \"ignore\")\n"
   ]
  },
  {
   "cell_type": "code",
   "execution_count": 4,
   "metadata": {},
   "outputs": [],
   "source": [
    "df.dropna(how = \"any\", inplace=True)\n",
    "df[\"Result\"] = df[\"Result\"].astype(int).astype(bool)"
   ]
  },
  {
   "cell_type": "code",
   "execution_count": 5,
   "metadata": {},
   "outputs": [
    {
     "data": {
      "text/plain": [
       "(398294, 22)"
      ]
     },
     "execution_count": 5,
     "metadata": {},
     "output_type": "execute_result"
    }
   ],
   "source": [
    "df.shape"
   ]
  }
 ],
 "metadata": {
  "interpreter": {
   "hash": "a707b6ce8c685eb936424fcc3009d4b4b7a52543c4db09380a3fc49186ceb509"
  },
  "kernelspec": {
   "display_name": "Python 3.9.12 64-bit",
   "language": "python",
   "name": "python3"
  },
  "language_info": {
   "codemirror_mode": {
    "name": "ipython",
    "version": 3
   },
   "file_extension": ".py",
   "mimetype": "text/x-python",
   "name": "python",
   "nbconvert_exporter": "python",
   "pygments_lexer": "ipython3",
   "version": "3.9.12"
  }
 },
 "nbformat": 4,
 "nbformat_minor": 2
}
