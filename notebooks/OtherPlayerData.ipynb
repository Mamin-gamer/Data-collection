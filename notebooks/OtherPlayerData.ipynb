{
 "cells": [
  {
   "cell_type": "code",
   "execution_count": 1,
   "metadata": {},
   "outputs": [
    {
     "name": "stdout",
     "output_type": "stream",
     "text": [
      "Collecting python-dotenv\n",
      "  Using cached python_dotenv-1.0.0-py3-none-any.whl (19 kB)\n",
      "Installing collected packages: python-dotenv\n"
     ]
    },
    {
     "name": "stderr",
     "output_type": "stream",
     "text": [
      "ERROR: Could not install packages due to an OSError: [WinError 5] Access is denied: 'C:\\\\tools\\\\Anaconda3\\\\Lib\\\\site-packages\\\\dotenv'\n",
      "Consider using the `--user` option or check the permissions.\n",
      "\n"
     ]
    }
   ],
   "source": [
    "!pip install python-dotenv"
   ]
  },
  {
   "cell_type": "code",
   "execution_count": 1,
   "metadata": {},
   "outputs": [],
   "source": [
    "import pandas as pd\n",
    "import numpy as np\n",
    "import matplotlib.pyplot as plt\n",
    "import seaborn as sns\n",
    "\n",
    "\n",
    "\n"
   ]
  },
  {
   "cell_type": "code",
   "execution_count": 2,
   "metadata": {},
   "outputs": [],
   "source": [
    "columns_to_keep_games_stats = [\"PlayerId\", \"CreatedAt\", \"UpdatedAt\", \"Map\",  \"Kills\", \"Deaths\", \"Assists\", \"Headshots\", \"FirstHalfScore\", \"SecondHalfScore\",'QuadroKills', 'TripleKills', 'PentaKills',\"Headshots\", \"Headshots%\",\"K/rRatio\", \"K/dRatio\", 'Mvps', \"OvertimeScore\", \"Rounds\", \"Score\", \"Result\"]\n",
    "\n",
    "df = pd.read_pickle(\"./dataCompressed.pkl\", \"zip\")[columns_to_keep_games_stats]\n"
   ]
  },
  {
   "cell_type": "code",
   "execution_count": 3,
   "metadata": {},
   "outputs": [],
   "source": [
    "type_casting = {\"PlayerId\": str, \"CreatedAt\": \"datetime64[ns]\", \"UpdatedAt\":  \"datetime64[ns]\", \"Kills\": int, \"Deaths\": int, \"Assists\": int, \"Headshots\": int, \"FirstHalfScore\":int, \"SecondHalfScore\": int, \"QuadroKills\": int,  \"TripleKills\": int, \"PentaKills\": int, \"Mvps\": int, \"OvertimeScore\": int, \"Rounds\": int, \"Result\": int}\n",
    "df = df.astype(type_casting, errors = \"ignore\")\n"
   ]
  },
  {
   "cell_type": "code",
   "execution_count": 4,
   "metadata": {},
   "outputs": [],
   "source": [
    "df.dropna(how = \"any\", inplace=True)\n",
    "df[\"Result\"] = df[\"Result\"].astype(int).astype(bool)"
   ]
  },
  {
   "cell_type": "code",
   "execution_count": 5,
   "metadata": {},
   "outputs": [
    {
     "data": {
      "text/plain": [
       "(398294, 22)"
      ]
     },
     "execution_count": 5,
     "metadata": {},
     "output_type": "execute_result"
    }
   ],
   "source": [
    "df.shape"
   ]
  },
  {
   "cell_type": "code",
   "execution_count": 7,
   "metadata": {},
   "outputs": [],
   "source": [
    "df[\"SteamData\"] = False"
   ]
  },
  {
   "cell_type": "code",
   "execution_count": 8,
   "metadata": {},
   "outputs": [
    {
     "data": {
      "text/html": [
       "<div>\n",
       "<style scoped>\n",
       "    .dataframe tbody tr th:only-of-type {\n",
       "        vertical-align: middle;\n",
       "    }\n",
       "\n",
       "    .dataframe tbody tr th {\n",
       "        vertical-align: top;\n",
       "    }\n",
       "\n",
       "    .dataframe thead th {\n",
       "        text-align: right;\n",
       "    }\n",
       "</style>\n",
       "<table border=\"1\" class=\"dataframe\">\n",
       "  <thead>\n",
       "    <tr style=\"text-align: right;\">\n",
       "      <th></th>\n",
       "      <th>PlayerId</th>\n",
       "      <th>CreatedAt</th>\n",
       "      <th>UpdatedAt</th>\n",
       "      <th>Map</th>\n",
       "      <th>Kills</th>\n",
       "      <th>Deaths</th>\n",
       "      <th>Assists</th>\n",
       "      <th>Headshots</th>\n",
       "      <th>FirstHalfScore</th>\n",
       "      <th>SecondHalfScore</th>\n",
       "      <th>...</th>\n",
       "      <th>Headshots</th>\n",
       "      <th>Headshots%</th>\n",
       "      <th>K/rRatio</th>\n",
       "      <th>K/dRatio</th>\n",
       "      <th>Mvps</th>\n",
       "      <th>OvertimeScore</th>\n",
       "      <th>Rounds</th>\n",
       "      <th>Score</th>\n",
       "      <th>Result</th>\n",
       "      <th>SteamData</th>\n",
       "    </tr>\n",
       "  </thead>\n",
       "  <tbody>\n",
       "    <tr>\n",
       "      <th>0</th>\n",
       "      <td>a618b317-dc84-4540-81ed-d19206409169</td>\n",
       "      <td>2018-06-28 12:35:26.525</td>\n",
       "      <td>2018-06-28 12:37:03.301</td>\n",
       "      <td>de_inferno</td>\n",
       "      <td>10</td>\n",
       "      <td>18</td>\n",
       "      <td>2</td>\n",
       "      <td>5</td>\n",
       "      <td>5</td>\n",
       "      <td>0</td>\n",
       "      <td>...</td>\n",
       "      <td>5</td>\n",
       "      <td>50</td>\n",
       "      <td>0.48</td>\n",
       "      <td>0.56</td>\n",
       "      <td>2</td>\n",
       "      <td>0</td>\n",
       "      <td>21</td>\n",
       "      <td>5 / 16</td>\n",
       "      <td>False</td>\n",
       "      <td>False</td>\n",
       "    </tr>\n",
       "    <tr>\n",
       "      <th>1</th>\n",
       "      <td>a618b317-dc84-4540-81ed-d19206409169</td>\n",
       "      <td>2018-06-28 11:55:38.737</td>\n",
       "      <td>2018-06-28 11:55:38.737</td>\n",
       "      <td>workshop/131710506/aim_map2_go</td>\n",
       "      <td>6</td>\n",
       "      <td>16</td>\n",
       "      <td>0</td>\n",
       "      <td>4</td>\n",
       "      <td>5</td>\n",
       "      <td>1</td>\n",
       "      <td>...</td>\n",
       "      <td>4</td>\n",
       "      <td>67</td>\n",
       "      <td>0.27</td>\n",
       "      <td>0.38</td>\n",
       "      <td>6</td>\n",
       "      <td>0</td>\n",
       "      <td>22</td>\n",
       "      <td>16 / 6</td>\n",
       "      <td>False</td>\n",
       "      <td>False</td>\n",
       "    </tr>\n",
       "    <tr>\n",
       "      <th>2</th>\n",
       "      <td>a618b317-dc84-4540-81ed-d19206409169</td>\n",
       "      <td>2018-05-12 22:10:29.854</td>\n",
       "      <td>2018-05-12 22:10:29.854</td>\n",
       "      <td>de_overpass</td>\n",
       "      <td>19</td>\n",
       "      <td>21</td>\n",
       "      <td>1</td>\n",
       "      <td>7</td>\n",
       "      <td>3</td>\n",
       "      <td>5</td>\n",
       "      <td>...</td>\n",
       "      <td>7</td>\n",
       "      <td>37</td>\n",
       "      <td>0.79</td>\n",
       "      <td>0.9</td>\n",
       "      <td>1</td>\n",
       "      <td>0</td>\n",
       "      <td>24</td>\n",
       "      <td>16 / 8</td>\n",
       "      <td>False</td>\n",
       "      <td>False</td>\n",
       "    </tr>\n",
       "    <tr>\n",
       "      <th>3</th>\n",
       "      <td>a618b317-dc84-4540-81ed-d19206409169</td>\n",
       "      <td>2018-05-12 21:15:03.426</td>\n",
       "      <td>2018-05-12 21:15:03.426</td>\n",
       "      <td>de_inferno</td>\n",
       "      <td>14</td>\n",
       "      <td>12</td>\n",
       "      <td>2</td>\n",
       "      <td>7</td>\n",
       "      <td>10</td>\n",
       "      <td>6</td>\n",
       "      <td>...</td>\n",
       "      <td>7</td>\n",
       "      <td>50</td>\n",
       "      <td>0.67</td>\n",
       "      <td>1.17</td>\n",
       "      <td>3</td>\n",
       "      <td>0</td>\n",
       "      <td>21</td>\n",
       "      <td>16 / 5</td>\n",
       "      <td>True</td>\n",
       "      <td>False</td>\n",
       "    </tr>\n",
       "    <tr>\n",
       "      <th>4</th>\n",
       "      <td>a618b317-dc84-4540-81ed-d19206409169</td>\n",
       "      <td>2018-05-12 19:33:00.427</td>\n",
       "      <td>2018-05-12 19:34:37.364</td>\n",
       "      <td>de_cache</td>\n",
       "      <td>8</td>\n",
       "      <td>19</td>\n",
       "      <td>4</td>\n",
       "      <td>4</td>\n",
       "      <td>4</td>\n",
       "      <td>0</td>\n",
       "      <td>...</td>\n",
       "      <td>4</td>\n",
       "      <td>50</td>\n",
       "      <td>0.4</td>\n",
       "      <td>0.42</td>\n",
       "      <td>0</td>\n",
       "      <td>0</td>\n",
       "      <td>20</td>\n",
       "      <td>16 / 4</td>\n",
       "      <td>False</td>\n",
       "      <td>False</td>\n",
       "    </tr>\n",
       "  </tbody>\n",
       "</table>\n",
       "<p>5 rows × 23 columns</p>\n",
       "</div>"
      ],
      "text/plain": [
       "                               PlayerId               CreatedAt  \\\n",
       "0  a618b317-dc84-4540-81ed-d19206409169 2018-06-28 12:35:26.525   \n",
       "1  a618b317-dc84-4540-81ed-d19206409169 2018-06-28 11:55:38.737   \n",
       "2  a618b317-dc84-4540-81ed-d19206409169 2018-05-12 22:10:29.854   \n",
       "3  a618b317-dc84-4540-81ed-d19206409169 2018-05-12 21:15:03.426   \n",
       "4  a618b317-dc84-4540-81ed-d19206409169 2018-05-12 19:33:00.427   \n",
       "\n",
       "                UpdatedAt                             Map  Kills  Deaths  \\\n",
       "0 2018-06-28 12:37:03.301                      de_inferno     10      18   \n",
       "1 2018-06-28 11:55:38.737  workshop/131710506/aim_map2_go      6      16   \n",
       "2 2018-05-12 22:10:29.854                     de_overpass     19      21   \n",
       "3 2018-05-12 21:15:03.426                      de_inferno     14      12   \n",
       "4 2018-05-12 19:34:37.364                        de_cache      8      19   \n",
       "\n",
       "   Assists  Headshots  FirstHalfScore  SecondHalfScore  ...  Headshots  \\\n",
       "0        2          5               5                0  ...          5   \n",
       "1        0          4               5                1  ...          4   \n",
       "2        1          7               3                5  ...          7   \n",
       "3        2          7              10                6  ...          7   \n",
       "4        4          4               4                0  ...          4   \n",
       "\n",
       "   Headshots%  K/rRatio  K/dRatio Mvps OvertimeScore Rounds   Score Result  \\\n",
       "0          50      0.48      0.56    2             0     21  5 / 16  False   \n",
       "1          67      0.27      0.38    6             0     22  16 / 6  False   \n",
       "2          37      0.79       0.9    1             0     24  16 / 8  False   \n",
       "3          50      0.67      1.17    3             0     21  16 / 5   True   \n",
       "4          50       0.4      0.42    0             0     20  16 / 4  False   \n",
       "\n",
       "   SteamData  \n",
       "0      False  \n",
       "1      False  \n",
       "2      False  \n",
       "3      False  \n",
       "4      False  \n",
       "\n",
       "[5 rows x 23 columns]"
      ]
     },
     "execution_count": 8,
     "metadata": {},
     "output_type": "execute_result"
    }
   ],
   "source": [
    "df.head()"
   ]
  }
 ],
 "metadata": {
  "interpreter": {
   "hash": "a707b6ce8c685eb936424fcc3009d4b4b7a52543c4db09380a3fc49186ceb509"
  },
  "kernelspec": {
   "display_name": "Python 3.9.12 64-bit",
   "language": "python",
   "name": "python3"
  },
  "language_info": {
   "codemirror_mode": {
    "name": "ipython",
    "version": 3
   },
   "file_extension": ".py",
   "mimetype": "text/x-python",
   "name": "python",
   "nbconvert_exporter": "python",
   "pygments_lexer": "ipython3",
   "version": "3.9.2"
  }
 },
 "nbformat": 4,
 "nbformat_minor": 2
}
