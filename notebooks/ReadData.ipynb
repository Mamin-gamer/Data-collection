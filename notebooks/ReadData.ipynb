{
 "cells": [
  {
   "cell_type": "code",
   "execution_count": 1,
   "metadata": {},
   "outputs": [],
   "source": [
    "import pandas as pd\n",
    "import numpy as np\n",
    "import matplotlib.pyplot as plt\n",
    "import seaborn as sns\n",
    "import json\n",
    "from dotenv import load_dotenv, find_dotenv\n",
    "import os\n",
    "\n",
    "pd.set_option(\"display.max_columns\", None)\n"
   ]
  },
  {
   "cell_type": "code",
   "execution_count": 2,
   "metadata": {},
   "outputs": [],
   "source": [
    "dotenv_path = find_dotenv()\n",
    "load_dotenv(dotenv_path)\n",
    "FACEIT_PLAYERID = os.environ.get(\"FACEIT_PLAYERID\")\n"
   ]
  },
  {
   "cell_type": "code",
   "execution_count": 3,
   "metadata": {},
   "outputs": [],
   "source": [
    "def rename_cols(text: str):\n",
    "    text = text.split(\".\")[1]\n",
    "    text = text.split(\" \")  # type: ignore\n",
    "    text = \"\".join(list(map(str.capitalize, text)))\n",
    "    return text\n",
    "\n",
    "\n",
    "def read_json():\n",
    "    with open(\n",
    "        f\"../data/raw/Game Stats/{FACEIT_PLAYERID}_games_stats.json\", \"r\"\n",
    "    ) as file:\n",
    "        obj = json.load(file)\n",
    "    df = pd.json_normalize(obj)\n",
    "    df = df.rename(columns=rename_cols)\n",
    "    return df"
   ]
  },
  {
   "cell_type": "code",
   "execution_count": 4,
   "metadata": {},
   "outputs": [],
   "source": [
    "# df1 = read_json()\n",
    "df1 = pd.read_pickle(\"./dataCompressed.pkl\", compression=\"zip\")\n",
    "df2 = pd.read_pickle(\"./DataCompressedSteam.pkl\", compression=\"zip\")"
   ]
  },
  {
   "cell_type": "code",
   "execution_count": 5,
   "metadata": {},
   "outputs": [],
   "source": [
    "type_casting = {\n",
    "    \"PlayerId\": str,\n",
    "    \"CreatedAt\": \"datetime64[ns]\",\n",
    "    \"Kills\": int,\n",
    "    \"Deaths\": int,\n",
    "    \"Assists\": int,\n",
    "    \"Headshots\": int,\n",
    "    \"FirstHalfScore\": int,\n",
    "    \"SecondHalfScore\": int,\n",
    "    \"QuadroKills\": int,\n",
    "    \"TripleKills\": int,\n",
    "    \"PentaKills\": int,\n",
    "    \"Headshots%\": int,\n",
    "    \"Mvps\": int,\n",
    "    \"OvertimeScore\": int,\n",
    "    \"Rounds\": int,\n",
    "}\n",
    "df1 = df1.astype(type_casting, errors=\"ignore\")\n",
    "df1.dropna(how=\"any\", inplace=True)\n",
    "df1[\"Result\"] = df1[\"Result\"].astype(int).replace({1: \"Win\", 0: \"Lose\"})\n",
    "df1[\"SteamData\"] = False\n",
    "df1[\"Score\"] = df1[\"Score\"].str.replace(\" / \", \":\")\n"
   ]
  },
  {
   "cell_type": "code",
   "execution_count": 6,
   "metadata": {},
   "outputs": [],
   "source": [
    "common_columns = [\n",
    "    \"PlayerId\",\n",
    "    \"Kills\",\n",
    "    \"Assists\",\n",
    "    \"Deaths\",\n",
    "    \"Mvps\",\n",
    "    \"Headshots%\",\n",
    "    \"Score\",\n",
    "    \"Map\",\n",
    "    \"Result\",\n",
    "    \"CreatedAt\",\n",
    "    \"SteamData\",\n",
    "]\n"
   ]
  },
  {
   "cell_type": "code",
   "execution_count": 7,
   "metadata": {},
   "outputs": [],
   "source": [
    "DF = pd.concat(\n",
    "    [df1[common_columns], df2[common_columns]], join=\"inner\", ignore_index=True\n",
    ")\n",
    "DF[\"Result\"].replace({\"True\": \"Won\", \"False\": \"Loss\"}, inplace=True)\n",
    "\n",
    "DF[\"Rounds\"] = DF[\"Score\"].str.split(\":\").apply(lambda x: int(x[0]) + int(x[1]))\n",
    "\n"
   ]
  },
  {
   "cell_type": "code",
   "execution_count": 8,
   "metadata": {},
   "outputs": [],
   "source": [
    "DF[\"DateOrdinal\"] = DF[\"CreatedAt\"].apply(lambda date: date.toordinal())\n"
   ]
  },
  {
   "cell_type": "code",
   "execution_count": 9,
   "metadata": {},
   "outputs": [],
   "source": [
    "rename_maps = {\n",
    "    \"Mirage\": \"de_mirage\",\n",
    "    \"Cache\": \"de_cache\",\n",
    "    \"Dust II\": \"de_dust2\",\n",
    "    \"Overpass\": \"de_overpass\",\n",
    "    \"Inferno\": \"de_inferno\",\n",
    "    \"Cobblestone\": \"de_cbble\",\n",
    "    \"Train\": \"de_train\",\n",
    "    \"Office\": \"de_office\",\n",
    "    \"Nuke\": \"de_nuke\",\n",
    "}\n",
    "\n",
    "DF[\"Map\"].replace(rename_maps, inplace=True)\n",
    "DF.query(\"Map != 'de_office'\", inplace=True)\n",
    "DF.reset_index(drop=False, inplace=True)\n",
    "DF.sort_values(by = \"CreatedAt\", ascending=True, inplace=True)\n",
    "DF.reset_index(drop=True, inplace=True)\n",
    "\n",
    "\n",
    "DF[\"Year\"] = DF[\"CreatedAt\"].dt.year\n",
    "DF[\"Month\"] = DF[\"CreatedAt\"].dt.month\n",
    "DF[\"Day\"] = DF[\"CreatedAt\"].dt.day\n",
    "\n",
    "\n",
    "DF.query(\"Map != 'de_office'\", inplace=True)\n",
    "DF.sort_values(by = \"CreatedAt\", ascending=True, inplace=True)\n"
   ]
  },
  {
   "cell_type": "code",
   "execution_count": null,
   "metadata": {},
   "outputs": [],
   "source": []
  },
  {
   "cell_type": "code",
   "execution_count": 12,
   "metadata": {},
   "outputs": [],
   "source": [
    "DF.to_pickle(\"./AllDatabz2.pkl\", compression=\"bz2\")"
   ]
  }
 ],
 "metadata": {
  "kernelspec": {
   "display_name": "Python 3",
   "language": "python",
   "name": "python3"
  },
  "language_info": {
   "codemirror_mode": {
    "name": "ipython",
    "version": 3
   },
   "file_extension": ".py",
   "mimetype": "text/x-python",
   "name": "python",
   "nbconvert_exporter": "python",
   "pygments_lexer": "ipython3",
   "version": "3.9.2"
  }
 },
 "nbformat": 4,
 "nbformat_minor": 2
}
