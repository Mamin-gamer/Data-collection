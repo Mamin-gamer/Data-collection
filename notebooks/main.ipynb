{
 "cells": [
  {
   "cell_type": "code",
   "execution_count": 2,
   "metadata": {},
   "outputs": [
    {
     "name": "stdout",
     "output_type": "stream",
     "text": [
      "Collecting python-dotenv\n",
      "  Using cached python_dotenv-1.0.0-py3-none-any.whl (19 kB)\n",
      "Installing collected packages: python-dotenv\n",
      "Successfully installed python-dotenv-1.0.0\n"
     ]
    },
    {
     "name": "stderr",
     "output_type": "stream",
     "text": [
      "  WARNING: The script dotenv.exe is installed in 'C:\\Users\\ec22805\\AppData\\Roaming\\Python\\Python39\\Scripts' which is not on PATH.\n",
      "  Consider adding this directory to PATH or, if you prefer to suppress this warning, use --no-warn-script-location.\n"
     ]
    }
   ],
   "source": [
    "!pip install --user python-dotenv"
   ]
  },
  {
   "cell_type": "code",
   "execution_count": 4,
   "metadata": {},
   "outputs": [],
   "source": [
    "import requests\n",
    "import pandas as pd\n",
    "import numpy as np\n",
    "import json\n",
    "import os\n",
    "from dotenv import load_dotenv, find_dotenv\n",
    "\n",
    "dotenv_path = find_dotenv()\n",
    "load_dotenv(dotenv_path)\n",
    "\n",
    "\n",
    "pd.set_option('display.max_columns', None)"
   ]
  },
  {
   "cell_type": "code",
   "execution_count": 5,
   "metadata": {},
   "outputs": [],
   "source": [
    "FACEIT_PLAYERID = os.environ.get(\"FACEIT_PLAYERID\")\n",
    "KEY = os.environ.get(\"KEY\")\n",
    "HEADER = {\"Authorization\": f\"Bearer {KEY}\"}\n",
    "BASIC_URL = \"https://open.faceit.com/data/v4/\""
   ]
  },
  {
   "cell_type": "code",
   "execution_count": 7,
   "metadata": {},
   "outputs": [],
   "source": [
    "\n",
    "#used to retreive time registered and elo\n",
    "def retreive_player_by_id(id: str) -> dict:\n",
    "    response = shorter_url(url=f\"players/{id}\")\n",
    "    return response\n",
    "# used to shorted the URL and not to specify header every time\n",
    "def shorter_url(url = \"\") -> dict:\n",
    "    request = BASIC_URL + url\n",
    "    return requests.get(request, headers = HEADER).json()\n",
    "\n",
    "#gets number of games for paginaition\n",
    "def get_number_of_games_played(id: str) -> int:\n",
    "    response = int(shorter_url(url = f\"players/{id}/stats/csgo\")[\"lifetime\"][\"Matches\"])\n",
    "    return response\n",
    "\n",
    "#retreived time registered\n",
    "def get_time_registered(id: str) -> str:\n",
    "    response = retreive_player_by_id(id)\n",
    "    return response[\"activated_at\"]\n",
    "\n",
    "\n",
    "#retreived elo and level\n",
    "def get_level_elo(id: str) -> int:\n",
    "    response = retreive_player_by_id(id)\n",
    "    return (response[\"games\"][\"csgo\"][\"skill_level\"], response[\"games\"][\"csgo\"][\"faceit_elo\"])\n",
    "\n",
    "\n",
    "#retreived all stats from all matches\n",
    "def retreive_player_game_stats(id: str, offset = 0, limit = 100) -> dict:\n",
    "    games_played = get_number_of_games_played(id)\n",
    "    offset = 0\n",
    "    times_to_run = games_played // limit\n",
    "    response_array = []\n",
    "\n",
    "    while times_to_run > 0:\n",
    "        response = shorter_url(url = f\"players/{id}/games/csgo/stats?offset={offset}&limit={limit}\")[\"items\"]\n",
    "        response_array.extend(response)\n",
    "        times_to_run-=1\n",
    "        offset+=limit\n",
    "        \n",
    "    else:\n",
    "        response = shorter_url(url = f\"players/{id}/games/csgo/stats?offset={offset}&limit={limit}\")[\"items\"]\n",
    "        response_array.extend(response)\n",
    "    return response_array\n",
    "\n",
    "\n",
    "# use for myself once only\n",
    "def retreive_player_history(id: str, offset = 0, limit = 100) -> dict:\n",
    "    games_played = get_number_of_games_played(id)\n",
    "    registered = get_time_registered(id)\n",
    "    registered = int(pd.Timestamp(registered).timestamp())\n",
    "    offset = 0\n",
    "    times_to_run = games_played // limit\n",
    "    response_array = []\n",
    "\n",
    "    while times_to_run > 0:\n",
    "        response = shorter_url(url = f\"players/{id}/history?game=csgo&from={registered}&offset={offset}&limit={limit}\")[\"items\"]\n",
    "        response_array.extend(response)\n",
    "        times_to_run-=1\n",
    "        offset+=limit\n",
    "        \n",
    "    else:\n",
    "        response = shorter_url(url = f\"players/{id}/history?game=csgo&from={registered}&offset={offset}&limit={limit}\")[\"items\"]\n",
    "        response_array.extend(response[1::])\n",
    "    return response_array\n",
    "\n",
    "\n"
   ]
  },
  {
   "cell_type": "code",
   "execution_count": null,
   "metadata": {},
   "outputs": [],
   "source": []
  },
  {
   "cell_type": "code",
   "execution_count": 2,
   "metadata": {},
   "outputs": [],
   "source": [
    "MatchHistory = retreive_player_history(FACEIT_PLAYERID)\n",
    "with open(f\"../data/raw/Match History/{FACEIT_PLAYERID}_match_history.json\", \"w\") as file:\n",
    "    json.dump(MatchHistory, file )   "
   ]
  },
  {
   "cell_type": "code",
   "execution_count": 11,
   "metadata": {},
   "outputs": [],
   "source": [
    "GamesStats = retreive_player_game_stats(FACEIT_PLAYERID)\n",
    "with open(f\"../data/raw/Game Stats/{FACEIT_PLAYERID}_games_stats.json\", \"w\") as file:\n",
    "    json.dump(GamesStats, file )"
   ]
  },
  {
   "cell_type": "code",
   "execution_count": 51,
   "metadata": {},
   "outputs": [],
   "source": [
    "def get_all_players_id():\n",
    "    with open(f\"../data/raw/Match History/{FACEIT_PLAYERID}_match_history.json\", \"r\") as file:\n",
    "        # df = pd.json_normalize(file, max_level=4)\n",
    "        obj = json.load(file)\n",
    "    list_2D = (list(map(lambda x: x[\"playing_players\"], obj)))\n",
    "    list_1D = {item for sub_list in list_2D for item in sub_list}\n",
    "\n",
    "    return list_1D"
   ]
  },
  {
   "cell_type": "code",
   "execution_count": 52,
   "metadata": {},
   "outputs": [],
   "source": [
    "players_IDs = get_all_players_id()"
   ]
  },
  {
   "cell_type": "code",
   "execution_count": 101,
   "metadata": {},
   "outputs": [],
   "source": [
    "def download_player_data(id: str) -> None:\n",
    "    data = retreive_player_game_stats(id)\n",
    "    with open(f\"../data/raw/Game Stats/{id}_games_stats.json\", \"w\") as file:\n",
    "        json.dump(data, file)"
   ]
  },
  {
   "cell_type": "code",
   "execution_count": 102,
   "metadata": {},
   "outputs": [],
   "source": [
    "# for id in sample:\n",
    "#     download_player_data(id)"
   ]
  },
  {
   "cell_type": "code",
   "execution_count": 88,
   "metadata": {},
   "outputs": [],
   "source": [
    "# with open(\"../data/raw/Game Stats/Game Stats/40476548-200a-4e2b-8db2-0d8c98765efc_games_stats.json\", \"r\") as file:\n",
    "#     df = json.load(file)"
   ]
  },
  {
   "cell_type": "code",
   "execution_count": 89,
   "metadata": {},
   "outputs": [],
   "source": [
    "# df = pd.json_normalize(df)"
   ]
  },
  {
   "cell_type": "code",
   "execution_count": 4,
   "metadata": {},
   "outputs": [],
   "source": [
    "def rename_cols(text: str):\n",
    "    text = text.split(\".\")[1]\n",
    "    text = text.split(\" \")\n",
    "    text = \"\".join(list(map(str.capitalize, text)))\n",
    "    return text\n",
    "\n"
   ]
  },
  {
   "cell_type": "code",
   "execution_count": 15,
   "metadata": {},
   "outputs": [],
   "source": [
    "def create_df_from_json():\n",
    "    df = pd.DataFrame()\n",
    "    for ID in list(players_IDs):\n",
    "        path = f\"../data/raw/Game Stats/{ID}_games_stats.json\"\n",
    "        with open(path, \"r\") as file:\n",
    "            obj = json.load(file)\n",
    "            obj = pd.json_normalize(obj)\n",
    "        obj = obj.rename(columns=rename_cols)\n",
    "        df = pd.concat([df, obj], ignore_index=True)\n",
    "    return df\n",
    "\n",
    "def make_pickle(df: pd.DataFrame):\n",
    "    df.to_pickle(\"dataCompressed.pkl\", compression=\"zip\")\n"
   ]
  },
  {
   "cell_type": "code",
   "execution_count": 5,
   "metadata": {},
   "outputs": [],
   "source": []
  },
  {
   "cell_type": "code",
   "execution_count": 37,
   "metadata": {},
   "outputs": [],
   "source": []
  },
  {
   "cell_type": "code",
   "execution_count": 46,
   "metadata": {},
   "outputs": [],
   "source": []
  },
  {
   "cell_type": "code",
   "execution_count": 47,
   "metadata": {},
   "outputs": [],
   "source": []
  },
  {
   "cell_type": "code",
   "execution_count": 51,
   "metadata": {},
   "outputs": [],
   "source": []
  },
  {
   "cell_type": "code",
   "execution_count": null,
   "metadata": {},
   "outputs": [],
   "source": []
  }
 ],
 "metadata": {
  "kernelspec": {
   "display_name": "Python 3",
   "language": "python",
   "name": "python3"
  },
  "language_info": {
   "codemirror_mode": {
    "name": "ipython",
    "version": 3
   },
   "file_extension": ".py",
   "mimetype": "text/x-python",
   "name": "python",
   "nbconvert_exporter": "python",
   "pygments_lexer": "ipython3",
   "version": "3.9.12"
  }
 },
 "nbformat": 4,
 "nbformat_minor": 2
}
