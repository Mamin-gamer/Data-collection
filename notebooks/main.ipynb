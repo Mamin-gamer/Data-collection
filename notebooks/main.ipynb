{
 "cells": [
  {
   "cell_type": "code",
   "execution_count": 4,
   "metadata": {},
   "outputs": [
    {
     "data": {
      "text/plain": [
       "True"
      ]
     },
     "execution_count": 4,
     "metadata": {},
     "output_type": "execute_result"
    }
   ],
   "source": [
    "import requests\n",
    "import pandas as pd\n",
    "import json\n",
    "\n",
    "import os\n",
    "from dotenv import load_dotenv, find_dotenv\n",
    "\n",
    "\n",
    "dotenv_path = find_dotenv()\n",
    "load_dotenv(dotenv_path)"
   ]
  },
  {
   "cell_type": "code",
   "execution_count": 5,
   "metadata": {},
   "outputs": [],
   "source": [
    "FACEIT_PLAYERID = os.environ.get(\"FACEIT_PLAYERID\")\n",
    "KEY = os.environ.get(\"KEY\")\n",
    "HEADER = {\"Authorization\": f\"Bearer {KEY}\"}\n",
    "BASIC_URL = \"https://open.faceit.com/data/v4/\""
   ]
  },
  {
   "cell_type": "code",
   "execution_count": 22,
   "metadata": {},
   "outputs": [],
   "source": [
    "\n",
    "#used to retreive time registered and elo\n",
    "def retreive_player_by_id(id: str) -> dict:\n",
    "    response = shorter_url(url=f\"players/{id}\")\n",
    "    return response\n",
    "# used to shorted the URL and not to specify header every time\n",
    "def shorter_url(url = \"\") -> dict:\n",
    "    request = BASIC_URL + url\n",
    "    return requests.get(request, headers = HEADER).json()\n",
    "\n",
    "#gets number of games for paginaition\n",
    "def get_number_of_games_played(id: str) -> int:\n",
    "    response = int(shorter_url(url = f\"players/{id}/stats/csgo\")[\"lifetime\"][\"Matches\"])\n",
    "    return response\n",
    "\n",
    "#retreived time registered\n",
    "def get_time_registered(id: str) -> str:\n",
    "    response = retreive_player_by_id(id)\n",
    "    return response[\"activated_at\"]\n",
    "\n",
    "\n",
    "#retreived elo and level\n",
    "def get_level_elo(id: str) -> int:\n",
    "    response = retreive_player_by_id(id)\n",
    "    return (response[\"games\"][\"csgo\"][\"skill_level\"], response[\"games\"][\"csgo\"][\"faceit_elo\"])\n",
    "\n",
    "#needs paginating\n",
    "# def retreive_player_game_stats(id: str) -> dict:\n",
    "#     response = shorter_url(url=f\"players/{id}/games/csgo/stats?offset=0&limit=20\")\n",
    "#     return response\n",
    "\n",
    "\n",
    "def retreive_player_game_stats(id: str, offset = 0, limit = 100) -> dict:\n",
    "    games_played = get_number_of_games_played(id)\n",
    "    offset = 0\n",
    "    times_to_run = games_played // limit\n",
    "    response_array = []\n",
    "\n",
    "    while times_to_run > 0:\n",
    "        response = shorter_url(url = f\"players/{id}/games/csgo/stats?offset={offset}&limit={limit}\")[\"items\"]\n",
    "        response_array.extend(response)\n",
    "        times_to_run-=1\n",
    "        offset+=limit\n",
    "        \n",
    "    else:\n",
    "        response = shorter_url(url = f\"players/{id}/games/csgo/stats?offset={offset}&limit={limit}\")[\"items\"]\n",
    "        response_array.extend(response)\n",
    "    return response_array\n",
    "\n",
    "\n",
    "# use for myself once only\n",
    "def retreive_player_history(id: str, offset = 0, limit = 100) -> dict:\n",
    "    games_played = get_number_of_games_played(id)\n",
    "    registered = get_time_registered(id)\n",
    "    registered = int(pd.Timestamp(registered).timestamp())\n",
    "    offset = 0\n",
    "    times_to_run = games_played // limit\n",
    "    response_array = []\n",
    "\n",
    "    while times_to_run > 0:\n",
    "        response = shorter_url(url = f\"players/{id}/history?game=csgo&from={registered}&offset={offset}&limit={limit}\")[\"items\"]\n",
    "        response_array.extend(response)\n",
    "        times_to_run-=1\n",
    "        offset+=limit\n",
    "        \n",
    "    else:\n",
    "        response = shorter_url(url = f\"players/{id}/history?game=csgo&from={registered}&offset={offset}&limit={limit}\")[\"items\"]\n",
    "        response_array.extend(response[1::])\n",
    "    return response_array\n",
    "\n",
    "\n"
   ]
  },
  {
   "cell_type": "code",
   "execution_count": 23,
   "metadata": {},
   "outputs": [],
   "source": [
    "MatchHistory = retreive_player_history(FACEIT_PLAYERID)\n",
    "with open(f\"../data/raw/{FACEIT_PLAYERID}_match_history.json\", \"w\") as file:\n",
    "    json.dump(MatchHistory, file )   "
   ]
  },
  {
   "cell_type": "code",
   "execution_count": 28,
   "metadata": {},
   "outputs": [],
   "source": [
    "GamesStats = retreive_player_game_stats(FACEIT_PLAYERID)\n",
    "with open(f\"../data/raw/{FACEIT_PLAYERID}_games_stats.json\", \"w\") as file:\n",
    "    json.dump(GamesStats, file )"
   ]
  },
  {
   "cell_type": "code",
   "execution_count": null,
   "metadata": {},
   "outputs": [],
   "source": []
  },
  {
   "cell_type": "code",
   "execution_count": null,
   "metadata": {},
   "outputs": [],
   "source": []
  }
 ],
 "metadata": {
  "kernelspec": {
   "display_name": "Python 3",
   "language": "python",
   "name": "python3"
  },
  "language_info": {
   "codemirror_mode": {
    "name": "ipython",
    "version": 3
   },
   "file_extension": ".py",
   "mimetype": "text/x-python",
   "name": "python",
   "nbconvert_exporter": "python",
   "pygments_lexer": "ipython3",
   "version": "3.9.2"
  }
 },
 "nbformat": 4,
 "nbformat_minor": 2
}
