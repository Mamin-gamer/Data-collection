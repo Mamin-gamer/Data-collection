{
 "cells": [
  {
   "cell_type": "code",
   "execution_count": 104,
   "metadata": {},
   "outputs": [
    {
     "data": {
      "text/plain": [
       "True"
      ]
     },
     "execution_count": 104,
     "metadata": {},
     "output_type": "execute_result"
    }
   ],
   "source": [
    "import requests\n",
    "import pandas as pd\n",
    "import numpy as np\n",
    "import json\n",
    "import os\n",
    "from dotenv import load_dotenv, find_dotenv\n",
    "import glob\n",
    "\n",
    "dotenv_path = find_dotenv()\n",
    "load_dotenv(dotenv_path)"
   ]
  },
  {
   "cell_type": "code",
   "execution_count": 3,
   "metadata": {},
   "outputs": [],
   "source": [
    "FACEIT_PLAYERID = os.environ.get(\"FACEIT_PLAYERID\")\n",
    "KEY = os.environ.get(\"KEY\")\n",
    "HEADER = {\"Authorization\": f\"Bearer {KEY}\"}\n",
    "BASIC_URL = \"https://open.faceit.com/data/v4/\""
   ]
  },
  {
   "cell_type": "code",
   "execution_count": 4,
   "metadata": {},
   "outputs": [],
   "source": [
    "\n",
    "#used to retreive time registered and elo\n",
    "def retreive_player_by_id(id: str) -> dict:\n",
    "    response = shorter_url(url=f\"players/{id}\")\n",
    "    return response\n",
    "# used to shorted the URL and not to specify header every time\n",
    "def shorter_url(url = \"\") -> dict:\n",
    "    request = BASIC_URL + url\n",
    "    return requests.get(request, headers = HEADER).json()\n",
    "\n",
    "#gets number of games for paginaition\n",
    "def get_number_of_games_played(id: str) -> int:\n",
    "    response = int(shorter_url(url = f\"players/{id}/stats/csgo\")[\"lifetime\"][\"Matches\"])\n",
    "    return response\n",
    "\n",
    "#retreived time registered\n",
    "def get_time_registered(id: str) -> str:\n",
    "    response = retreive_player_by_id(id)\n",
    "    return response[\"activated_at\"]\n",
    "\n",
    "\n",
    "#retreived elo and level\n",
    "def get_level_elo(id: str) -> int:\n",
    "    response = retreive_player_by_id(id)\n",
    "    return (response[\"games\"][\"csgo\"][\"skill_level\"], response[\"games\"][\"csgo\"][\"faceit_elo\"])\n",
    "\n",
    "\n",
    "#retreived all stats from all matches\n",
    "def retreive_player_game_stats(id: str, offset = 0, limit = 100) -> dict:\n",
    "    games_played = get_number_of_games_played(id)\n",
    "    offset = 0\n",
    "    times_to_run = games_played // limit\n",
    "    response_array = []\n",
    "\n",
    "    while times_to_run > 0:\n",
    "        response = shorter_url(url = f\"players/{id}/games/csgo/stats?offset={offset}&limit={limit}\")[\"items\"]\n",
    "        response_array.extend(response)\n",
    "        times_to_run-=1\n",
    "        offset+=limit\n",
    "        \n",
    "    else:\n",
    "        response = shorter_url(url = f\"players/{id}/games/csgo/stats?offset={offset}&limit={limit}\")[\"items\"]\n",
    "        response_array.extend(response)\n",
    "    return response_array\n",
    "\n",
    "\n",
    "# use for myself once only\n",
    "def retreive_player_history(id: str, offset = 0, limit = 100) -> dict:\n",
    "    games_played = get_number_of_games_played(id)\n",
    "    registered = get_time_registered(id)\n",
    "    registered = int(pd.Timestamp(registered).timestamp())\n",
    "    offset = 0\n",
    "    times_to_run = games_played // limit\n",
    "    response_array = []\n",
    "\n",
    "    while times_to_run > 0:\n",
    "        response = shorter_url(url = f\"players/{id}/history?game=csgo&from={registered}&offset={offset}&limit={limit}\")[\"items\"]\n",
    "        response_array.extend(response)\n",
    "        times_to_run-=1\n",
    "        offset+=limit\n",
    "        \n",
    "    else:\n",
    "        response = shorter_url(url = f\"players/{id}/history?game=csgo&from={registered}&offset={offset}&limit={limit}\")[\"items\"]\n",
    "        response_array.extend(response[1::])\n",
    "    return response_array\n",
    "\n",
    "\n"
   ]
  },
  {
   "cell_type": "code",
   "execution_count": 9,
   "metadata": {},
   "outputs": [],
   "source": [
    "# MatchHistory = retreive_player_history(FACEIT_PLAYERID)\n",
    "# with open(f\"../data/raw/Match History/{FACEIT_PLAYERID}_match_history.json\", \"w\") as file:\n",
    "#     json.dump(MatchHistory, file )   "
   ]
  },
  {
   "cell_type": "code",
   "execution_count": 6,
   "metadata": {},
   "outputs": [],
   "source": [
    "# GamesStats = retreive_player_game_stats(FACEIT_PLAYERID)\n",
    "# with open(f\"../data/raw/Game Stats/{FACEIT_PLAYERID}_games_stats.json\", \"w\") as file:\n",
    "#     json.dump(GamesStats, file )"
   ]
  },
  {
   "cell_type": "code",
   "execution_count": 51,
   "metadata": {},
   "outputs": [],
   "source": [
    "def get_all_players_id():\n",
    "    with open(f\"../data/raw/Match History/{FACEIT_PLAYERID}_match_history.json\", \"r\") as file:\n",
    "        # df = pd.json_normalize(file, max_level=4)\n",
    "        obj = json.load(file)\n",
    "        list_2D = (list(map(lambda x: x[\"playing_players\"], obj)))\n",
    "        list_1D = {item for sub_list in list_2D for item in sub_list}\n",
    "\n",
    "    return list_1D"
   ]
  },
  {
   "cell_type": "code",
   "execution_count": 52,
   "metadata": {},
   "outputs": [],
   "source": [
    "players_IDs = get_all_players_id()"
   ]
  },
  {
   "cell_type": "code",
   "execution_count": 101,
   "metadata": {},
   "outputs": [],
   "source": [
    "def download_player_data(id: str) -> None:\n",
    "    data = retreive_player_game_stats(id)\n",
    "    with open(f\"../data/raw/Game Stats/{id}_games_stats.json\", \"w\") as file:\n",
    "        json.dump(data, file)"
   ]
  },
  {
   "cell_type": "code",
   "execution_count": 102,
   "metadata": {},
   "outputs": [],
   "source": [
    "# for id in sample:\n",
    "#     download_player_data(id)"
   ]
  },
  {
   "cell_type": "code",
   "execution_count": 88,
   "metadata": {},
   "outputs": [],
   "source": [
    "# with open(\"../data/raw/Game Stats/Game Stats/40476548-200a-4e2b-8db2-0d8c98765efc_games_stats.json\", \"r\") as file:\n",
    "#     df = json.load(file)"
   ]
  },
  {
   "cell_type": "code",
   "execution_count": 89,
   "metadata": {},
   "outputs": [],
   "source": [
    "# df = pd.json_normalize(df)"
   ]
  },
  {
   "cell_type": "code",
   "execution_count": 110,
   "metadata": {},
   "outputs": [],
   "source": [
    "def rename_cols(text: str):\n",
    "    text = text.split(\".\")[1]\n",
    "    text = text.split(\" \")\n",
    "    text = \"\".join(list(map(str.capitalize, text)))\n",
    "    return text\n",
    "\n"
   ]
  },
  {
   "cell_type": "code",
   "execution_count": null,
   "metadata": {},
   "outputs": [],
   "source": [
    "columns_to_keep_games_stats = [\"PlayerId\", \"CreatedAt\", \"UpdatedAt\", \"Map\",  \"Kills\", \"Deaths\", \"Assists\", \"Headshots\", \"FirstHalfScore\", \"SecondHalfScore\",'QuadroKills', 'TripleKills', 'PentaKills', 'Mvps', \"OvertimeScore\", \"Rounds\", \"Score\", \"Result\"]\n"
   ]
  },
  {
   "cell_type": "code",
   "execution_count": 162,
   "metadata": {},
   "outputs": [],
   "source": [
    "# df = pd.DataFrame()\n",
    "# for ID in list(players_IDs):\n",
    "#     path = f\"../data/raw/Game Stats/{ID}_games_stats.json\"\n",
    "#     with open(path, \"r\") as file:\n",
    "#         obj = json.load(file)\n",
    "#         obj = pd.json_normalize(obj)\n",
    "#     obj = obj.rename(columns=rename_cols)\n",
    "#     df = pd.concat([df, obj], ignore_index=True)\n",
    "    "
   ]
  },
  {
   "cell_type": "code",
   "execution_count": 173,
   "metadata": {},
   "outputs": [],
   "source": [
    "# type_casting = {\"PlayerId\": str, \"CreatedAt\": \"datetime64[ns]\", \"Kills\": int, \"Deaths\": int, \"Assists\": int, \"Headshots\": int, \"FirstHalfScore\":int, \"SecondHalfScore\": int, \"QuadroKills\": int,  \"TripleKills\": int, \"PentaKills\": int, \"Mvps\": int, \"OvertimeScore\": int, \"Rounds\": int}\n",
    "# df = df.astype(type_casting)"
   ]
  },
  {
   "cell_type": "code",
   "execution_count": 165,
   "metadata": {},
   "outputs": [],
   "source": [
    "# df.to_pickle(\"dataCompressed.pkl\", compression=\"zip\")"
   ]
  },
  {
   "cell_type": "code",
   "execution_count": 172,
   "metadata": {},
   "outputs": [],
   "source": [
    "# read_files = glob.glob(\"../data/raw/Game Stats/*_games_stats.json\")\n",
    "# output_list = []\n",
    "\n",
    "# for f in read_files:\n",
    "#     with open(f, \"rb\") as infile:\n",
    "#         output_list.append(json.load(infile))\n",
    "\n",
    "# all_items = []\n",
    "# for json_file in output_list:\n",
    "#     all_items += json_file['items']\n",
    "\n",
    "# textfile_merged = open('merged_json.json', 'w')\n",
    "# json.dump({ \"items\": all_items }, textfile_merged)\n",
    "# textfile_merged.close()"
   ]
  },
  {
   "cell_type": "code",
   "execution_count": 94,
   "metadata": {},
   "outputs": [],
   "source": [
    "def transform_dataframe():\n",
    "    columns_to_keep_games_stats = [\"PlayerId\", \"CreatedAt\", \"Kills\", \"Deaths\", \"Assists\", \"Headshots\", \"FirstHalfScore\", \"SecondHalfScore\",'QuadroKills', 'TripleKills', 'PentaKills', 'Mvps', \"OvertimeScore\", \"Rounds\", \"Score\", \"Result\"]\n",
    "    "
   ]
  },
  {
   "cell_type": "code",
   "execution_count": null,
   "metadata": {},
   "outputs": [],
   "source": []
  }
 ],
 "metadata": {
  "kernelspec": {
   "display_name": "Python 3",
   "language": "python",
   "name": "python3"
  },
  "language_info": {
   "codemirror_mode": {
    "name": "ipython",
    "version": 3
   },
   "file_extension": ".py",
   "mimetype": "text/x-python",
   "name": "python",
   "nbconvert_exporter": "python",
   "pygments_lexer": "ipython3",
   "version": "3.9.2"
  }
 },
 "nbformat": 4,
 "nbformat_minor": 2
}
