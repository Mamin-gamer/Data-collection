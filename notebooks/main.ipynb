{
 "cells": [
  {
   "cell_type": "code",
   "execution_count": 30,
   "metadata": {},
   "outputs": [
    {
     "data": {
      "text/plain": [
       "True"
      ]
     },
     "execution_count": 30,
     "metadata": {},
     "output_type": "execute_result"
    }
   ],
   "source": [
    "import requests\n",
    "import pandas as pd\n",
    "import numpy as np\n",
    "import json\n",
    "import os\n",
    "from dotenv import load_dotenv, find_dotenv\n",
    "\n",
    "\n",
    "dotenv_path = find_dotenv()\n",
    "load_dotenv(dotenv_path)"
   ]
  },
  {
   "cell_type": "code",
   "execution_count": 3,
   "metadata": {},
   "outputs": [],
   "source": [
    "FACEIT_PLAYERID = os.environ.get(\"FACEIT_PLAYERID\")\n",
    "KEY = os.environ.get(\"KEY\")\n",
    "HEADER = {\"Authorization\": f\"Bearer {KEY}\"}\n",
    "BASIC_URL = \"https://open.faceit.com/data/v4/\""
   ]
  },
  {
   "cell_type": "code",
   "execution_count": 4,
   "metadata": {},
   "outputs": [],
   "source": [
    "\n",
    "#used to retreive time registered and elo\n",
    "def retreive_player_by_id(id: str) -> dict:\n",
    "    response = shorter_url(url=f\"players/{id}\")\n",
    "    return response\n",
    "# used to shorted the URL and not to specify header every time\n",
    "def shorter_url(url = \"\") -> dict:\n",
    "    request = BASIC_URL + url\n",
    "    return requests.get(request, headers = HEADER).json()\n",
    "\n",
    "#gets number of games for paginaition\n",
    "def get_number_of_games_played(id: str) -> int:\n",
    "    response = int(shorter_url(url = f\"players/{id}/stats/csgo\")[\"lifetime\"][\"Matches\"])\n",
    "    return response\n",
    "\n",
    "#retreived time registered\n",
    "def get_time_registered(id: str) -> str:\n",
    "    response = retreive_player_by_id(id)\n",
    "    return response[\"activated_at\"]\n",
    "\n",
    "\n",
    "#retreived elo and level\n",
    "def get_level_elo(id: str) -> int:\n",
    "    response = retreive_player_by_id(id)\n",
    "    return (response[\"games\"][\"csgo\"][\"skill_level\"], response[\"games\"][\"csgo\"][\"faceit_elo\"])\n",
    "\n",
    "\n",
    "#retreived all stats from all matches\n",
    "def retreive_player_game_stats(id: str, offset = 0, limit = 100) -> dict:\n",
    "    games_played = get_number_of_games_played(id)\n",
    "    offset = 0\n",
    "    times_to_run = games_played // limit\n",
    "    response_array = []\n",
    "\n",
    "    while times_to_run > 0:\n",
    "        response = shorter_url(url = f\"players/{id}/games/csgo/stats?offset={offset}&limit={limit}\")[\"items\"]\n",
    "        response_array.extend(response)\n",
    "        times_to_run-=1\n",
    "        offset+=limit\n",
    "        \n",
    "    else:\n",
    "        response = shorter_url(url = f\"players/{id}/games/csgo/stats?offset={offset}&limit={limit}\")[\"items\"]\n",
    "        response_array.extend(response)\n",
    "    return response_array\n",
    "\n",
    "\n",
    "# use for myself once only\n",
    "def retreive_player_history(id: str, offset = 0, limit = 100) -> dict:\n",
    "    games_played = get_number_of_games_played(id)\n",
    "    registered = get_time_registered(id)\n",
    "    registered = int(pd.Timestamp(registered).timestamp())\n",
    "    offset = 0\n",
    "    times_to_run = games_played // limit\n",
    "    response_array = []\n",
    "\n",
    "    while times_to_run > 0:\n",
    "        response = shorter_url(url = f\"players/{id}/history?game=csgo&from={registered}&offset={offset}&limit={limit}\")[\"items\"]\n",
    "        response_array.extend(response)\n",
    "        times_to_run-=1\n",
    "        offset+=limit\n",
    "        \n",
    "    else:\n",
    "        response = shorter_url(url = f\"players/{id}/history?game=csgo&from={registered}&offset={offset}&limit={limit}\")[\"items\"]\n",
    "        response_array.extend(response[1::])\n",
    "    return response_array\n",
    "\n",
    "\n"
   ]
  },
  {
   "cell_type": "code",
   "execution_count": 9,
   "metadata": {},
   "outputs": [],
   "source": [
    "# MatchHistory = retreive_player_history(FACEIT_PLAYERID)\n",
    "# with open(f\"../data/raw/{FACEIT_PLAYERID}_match_history.json\", \"w\") as file:\n",
    "#     json.dump(MatchHistory, file )   "
   ]
  },
  {
   "cell_type": "code",
   "execution_count": 6,
   "metadata": {},
   "outputs": [],
   "source": [
    "# GamesStats = retreive_player_game_stats(FACEIT_PLAYERID)\n",
    "# with open(f\"../data/raw/{FACEIT_PLAYERID}_games_stats.json\", \"w\") as file:\n",
    "#     json.dump(GamesStats, file )"
   ]
  },
  {
   "cell_type": "code",
   "execution_count": 51,
   "metadata": {},
   "outputs": [],
   "source": [
    "def get_all_players_id():\n",
    "    with open(f\"../data/raw/{FACEIT_PLAYERID}_match_history.json\", \"r\") as file:\n",
    "        # df = pd.json_normalize(file, max_level=4)\n",
    "        obj = json.load(file)\n",
    "        list_2D = (list(map(lambda x: x[\"playing_players\"], obj)))\n",
    "        list_1D = {item for sub_list in list_2D for item in sub_list}\n",
    "\n",
    "    return list_1D"
   ]
  },
  {
   "cell_type": "code",
   "execution_count": 52,
   "metadata": {},
   "outputs": [],
   "source": [
    "players_IDs = get_all_players_id()"
   ]
  },
  {
   "cell_type": "code",
   "execution_count": 55,
   "metadata": {},
   "outputs": [],
   "source": [
    "sample = list(players_IDs)[0:10]"
   ]
  },
  {
   "cell_type": "code",
   "execution_count": null,
   "metadata": {},
   "outputs": [],
   "source": []
  },
  {
   "cell_type": "code",
   "execution_count": 63,
   "metadata": {},
   "outputs": [],
   "source": [
    "def download_player_data(id: str) -> None:\n",
    "    data = retreive_player_game_stats(id)\n",
    "    with open(f\"../data/raw/{id}_match_history.json\", \"w\") as file:\n",
    "        json.dump(data, file)"
   ]
  },
  {
   "cell_type": "code",
   "execution_count": 64,
   "metadata": {},
   "outputs": [],
   "source": [
    "for id in sample:\n",
    "    download_player_data(id)"
   ]
  },
  {
   "cell_type": "code",
   "execution_count": null,
   "metadata": {},
   "outputs": [],
   "source": []
  },
  {
   "cell_type": "code",
   "execution_count": 88,
   "metadata": {},
   "outputs": [],
   "source": [
    "with open(\"../data/raw/Game Stats/40476548-200a-4e2b-8db2-0d8c98765efc_games_stats.json\", \"r\") as file:\n",
    "    df = json.load(file)"
   ]
  },
  {
   "cell_type": "code",
   "execution_count": 89,
   "metadata": {},
   "outputs": [],
   "source": [
    "df = pd.json_normalize(df)"
   ]
  },
  {
   "cell_type": "code",
   "execution_count": 90,
   "metadata": {},
   "outputs": [],
   "source": [
    "def rename_cols(text: str):\n",
    "    text = text.split(\".\")[1]\n",
    "    text = text.split(\" \")\n",
    "    text = \"\".join(list(map(str.capitalize, text)))\n",
    "    return text\n",
    "\n",
    "df.rename(columns=rename_cols, inplace=True)"
   ]
  },
  {
   "cell_type": "code",
   "execution_count": 92,
   "metadata": {},
   "outputs": [
    {
     "data": {
      "text/plain": [
       "Index(['Region', 'CreatedAt', 'FinalScore', 'UpdatedAt', 'K/dRatio',\n",
       "       'MatchRound', 'Kills', 'QuadroKills', 'TripleKills', 'Result',\n",
       "       'PentaKills', 'Mvps', 'FirstHalfScore', 'BestOf', 'Map', 'Game',\n",
       "       'MatchId', 'Deaths', 'Rounds', 'SecondHalfScore', 'GameMode', 'Score',\n",
       "       'Nickname', 'PlayerId', 'OvertimeScore', 'CompetitionId', 'Headshots%',\n",
       "       'Team', 'K/rRatio', 'Headshots', 'Winner', 'Assists'],\n",
       "      dtype='object')"
      ]
     },
     "execution_count": 92,
     "metadata": {},
     "output_type": "execute_result"
    }
   ],
   "source": [
    "df.columns"
   ]
  },
  {
   "cell_type": "code",
   "execution_count": 93,
   "metadata": {},
   "outputs": [
    {
     "data": {
      "text/plain": [
       "0    0\n",
       "1    0\n",
       "2    0\n",
       "Name: OvertimeScore, dtype: object"
      ]
     },
     "execution_count": 93,
     "metadata": {},
     "output_type": "execute_result"
    }
   ],
   "source": [
    "df[\"OvertimeScore\"]"
   ]
  },
  {
   "cell_type": "code",
   "execution_count": 91,
   "metadata": {},
   "outputs": [
    {
     "data": {
      "text/html": [
       "<div>\n",
       "<style scoped>\n",
       "    .dataframe tbody tr th:only-of-type {\n",
       "        vertical-align: middle;\n",
       "    }\n",
       "\n",
       "    .dataframe tbody tr th {\n",
       "        vertical-align: top;\n",
       "    }\n",
       "\n",
       "    .dataframe thead th {\n",
       "        text-align: right;\n",
       "    }\n",
       "</style>\n",
       "<table border=\"1\" class=\"dataframe\">\n",
       "  <thead>\n",
       "    <tr style=\"text-align: right;\">\n",
       "      <th></th>\n",
       "      <th>Region</th>\n",
       "      <th>CreatedAt</th>\n",
       "      <th>FinalScore</th>\n",
       "      <th>UpdatedAt</th>\n",
       "      <th>K/dRatio</th>\n",
       "      <th>MatchRound</th>\n",
       "      <th>Kills</th>\n",
       "      <th>QuadroKills</th>\n",
       "      <th>TripleKills</th>\n",
       "      <th>Result</th>\n",
       "      <th>...</th>\n",
       "      <th>Nickname</th>\n",
       "      <th>PlayerId</th>\n",
       "      <th>OvertimeScore</th>\n",
       "      <th>CompetitionId</th>\n",
       "      <th>Headshots%</th>\n",
       "      <th>Team</th>\n",
       "      <th>K/rRatio</th>\n",
       "      <th>Headshots</th>\n",
       "      <th>Winner</th>\n",
       "      <th>Assists</th>\n",
       "    </tr>\n",
       "  </thead>\n",
       "  <tbody>\n",
       "    <tr>\n",
       "      <th>0</th>\n",
       "      <td>EU</td>\n",
       "      <td>2017-08-14T07:24:37.965Z</td>\n",
       "      <td>1</td>\n",
       "      <td>2017-08-14T07:24:57.654Z</td>\n",
       "      <td>0.62</td>\n",
       "      <td>1</td>\n",
       "      <td>5</td>\n",
       "      <td>0</td>\n",
       "      <td>0</td>\n",
       "      <td>0</td>\n",
       "      <td>...</td>\n",
       "      <td>Andryxa_aga</td>\n",
       "      <td>40476548-200a-4e2b-8db2-0d8c98765efc</td>\n",
       "      <td>0</td>\n",
       "      <td></td>\n",
       "      <td>60</td>\n",
       "      <td>team__RED_1488</td>\n",
       "      <td>0.5</td>\n",
       "      <td>3</td>\n",
       "      <td>d189dcb2-8bd9-4b6c-9b0f-783ba385a697</td>\n",
       "      <td>0</td>\n",
       "    </tr>\n",
       "    <tr>\n",
       "      <th>1</th>\n",
       "      <td>EU</td>\n",
       "      <td>2017-07-30T21:28:56.944Z</td>\n",
       "      <td>6</td>\n",
       "      <td>2017-07-30T21:29:12.899Z</td>\n",
       "      <td>0.61</td>\n",
       "      <td>1</td>\n",
       "      <td>11</td>\n",
       "      <td>0</td>\n",
       "      <td>1</td>\n",
       "      <td>0</td>\n",
       "      <td>...</td>\n",
       "      <td>Andryxa_aga</td>\n",
       "      <td>40476548-200a-4e2b-8db2-0d8c98765efc</td>\n",
       "      <td>0</td>\n",
       "      <td></td>\n",
       "      <td>18</td>\n",
       "      <td>team_zokuuu01</td>\n",
       "      <td>0.5</td>\n",
       "      <td>2</td>\n",
       "      <td>e9bc2ad4-d3e5-4093-91e3-eeb3095f5c49</td>\n",
       "      <td>0</td>\n",
       "    </tr>\n",
       "    <tr>\n",
       "      <th>2</th>\n",
       "      <td>EU</td>\n",
       "      <td>2017-07-30T20:25:29.367Z</td>\n",
       "      <td>10</td>\n",
       "      <td>2017-07-30T20:25:44.065Z</td>\n",
       "      <td>0.53</td>\n",
       "      <td>1</td>\n",
       "      <td>9</td>\n",
       "      <td>0</td>\n",
       "      <td>0</td>\n",
       "      <td>0</td>\n",
       "      <td>...</td>\n",
       "      <td>Andryxa_aga</td>\n",
       "      <td>40476548-200a-4e2b-8db2-0d8c98765efc</td>\n",
       "      <td>0</td>\n",
       "      <td></td>\n",
       "      <td>11</td>\n",
       "      <td>team_debczukm</td>\n",
       "      <td>0.35</td>\n",
       "      <td>1</td>\n",
       "      <td>66ee92f5-600e-4cf1-a3d1-f62af86cd85a</td>\n",
       "      <td>4</td>\n",
       "    </tr>\n",
       "  </tbody>\n",
       "</table>\n",
       "<p>3 rows × 32 columns</p>\n",
       "</div>"
      ],
      "text/plain": [
       "  Region                 CreatedAt FinalScore                 UpdatedAt  \\\n",
       "0     EU  2017-08-14T07:24:37.965Z          1  2017-08-14T07:24:57.654Z   \n",
       "1     EU  2017-07-30T21:28:56.944Z          6  2017-07-30T21:29:12.899Z   \n",
       "2     EU  2017-07-30T20:25:29.367Z         10  2017-07-30T20:25:44.065Z   \n",
       "\n",
       "  K/dRatio MatchRound Kills QuadroKills TripleKills Result  ...     Nickname  \\\n",
       "0     0.62          1     5           0           0      0  ...  Andryxa_aga   \n",
       "1     0.61          1    11           0           1      0  ...  Andryxa_aga   \n",
       "2     0.53          1     9           0           0      0  ...  Andryxa_aga   \n",
       "\n",
       "                               PlayerId OvertimeScore CompetitionId  \\\n",
       "0  40476548-200a-4e2b-8db2-0d8c98765efc             0                 \n",
       "1  40476548-200a-4e2b-8db2-0d8c98765efc             0                 \n",
       "2  40476548-200a-4e2b-8db2-0d8c98765efc             0                 \n",
       "\n",
       "  Headshots%            Team K/rRatio Headshots  \\\n",
       "0         60  team__RED_1488      0.5         3   \n",
       "1         18   team_zokuuu01      0.5         2   \n",
       "2         11   team_debczukm     0.35         1   \n",
       "\n",
       "                                 Winner Assists  \n",
       "0  d189dcb2-8bd9-4b6c-9b0f-783ba385a697       0  \n",
       "1  e9bc2ad4-d3e5-4093-91e3-eeb3095f5c49       0  \n",
       "2  66ee92f5-600e-4cf1-a3d1-f62af86cd85a       4  \n",
       "\n",
       "[3 rows x 32 columns]"
      ]
     },
     "execution_count": 91,
     "metadata": {},
     "output_type": "execute_result"
    }
   ],
   "source": [
    "columns_to_keep_games_stats = [\"PlayerId\", \"CreatedAt\", \"Kills\", \"Deaths\", \"Assists\", \"Headshots\", \"FirstHalfScore\", \"SecondHalfScore\",'QuadroKills', 'TripleKills', 'PentaKills', 'Mvps', \"OvertimeScore\", \"Rounds\", \"Score\", \"Result\"]"
   ]
  },
  {
   "cell_type": "code",
   "execution_count": null,
   "metadata": {},
   "outputs": [],
   "source": []
  }
 ],
 "metadata": {
  "kernelspec": {
   "display_name": "Python 3",
   "language": "python",
   "name": "python3"
  },
  "language_info": {
   "codemirror_mode": {
    "name": "ipython",
    "version": 3
   },
   "file_extension": ".py",
   "mimetype": "text/x-python",
   "name": "python",
   "nbconvert_exporter": "python",
   "pygments_lexer": "ipython3",
   "version": "3.9.2"
  }
 },
 "nbformat": 4,
 "nbformat_minor": 2
}
