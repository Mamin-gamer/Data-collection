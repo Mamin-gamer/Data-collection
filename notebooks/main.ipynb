{
 "cells": [
  {
   "cell_type": "code",
   "execution_count": 84,
   "metadata": {},
   "outputs": [
    {
     "data": {
      "text/plain": [
       "True"
      ]
     },
     "execution_count": 84,
     "metadata": {},
     "output_type": "execute_result"
    }
   ],
   "source": [
    "import requests\n",
    "import pandas as pd\n",
    "import json\n",
    "\n",
    "import datetime\n",
    "import os\n",
    "from dotenv import load_dotenv, find_dotenv\n",
    "\n",
    "\n",
    "dotenv_path = find_dotenv()\n",
    "load_dotenv(dotenv_path)"
   ]
  },
  {
   "cell_type": "code",
   "execution_count": 51,
   "metadata": {},
   "outputs": [],
   "source": [
    "FACEIT_PLAYERID = os.environ.get(\"FACEIT_PLAYERID\")\n",
    "KEY = os.environ.get(\"KEY\")\n",
    "HEADER = {\"Authorization\": f\"Bearer {KEY}\"}\n",
    "BASIC_URL = \"https://open.faceit.com/data/v4/\""
   ]
  },
  {
   "cell_type": "code",
   "execution_count": 107,
   "metadata": {},
   "outputs": [],
   "source": [
    "def shorter_url(url = \"\") -> dict:\n",
    "    request = BASIC_URL + url\n",
    "    return requests.get(request, headers = HEADER).json()\n",
    "\n",
    "def retreive_player_by_id(id: str) -> dict:\n",
    "    response = shorter_url(url=f\"players/{id}\")\n",
    "    return response\n",
    "\n",
    "def retreive_player_game_stats(id: str) -> dict:\n",
    "    response = shorter_url(url=f\"players/{id}/games/csgo/stats\")\n",
    "    return response\n",
    "\n",
    "def get_number_of_games_played(id: str) -> int:\n",
    "    response = int(shorter_url(url = f\"players/{id}/stats/csgo\")[\"lifetime\"][\"Matches\"])\n",
    "    return response\n",
    "\n",
    "def retreive_player_stats_overall(id: str) -> dict:\n",
    "    response = shorter_url(url = f\"players/{id}\")\n",
    "    return response\n",
    "\n",
    "def get_time_registered(id: str) -> str:\n",
    "    response = retreive_player_stats_overall(id)\n",
    "    return response[\"activated_at\"]\n",
    "\n",
    "def retreive_player_history(id: str, offset = 0, limit = 100) -> dict:\n",
    "    games_played = get_number_of_games_played(id)\n",
    "    registered = get_time_registered(id)\n",
    "    registered = int(pd.Timestamp(registered).timestamp())\n",
    "    offset = 0\n",
    "    times_to_run = games_played // limit\n",
    "    response_array = []\n",
    "\n",
    "    while times_to_run > 0:\n",
    "        response = shorter_url(url = f\"players/{id}/history?game=csgo&from={registered}&offset={offset}&limit={limit}\")[\"items\"]\n",
    "        response_array.extend(response)\n",
    "        times_to_run-=1\n",
    "        offset+=limit\n",
    "        \n",
    "    else:\n",
    "        response = shorter_url(url = f\"players/{id}/history?game=csgo&from={registered}&offset={offset}&limit={limit}\")[\"items\"]\n",
    "        response_array.extend(response[1::])\n",
    "    return response_array"
   ]
  },
  {
   "cell_type": "code",
   "execution_count": null,
   "metadata": {},
   "outputs": [],
   "source": []
  },
  {
   "cell_type": "code",
   "execution_count": null,
   "metadata": {},
   "outputs": [],
   "source": []
  },
  {
   "cell_type": "code",
   "execution_count": null,
   "metadata": {},
   "outputs": [],
   "source": []
  }
 ],
 "metadata": {
  "kernelspec": {
   "display_name": "Python 3",
   "language": "python",
   "name": "python3"
  },
  "language_info": {
   "codemirror_mode": {
    "name": "ipython",
    "version": 3
   },
   "file_extension": ".py",
   "mimetype": "text/x-python",
   "name": "python",
   "nbconvert_exporter": "python",
   "pygments_lexer": "ipython3",
   "version": "3.9.2"
  }
 },
 "nbformat": 4,
 "nbformat_minor": 2
}
